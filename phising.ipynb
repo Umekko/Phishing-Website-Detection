{
 "cells": [
  {
   "cell_type": "code",
   "execution_count": 1,
   "metadata": {},
   "outputs": [
    {
     "name": "stdout",
     "output_type": "stream",
     "text": [
      "Requirement already satisfied: pandas in c:\\users\\admin\\onedrive\\pictures\\documents\\github\\data-science-for-beginners-from-scratch-senatorov\\.conda\\lib\\site-packages (2.2.3)\n",
      "Requirement already satisfied: numpy>=1.23.2 in c:\\users\\admin\\onedrive\\pictures\\documents\\github\\data-science-for-beginners-from-scratch-senatorov\\.conda\\lib\\site-packages (from pandas) (2.2.1)\n",
      "Requirement already satisfied: python-dateutil>=2.8.2 in c:\\users\\admin\\onedrive\\pictures\\documents\\github\\data-science-for-beginners-from-scratch-senatorov\\.conda\\lib\\site-packages (from pandas) (2.9.0.post0)\n",
      "Requirement already satisfied: pytz>=2020.1 in c:\\users\\admin\\onedrive\\pictures\\documents\\github\\data-science-for-beginners-from-scratch-senatorov\\.conda\\lib\\site-packages (from pandas) (2024.2)\n",
      "Requirement already satisfied: tzdata>=2022.7 in c:\\users\\admin\\onedrive\\pictures\\documents\\github\\data-science-for-beginners-from-scratch-senatorov\\.conda\\lib\\site-packages (from pandas) (2024.2)\n",
      "Requirement already satisfied: six>=1.5 in c:\\users\\admin\\onedrive\\pictures\\documents\\github\\data-science-for-beginners-from-scratch-senatorov\\.conda\\lib\\site-packages (from python-dateutil>=2.8.2->pandas) (1.16.0)\n",
      "Note: you may need to restart the kernel to use updated packages.\n"
     ]
    }
   ],
   "source": [
    "pip install pandas"
   ]
  },
  {
   "cell_type": "code",
   "execution_count": 2,
   "metadata": {},
   "outputs": [
    {
     "name": "stdout",
     "output_type": "stream",
     "text": [
      "Requirement already satisfied: torch in c:\\users\\admin\\onedrive\\pictures\\documents\\github\\data-science-for-beginners-from-scratch-senatorov\\.conda\\lib\\site-packages (2.5.1)\n",
      "Requirement already satisfied: filelock in c:\\users\\admin\\onedrive\\pictures\\documents\\github\\data-science-for-beginners-from-scratch-senatorov\\.conda\\lib\\site-packages (from torch) (3.16.1)\n",
      "Requirement already satisfied: typing-extensions>=4.8.0 in c:\\users\\admin\\onedrive\\pictures\\documents\\github\\data-science-for-beginners-from-scratch-senatorov\\.conda\\lib\\site-packages (from torch) (4.12.2)\n",
      "Requirement already satisfied: networkx in c:\\users\\admin\\onedrive\\pictures\\documents\\github\\data-science-for-beginners-from-scratch-senatorov\\.conda\\lib\\site-packages (from torch) (3.4.2)\n",
      "Requirement already satisfied: jinja2 in c:\\users\\admin\\onedrive\\pictures\\documents\\github\\data-science-for-beginners-from-scratch-senatorov\\.conda\\lib\\site-packages (from torch) (3.1.5)\n",
      "Requirement already satisfied: fsspec in c:\\users\\admin\\onedrive\\pictures\\documents\\github\\data-science-for-beginners-from-scratch-senatorov\\.conda\\lib\\site-packages (from torch) (2024.12.0)\n",
      "Requirement already satisfied: sympy==1.13.1 in c:\\users\\admin\\onedrive\\pictures\\documents\\github\\data-science-for-beginners-from-scratch-senatorov\\.conda\\lib\\site-packages (from torch) (1.13.1)\n",
      "Requirement already satisfied: mpmath<1.4,>=1.1.0 in c:\\users\\admin\\onedrive\\pictures\\documents\\github\\data-science-for-beginners-from-scratch-senatorov\\.conda\\lib\\site-packages (from sympy==1.13.1->torch) (1.3.0)\n",
      "Requirement already satisfied: MarkupSafe>=2.0 in c:\\users\\admin\\onedrive\\pictures\\documents\\github\\data-science-for-beginners-from-scratch-senatorov\\.conda\\lib\\site-packages (from jinja2->torch) (3.0.2)\n",
      "Note: you may need to restart the kernel to use updated packages.\n"
     ]
    }
   ],
   "source": [
    "pip install torch"
   ]
  },
  {
   "cell_type": "code",
   "execution_count": 3,
   "metadata": {},
   "outputs": [
    {
     "name": "stdout",
     "output_type": "stream",
     "text": [
      "Requirement already satisfied: scikit-learn in c:\\users\\admin\\onedrive\\pictures\\documents\\github\\data-science-for-beginners-from-scratch-senatorov\\.conda\\lib\\site-packages (1.6.1)\n",
      "Requirement already satisfied: numpy>=1.19.5 in c:\\users\\admin\\onedrive\\pictures\\documents\\github\\data-science-for-beginners-from-scratch-senatorov\\.conda\\lib\\site-packages (from scikit-learn) (2.2.1)\n",
      "Requirement already satisfied: scipy>=1.6.0 in c:\\users\\admin\\onedrive\\pictures\\documents\\github\\data-science-for-beginners-from-scratch-senatorov\\.conda\\lib\\site-packages (from scikit-learn) (1.15.0)\n",
      "Requirement already satisfied: joblib>=1.2.0 in c:\\users\\admin\\onedrive\\pictures\\documents\\github\\data-science-for-beginners-from-scratch-senatorov\\.conda\\lib\\site-packages (from scikit-learn) (1.4.2)\n",
      "Requirement already satisfied: threadpoolctl>=3.1.0 in c:\\users\\admin\\onedrive\\pictures\\documents\\github\\data-science-for-beginners-from-scratch-senatorov\\.conda\\lib\\site-packages (from scikit-learn) (3.5.0)\n",
      "Note: you may need to restart the kernel to use updated packages.\n"
     ]
    }
   ],
   "source": [
    "pip install scikit-learn"
   ]
  },
  {
   "cell_type": "code",
   "execution_count": 4,
   "metadata": {},
   "outputs": [
    {
     "name": "stdout",
     "output_type": "stream",
     "text": [
      "Requirement already satisfied: optuna in c:\\users\\admin\\onedrive\\pictures\\documents\\github\\data-science-for-beginners-from-scratch-senatorov\\.conda\\lib\\site-packages (4.1.0)\n",
      "Requirement already satisfied: alembic>=1.5.0 in c:\\users\\admin\\onedrive\\pictures\\documents\\github\\data-science-for-beginners-from-scratch-senatorov\\.conda\\lib\\site-packages (from optuna) (1.14.0)\n",
      "Requirement already satisfied: colorlog in c:\\users\\admin\\onedrive\\pictures\\documents\\github\\data-science-for-beginners-from-scratch-senatorov\\.conda\\lib\\site-packages (from optuna) (6.9.0)\n",
      "Requirement already satisfied: numpy in c:\\users\\admin\\onedrive\\pictures\\documents\\github\\data-science-for-beginners-from-scratch-senatorov\\.conda\\lib\\site-packages (from optuna) (2.2.1)\n",
      "Requirement already satisfied: packaging>=20.0 in c:\\users\\admin\\onedrive\\pictures\\documents\\github\\data-science-for-beginners-from-scratch-senatorov\\.conda\\lib\\site-packages (from optuna) (24.2)\n",
      "Requirement already satisfied: sqlalchemy>=1.4.2 in c:\\users\\admin\\onedrive\\pictures\\documents\\github\\data-science-for-beginners-from-scratch-senatorov\\.conda\\lib\\site-packages (from optuna) (2.0.37)\n",
      "Requirement already satisfied: tqdm in c:\\users\\admin\\onedrive\\pictures\\documents\\github\\data-science-for-beginners-from-scratch-senatorov\\.conda\\lib\\site-packages (from optuna) (4.67.1)\n",
      "Requirement already satisfied: PyYAML in c:\\users\\admin\\onedrive\\pictures\\documents\\github\\data-science-for-beginners-from-scratch-senatorov\\.conda\\lib\\site-packages (from optuna) (6.0.2)\n",
      "Requirement already satisfied: Mako in c:\\users\\admin\\onedrive\\pictures\\documents\\github\\data-science-for-beginners-from-scratch-senatorov\\.conda\\lib\\site-packages (from alembic>=1.5.0->optuna) (1.3.8)\n",
      "Requirement already satisfied: typing-extensions>=4 in c:\\users\\admin\\onedrive\\pictures\\documents\\github\\data-science-for-beginners-from-scratch-senatorov\\.conda\\lib\\site-packages (from alembic>=1.5.0->optuna) (4.12.2)\n",
      "Requirement already satisfied: greenlet!=0.4.17 in c:\\users\\admin\\onedrive\\pictures\\documents\\github\\data-science-for-beginners-from-scratch-senatorov\\.conda\\lib\\site-packages (from sqlalchemy>=1.4.2->optuna) (3.1.1)\n",
      "Requirement already satisfied: colorama in c:\\users\\admin\\onedrive\\pictures\\documents\\github\\data-science-for-beginners-from-scratch-senatorov\\.conda\\lib\\site-packages (from colorlog->optuna) (0.4.6)\n",
      "Requirement already satisfied: MarkupSafe>=0.9.2 in c:\\users\\admin\\onedrive\\pictures\\documents\\github\\data-science-for-beginners-from-scratch-senatorov\\.conda\\lib\\site-packages (from Mako->alembic>=1.5.0->optuna) (3.0.2)\n",
      "Note: you may need to restart the kernel to use updated packages.\n"
     ]
    }
   ],
   "source": [
    "pip install optuna"
   ]
  },
  {
   "cell_type": "code",
   "execution_count": 5,
   "metadata": {},
   "outputs": [
    {
     "name": "stdout",
     "output_type": "stream",
     "text": [
      "Requirement already satisfied: matplotlib in c:\\users\\admin\\onedrive\\pictures\\documents\\github\\data-science-for-beginners-from-scratch-senatorov\\.conda\\lib\\site-packages (3.10.0)\n",
      "Requirement already satisfied: contourpy>=1.0.1 in c:\\users\\admin\\onedrive\\pictures\\documents\\github\\data-science-for-beginners-from-scratch-senatorov\\.conda\\lib\\site-packages (from matplotlib) (1.3.1)\n",
      "Requirement already satisfied: cycler>=0.10 in c:\\users\\admin\\onedrive\\pictures\\documents\\github\\data-science-for-beginners-from-scratch-senatorov\\.conda\\lib\\site-packages (from matplotlib) (0.12.1)\n",
      "Requirement already satisfied: fonttools>=4.22.0 in c:\\users\\admin\\onedrive\\pictures\\documents\\github\\data-science-for-beginners-from-scratch-senatorov\\.conda\\lib\\site-packages (from matplotlib) (4.55.3)\n",
      "Requirement already satisfied: kiwisolver>=1.3.1 in c:\\users\\admin\\onedrive\\pictures\\documents\\github\\data-science-for-beginners-from-scratch-senatorov\\.conda\\lib\\site-packages (from matplotlib) (1.4.8)\n",
      "Requirement already satisfied: numpy>=1.23 in c:\\users\\admin\\onedrive\\pictures\\documents\\github\\data-science-for-beginners-from-scratch-senatorov\\.conda\\lib\\site-packages (from matplotlib) (2.2.1)\n",
      "Requirement already satisfied: packaging>=20.0 in c:\\users\\admin\\onedrive\\pictures\\documents\\github\\data-science-for-beginners-from-scratch-senatorov\\.conda\\lib\\site-packages (from matplotlib) (24.2)\n",
      "Requirement already satisfied: pillow>=8 in c:\\users\\admin\\onedrive\\pictures\\documents\\github\\data-science-for-beginners-from-scratch-senatorov\\.conda\\lib\\site-packages (from matplotlib) (11.1.0)\n",
      "Requirement already satisfied: pyparsing>=2.3.1 in c:\\users\\admin\\onedrive\\pictures\\documents\\github\\data-science-for-beginners-from-scratch-senatorov\\.conda\\lib\\site-packages (from matplotlib) (3.2.1)\n",
      "Requirement already satisfied: python-dateutil>=2.7 in c:\\users\\admin\\onedrive\\pictures\\documents\\github\\data-science-for-beginners-from-scratch-senatorov\\.conda\\lib\\site-packages (from matplotlib) (2.9.0.post0)\n",
      "Requirement already satisfied: six>=1.5 in c:\\users\\admin\\onedrive\\pictures\\documents\\github\\data-science-for-beginners-from-scratch-senatorov\\.conda\\lib\\site-packages (from python-dateutil>=2.7->matplotlib) (1.16.0)\n",
      "Note: you may need to restart the kernel to use updated packages.\n"
     ]
    }
   ],
   "source": [
    "pip install matplotlib"
   ]
  },
  {
   "cell_type": "code",
   "execution_count": 48,
   "metadata": {},
   "outputs": [],
   "source": [
    "import pandas as pd\n",
    "import numpy as np\n",
    "\n",
    "from tqdm import tqdm\n",
    "import optuna\n",
    "import matplotlib.pyplot as plt\n",
    "\n",
    "from sklearn.feature_selection import mutual_info_classif\n",
    "from sklearn.ensemble import RandomForestClassifier\n",
    "from sklearn.metrics import classification_report, roc_auc_score, RocCurveDisplay, accuracy_score, ConfusionMatrixDisplay\n",
    "from sklearn.model_selection import cross_val_score, train_test_split\n",
    "from sklearn.linear_model  import LogisticRegression\n",
    "from sklearn.preprocessing import StandardScaler, MinMaxScaler\n",
    "from sklearn.pipeline import Pipeline"
   ]
  },
  {
   "cell_type": "code",
   "execution_count": 7,
   "metadata": {},
   "outputs": [],
   "source": [
    "from sklearn.model_selection import cross_val_score, train_test_split"
   ]
  },
  {
   "cell_type": "code",
   "execution_count": 8,
   "metadata": {},
   "outputs": [],
   "source": [
    "import torch\n",
    "\n",
    "device = torch.device('cuda') if torch.cuda.is_available() else torch.device('cpu')"
   ]
  },
  {
   "cell_type": "code",
   "execution_count": 9,
   "metadata": {},
   "outputs": [
    {
     "data": {
      "text/plain": [
       "False"
      ]
     },
     "execution_count": 9,
     "metadata": {},
     "output_type": "execute_result"
    }
   ],
   "source": [
    "torch.cuda.is_available()"
   ]
  },
  {
   "cell_type": "code",
   "execution_count": 7,
   "metadata": {},
   "outputs": [
    {
     "data": {
      "text/plain": [
       "device(type='cpu')"
      ]
     },
     "execution_count": 7,
     "metadata": {},
     "output_type": "execute_result"
    }
   ],
   "source": [
    "device"
   ]
  },
  {
   "cell_type": "code",
   "execution_count": 8,
   "metadata": {},
   "outputs": [],
   "source": [
    "df = pd.read_csv('dataset_phishing.csv')"
   ]
  },
  {
   "cell_type": "code",
   "execution_count": 73,
   "metadata": {},
   "outputs": [
    {
     "data": {
      "text/html": [
       "<div>\n",
       "<style scoped>\n",
       "    .dataframe tbody tr th:only-of-type {\n",
       "        vertical-align: middle;\n",
       "    }\n",
       "\n",
       "    .dataframe tbody tr th {\n",
       "        vertical-align: top;\n",
       "    }\n",
       "\n",
       "    .dataframe thead th {\n",
       "        text-align: right;\n",
       "    }\n",
       "</style>\n",
       "<table border=\"1\" class=\"dataframe\">\n",
       "  <thead>\n",
       "    <tr style=\"text-align: right;\">\n",
       "      <th></th>\n",
       "      <th>url</th>\n",
       "      <th>length_url</th>\n",
       "      <th>length_hostname</th>\n",
       "      <th>ip</th>\n",
       "      <th>nb_dots</th>\n",
       "      <th>nb_hyphens</th>\n",
       "      <th>nb_at</th>\n",
       "      <th>nb_qm</th>\n",
       "      <th>nb_and</th>\n",
       "      <th>nb_or</th>\n",
       "      <th>...</th>\n",
       "      <th>domain_in_title</th>\n",
       "      <th>domain_with_copyright</th>\n",
       "      <th>whois_registered_domain</th>\n",
       "      <th>domain_registration_length</th>\n",
       "      <th>domain_age</th>\n",
       "      <th>web_traffic</th>\n",
       "      <th>dns_record</th>\n",
       "      <th>google_index</th>\n",
       "      <th>page_rank</th>\n",
       "      <th>status</th>\n",
       "    </tr>\n",
       "  </thead>\n",
       "  <tbody>\n",
       "    <tr>\n",
       "      <th>0</th>\n",
       "      <td>http://www.crestonwood.com/router.php</td>\n",
       "      <td>37</td>\n",
       "      <td>19</td>\n",
       "      <td>0</td>\n",
       "      <td>3</td>\n",
       "      <td>0</td>\n",
       "      <td>0</td>\n",
       "      <td>0</td>\n",
       "      <td>0</td>\n",
       "      <td>0</td>\n",
       "      <td>...</td>\n",
       "      <td>0</td>\n",
       "      <td>1</td>\n",
       "      <td>0</td>\n",
       "      <td>45</td>\n",
       "      <td>-1</td>\n",
       "      <td>0</td>\n",
       "      <td>1</td>\n",
       "      <td>1</td>\n",
       "      <td>4</td>\n",
       "      <td>legitimate</td>\n",
       "    </tr>\n",
       "    <tr>\n",
       "      <th>1</th>\n",
       "      <td>http://shadetreetechnology.com/V4/validation/a...</td>\n",
       "      <td>77</td>\n",
       "      <td>23</td>\n",
       "      <td>1</td>\n",
       "      <td>1</td>\n",
       "      <td>0</td>\n",
       "      <td>0</td>\n",
       "      <td>0</td>\n",
       "      <td>0</td>\n",
       "      <td>0</td>\n",
       "      <td>...</td>\n",
       "      <td>1</td>\n",
       "      <td>0</td>\n",
       "      <td>0</td>\n",
       "      <td>77</td>\n",
       "      <td>5767</td>\n",
       "      <td>0</td>\n",
       "      <td>0</td>\n",
       "      <td>1</td>\n",
       "      <td>2</td>\n",
       "      <td>phishing</td>\n",
       "    </tr>\n",
       "    <tr>\n",
       "      <th>2</th>\n",
       "      <td>https://support-appleld.com.secureupdate.duila...</td>\n",
       "      <td>126</td>\n",
       "      <td>50</td>\n",
       "      <td>1</td>\n",
       "      <td>4</td>\n",
       "      <td>1</td>\n",
       "      <td>0</td>\n",
       "      <td>1</td>\n",
       "      <td>2</td>\n",
       "      <td>0</td>\n",
       "      <td>...</td>\n",
       "      <td>1</td>\n",
       "      <td>0</td>\n",
       "      <td>0</td>\n",
       "      <td>14</td>\n",
       "      <td>4004</td>\n",
       "      <td>5828815</td>\n",
       "      <td>0</td>\n",
       "      <td>1</td>\n",
       "      <td>0</td>\n",
       "      <td>phishing</td>\n",
       "    </tr>\n",
       "    <tr>\n",
       "      <th>3</th>\n",
       "      <td>http://rgipt.ac.in</td>\n",
       "      <td>18</td>\n",
       "      <td>11</td>\n",
       "      <td>0</td>\n",
       "      <td>2</td>\n",
       "      <td>0</td>\n",
       "      <td>0</td>\n",
       "      <td>0</td>\n",
       "      <td>0</td>\n",
       "      <td>0</td>\n",
       "      <td>...</td>\n",
       "      <td>1</td>\n",
       "      <td>0</td>\n",
       "      <td>0</td>\n",
       "      <td>62</td>\n",
       "      <td>-1</td>\n",
       "      <td>107721</td>\n",
       "      <td>0</td>\n",
       "      <td>0</td>\n",
       "      <td>3</td>\n",
       "      <td>legitimate</td>\n",
       "    </tr>\n",
       "    <tr>\n",
       "      <th>4</th>\n",
       "      <td>http://www.iracing.com/tracks/gateway-motorspo...</td>\n",
       "      <td>55</td>\n",
       "      <td>15</td>\n",
       "      <td>0</td>\n",
       "      <td>2</td>\n",
       "      <td>2</td>\n",
       "      <td>0</td>\n",
       "      <td>0</td>\n",
       "      <td>0</td>\n",
       "      <td>0</td>\n",
       "      <td>...</td>\n",
       "      <td>0</td>\n",
       "      <td>1</td>\n",
       "      <td>0</td>\n",
       "      <td>224</td>\n",
       "      <td>8175</td>\n",
       "      <td>8725</td>\n",
       "      <td>0</td>\n",
       "      <td>0</td>\n",
       "      <td>6</td>\n",
       "      <td>legitimate</td>\n",
       "    </tr>\n",
       "    <tr>\n",
       "      <th>5</th>\n",
       "      <td>http://appleid.apple.com-app.es/</td>\n",
       "      <td>32</td>\n",
       "      <td>24</td>\n",
       "      <td>0</td>\n",
       "      <td>3</td>\n",
       "      <td>1</td>\n",
       "      <td>0</td>\n",
       "      <td>0</td>\n",
       "      <td>0</td>\n",
       "      <td>0</td>\n",
       "      <td>...</td>\n",
       "      <td>1</td>\n",
       "      <td>1</td>\n",
       "      <td>1</td>\n",
       "      <td>0</td>\n",
       "      <td>-1</td>\n",
       "      <td>0</td>\n",
       "      <td>0</td>\n",
       "      <td>1</td>\n",
       "      <td>0</td>\n",
       "      <td>phishing</td>\n",
       "    </tr>\n",
       "    <tr>\n",
       "      <th>6</th>\n",
       "      <td>http://www.mutuo.it</td>\n",
       "      <td>19</td>\n",
       "      <td>12</td>\n",
       "      <td>0</td>\n",
       "      <td>2</td>\n",
       "      <td>0</td>\n",
       "      <td>0</td>\n",
       "      <td>0</td>\n",
       "      <td>0</td>\n",
       "      <td>0</td>\n",
       "      <td>...</td>\n",
       "      <td>0</td>\n",
       "      <td>1</td>\n",
       "      <td>0</td>\n",
       "      <td>170</td>\n",
       "      <td>7529</td>\n",
       "      <td>0</td>\n",
       "      <td>0</td>\n",
       "      <td>0</td>\n",
       "      <td>1</td>\n",
       "      <td>legitimate</td>\n",
       "    </tr>\n",
       "    <tr>\n",
       "      <th>7</th>\n",
       "      <td>http://www.shadetreetechnology.com/V4/validati...</td>\n",
       "      <td>81</td>\n",
       "      <td>27</td>\n",
       "      <td>1</td>\n",
       "      <td>2</td>\n",
       "      <td>0</td>\n",
       "      <td>0</td>\n",
       "      <td>0</td>\n",
       "      <td>0</td>\n",
       "      <td>0</td>\n",
       "      <td>...</td>\n",
       "      <td>1</td>\n",
       "      <td>0</td>\n",
       "      <td>0</td>\n",
       "      <td>76</td>\n",
       "      <td>5767</td>\n",
       "      <td>0</td>\n",
       "      <td>0</td>\n",
       "      <td>1</td>\n",
       "      <td>2</td>\n",
       "      <td>phishing</td>\n",
       "    </tr>\n",
       "    <tr>\n",
       "      <th>8</th>\n",
       "      <td>http://vamoaestudiarmedicina.blogspot.com/</td>\n",
       "      <td>42</td>\n",
       "      <td>34</td>\n",
       "      <td>0</td>\n",
       "      <td>2</td>\n",
       "      <td>0</td>\n",
       "      <td>0</td>\n",
       "      <td>0</td>\n",
       "      <td>0</td>\n",
       "      <td>0</td>\n",
       "      <td>...</td>\n",
       "      <td>1</td>\n",
       "      <td>1</td>\n",
       "      <td>0</td>\n",
       "      <td>371</td>\n",
       "      <td>7298</td>\n",
       "      <td>0</td>\n",
       "      <td>0</td>\n",
       "      <td>0</td>\n",
       "      <td>5</td>\n",
       "      <td>legitimate</td>\n",
       "    </tr>\n",
       "    <tr>\n",
       "      <th>9</th>\n",
       "      <td>https://parade.com/425836/joshwigler/the-amazi...</td>\n",
       "      <td>104</td>\n",
       "      <td>10</td>\n",
       "      <td>0</td>\n",
       "      <td>1</td>\n",
       "      <td>10</td>\n",
       "      <td>0</td>\n",
       "      <td>0</td>\n",
       "      <td>0</td>\n",
       "      <td>0</td>\n",
       "      <td>...</td>\n",
       "      <td>1</td>\n",
       "      <td>0</td>\n",
       "      <td>0</td>\n",
       "      <td>128</td>\n",
       "      <td>9368</td>\n",
       "      <td>6774</td>\n",
       "      <td>0</td>\n",
       "      <td>0</td>\n",
       "      <td>5</td>\n",
       "      <td>legitimate</td>\n",
       "    </tr>\n",
       "    <tr>\n",
       "      <th>10</th>\n",
       "      <td>https://www.astrologyonline.eu/Astro_MemoNew/P...</td>\n",
       "      <td>56</td>\n",
       "      <td>22</td>\n",
       "      <td>0</td>\n",
       "      <td>3</td>\n",
       "      <td>0</td>\n",
       "      <td>0</td>\n",
       "      <td>0</td>\n",
       "      <td>0</td>\n",
       "      <td>0</td>\n",
       "      <td>...</td>\n",
       "      <td>1</td>\n",
       "      <td>1</td>\n",
       "      <td>0</td>\n",
       "      <td>0</td>\n",
       "      <td>-1</td>\n",
       "      <td>1627089</td>\n",
       "      <td>0</td>\n",
       "      <td>0</td>\n",
       "      <td>2</td>\n",
       "      <td>legitimate</td>\n",
       "    </tr>\n",
       "    <tr>\n",
       "      <th>11</th>\n",
       "      <td>https://www.lifewire.com/tcp-port-21-818146</td>\n",
       "      <td>43</td>\n",
       "      <td>16</td>\n",
       "      <td>0</td>\n",
       "      <td>2</td>\n",
       "      <td>3</td>\n",
       "      <td>0</td>\n",
       "      <td>0</td>\n",
       "      <td>0</td>\n",
       "      <td>0</td>\n",
       "      <td>...</td>\n",
       "      <td>1</td>\n",
       "      <td>0</td>\n",
       "      <td>0</td>\n",
       "      <td>489</td>\n",
       "      <td>7911</td>\n",
       "      <td>944</td>\n",
       "      <td>0</td>\n",
       "      <td>0</td>\n",
       "      <td>6</td>\n",
       "      <td>legitimate</td>\n",
       "    </tr>\n",
       "    <tr>\n",
       "      <th>12</th>\n",
       "      <td>https://technofizi.net/top-best-mp3-downloader...</td>\n",
       "      <td>83</td>\n",
       "      <td>14</td>\n",
       "      <td>0</td>\n",
       "      <td>1</td>\n",
       "      <td>9</td>\n",
       "      <td>0</td>\n",
       "      <td>0</td>\n",
       "      <td>0</td>\n",
       "      <td>0</td>\n",
       "      <td>...</td>\n",
       "      <td>1</td>\n",
       "      <td>1</td>\n",
       "      <td>0</td>\n",
       "      <td>320</td>\n",
       "      <td>1505</td>\n",
       "      <td>158942</td>\n",
       "      <td>0</td>\n",
       "      <td>0</td>\n",
       "      <td>4</td>\n",
       "      <td>legitimate</td>\n",
       "    </tr>\n",
       "    <tr>\n",
       "      <th>13</th>\n",
       "      <td>http://html.house/l7ceeid6.html</td>\n",
       "      <td>31</td>\n",
       "      <td>10</td>\n",
       "      <td>0</td>\n",
       "      <td>2</td>\n",
       "      <td>0</td>\n",
       "      <td>0</td>\n",
       "      <td>0</td>\n",
       "      <td>0</td>\n",
       "      <td>0</td>\n",
       "      <td>...</td>\n",
       "      <td>1</td>\n",
       "      <td>0</td>\n",
       "      <td>0</td>\n",
       "      <td>66</td>\n",
       "      <td>1761</td>\n",
       "      <td>1173197</td>\n",
       "      <td>0</td>\n",
       "      <td>1</td>\n",
       "      <td>4</td>\n",
       "      <td>phishing</td>\n",
       "    </tr>\n",
       "    <tr>\n",
       "      <th>14</th>\n",
       "      <td>https://www.missfiga.com/</td>\n",
       "      <td>25</td>\n",
       "      <td>16</td>\n",
       "      <td>0</td>\n",
       "      <td>2</td>\n",
       "      <td>0</td>\n",
       "      <td>0</td>\n",
       "      <td>0</td>\n",
       "      <td>0</td>\n",
       "      <td>0</td>\n",
       "      <td>...</td>\n",
       "      <td>0</td>\n",
       "      <td>0</td>\n",
       "      <td>0</td>\n",
       "      <td>880</td>\n",
       "      <td>2041</td>\n",
       "      <td>4297684</td>\n",
       "      <td>0</td>\n",
       "      <td>0</td>\n",
       "      <td>2</td>\n",
       "      <td>legitimate</td>\n",
       "    </tr>\n",
       "    <tr>\n",
       "      <th>15</th>\n",
       "      <td>http://wave.progressfilm.co.uk/time3/?logon=my...</td>\n",
       "      <td>51</td>\n",
       "      <td>23</td>\n",
       "      <td>0</td>\n",
       "      <td>3</td>\n",
       "      <td>0</td>\n",
       "      <td>0</td>\n",
       "      <td>1</td>\n",
       "      <td>0</td>\n",
       "      <td>0</td>\n",
       "      <td>...</td>\n",
       "      <td>1</td>\n",
       "      <td>0</td>\n",
       "      <td>0</td>\n",
       "      <td>490</td>\n",
       "      <td>3892</td>\n",
       "      <td>0</td>\n",
       "      <td>0</td>\n",
       "      <td>0</td>\n",
       "      <td>4</td>\n",
       "      <td>phishing</td>\n",
       "    </tr>\n",
       "    <tr>\n",
       "      <th>16</th>\n",
       "      <td>https://www.chiefarchitect.com/</td>\n",
       "      <td>31</td>\n",
       "      <td>22</td>\n",
       "      <td>0</td>\n",
       "      <td>2</td>\n",
       "      <td>0</td>\n",
       "      <td>0</td>\n",
       "      <td>0</td>\n",
       "      <td>0</td>\n",
       "      <td>0</td>\n",
       "      <td>...</td>\n",
       "      <td>1</td>\n",
       "      <td>1</td>\n",
       "      <td>0</td>\n",
       "      <td>3069</td>\n",
       "      <td>8301</td>\n",
       "      <td>99386</td>\n",
       "      <td>0</td>\n",
       "      <td>0</td>\n",
       "      <td>4</td>\n",
       "      <td>legitimate</td>\n",
       "    </tr>\n",
       "    <tr>\n",
       "      <th>17</th>\n",
       "      <td>http://beta.kenaidanceta.com/postamok/d39a2/so...</td>\n",
       "      <td>50</td>\n",
       "      <td>21</td>\n",
       "      <td>0</td>\n",
       "      <td>2</td>\n",
       "      <td>0</td>\n",
       "      <td>0</td>\n",
       "      <td>0</td>\n",
       "      <td>0</td>\n",
       "      <td>0</td>\n",
       "      <td>...</td>\n",
       "      <td>1</td>\n",
       "      <td>1</td>\n",
       "      <td>0</td>\n",
       "      <td>1337</td>\n",
       "      <td>2316</td>\n",
       "      <td>0</td>\n",
       "      <td>0</td>\n",
       "      <td>1</td>\n",
       "      <td>0</td>\n",
       "      <td>phishing</td>\n",
       "    </tr>\n",
       "    <tr>\n",
       "      <th>18</th>\n",
       "      <td>http://www.ktplasmachinery.com/cs/</td>\n",
       "      <td>34</td>\n",
       "      <td>23</td>\n",
       "      <td>0</td>\n",
       "      <td>2</td>\n",
       "      <td>0</td>\n",
       "      <td>0</td>\n",
       "      <td>0</td>\n",
       "      <td>0</td>\n",
       "      <td>0</td>\n",
       "      <td>...</td>\n",
       "      <td>1</td>\n",
       "      <td>0</td>\n",
       "      <td>0</td>\n",
       "      <td>352</td>\n",
       "      <td>2935</td>\n",
       "      <td>0</td>\n",
       "      <td>1</td>\n",
       "      <td>1</td>\n",
       "      <td>0</td>\n",
       "      <td>phishing</td>\n",
       "    </tr>\n",
       "    <tr>\n",
       "      <th>19</th>\n",
       "      <td>http://www.2345daohang.com/</td>\n",
       "      <td>27</td>\n",
       "      <td>19</td>\n",
       "      <td>0</td>\n",
       "      <td>2</td>\n",
       "      <td>0</td>\n",
       "      <td>0</td>\n",
       "      <td>0</td>\n",
       "      <td>0</td>\n",
       "      <td>0</td>\n",
       "      <td>...</td>\n",
       "      <td>1</td>\n",
       "      <td>1</td>\n",
       "      <td>0</td>\n",
       "      <td>451</td>\n",
       "      <td>3932</td>\n",
       "      <td>927214</td>\n",
       "      <td>0</td>\n",
       "      <td>0</td>\n",
       "      <td>2</td>\n",
       "      <td>legitimate</td>\n",
       "    </tr>\n",
       "  </tbody>\n",
       "</table>\n",
       "<p>20 rows × 89 columns</p>\n",
       "</div>"
      ],
      "text/plain": [
       "                                                  url  length_url  \\\n",
       "0               http://www.crestonwood.com/router.php          37   \n",
       "1   http://shadetreetechnology.com/V4/validation/a...          77   \n",
       "2   https://support-appleld.com.secureupdate.duila...         126   \n",
       "3                                  http://rgipt.ac.in          18   \n",
       "4   http://www.iracing.com/tracks/gateway-motorspo...          55   \n",
       "5                    http://appleid.apple.com-app.es/          32   \n",
       "6                                 http://www.mutuo.it          19   \n",
       "7   http://www.shadetreetechnology.com/V4/validati...          81   \n",
       "8          http://vamoaestudiarmedicina.blogspot.com/          42   \n",
       "9   https://parade.com/425836/joshwigler/the-amazi...         104   \n",
       "10  https://www.astrologyonline.eu/Astro_MemoNew/P...          56   \n",
       "11        https://www.lifewire.com/tcp-port-21-818146          43   \n",
       "12  https://technofizi.net/top-best-mp3-downloader...          83   \n",
       "13                    http://html.house/l7ceeid6.html          31   \n",
       "14                          https://www.missfiga.com/          25   \n",
       "15  http://wave.progressfilm.co.uk/time3/?logon=my...          51   \n",
       "16                    https://www.chiefarchitect.com/          31   \n",
       "17  http://beta.kenaidanceta.com/postamok/d39a2/so...          50   \n",
       "18                 http://www.ktplasmachinery.com/cs/          34   \n",
       "19                        http://www.2345daohang.com/          27   \n",
       "\n",
       "    length_hostname  ip  nb_dots  nb_hyphens  nb_at  nb_qm  nb_and  nb_or  \\\n",
       "0                19   0        3           0      0      0       0      0   \n",
       "1                23   1        1           0      0      0       0      0   \n",
       "2                50   1        4           1      0      1       2      0   \n",
       "3                11   0        2           0      0      0       0      0   \n",
       "4                15   0        2           2      0      0       0      0   \n",
       "5                24   0        3           1      0      0       0      0   \n",
       "6                12   0        2           0      0      0       0      0   \n",
       "7                27   1        2           0      0      0       0      0   \n",
       "8                34   0        2           0      0      0       0      0   \n",
       "9                10   0        1          10      0      0       0      0   \n",
       "10               22   0        3           0      0      0       0      0   \n",
       "11               16   0        2           3      0      0       0      0   \n",
       "12               14   0        1           9      0      0       0      0   \n",
       "13               10   0        2           0      0      0       0      0   \n",
       "14               16   0        2           0      0      0       0      0   \n",
       "15               23   0        3           0      0      1       0      0   \n",
       "16               22   0        2           0      0      0       0      0   \n",
       "17               21   0        2           0      0      0       0      0   \n",
       "18               23   0        2           0      0      0       0      0   \n",
       "19               19   0        2           0      0      0       0      0   \n",
       "\n",
       "    ...  domain_in_title  domain_with_copyright  whois_registered_domain  \\\n",
       "0   ...                0                      1                        0   \n",
       "1   ...                1                      0                        0   \n",
       "2   ...                1                      0                        0   \n",
       "3   ...                1                      0                        0   \n",
       "4   ...                0                      1                        0   \n",
       "5   ...                1                      1                        1   \n",
       "6   ...                0                      1                        0   \n",
       "7   ...                1                      0                        0   \n",
       "8   ...                1                      1                        0   \n",
       "9   ...                1                      0                        0   \n",
       "10  ...                1                      1                        0   \n",
       "11  ...                1                      0                        0   \n",
       "12  ...                1                      1                        0   \n",
       "13  ...                1                      0                        0   \n",
       "14  ...                0                      0                        0   \n",
       "15  ...                1                      0                        0   \n",
       "16  ...                1                      1                        0   \n",
       "17  ...                1                      1                        0   \n",
       "18  ...                1                      0                        0   \n",
       "19  ...                1                      1                        0   \n",
       "\n",
       "    domain_registration_length  domain_age  web_traffic  dns_record  \\\n",
       "0                           45          -1            0           1   \n",
       "1                           77        5767            0           0   \n",
       "2                           14        4004      5828815           0   \n",
       "3                           62          -1       107721           0   \n",
       "4                          224        8175         8725           0   \n",
       "5                            0          -1            0           0   \n",
       "6                          170        7529            0           0   \n",
       "7                           76        5767            0           0   \n",
       "8                          371        7298            0           0   \n",
       "9                          128        9368         6774           0   \n",
       "10                           0          -1      1627089           0   \n",
       "11                         489        7911          944           0   \n",
       "12                         320        1505       158942           0   \n",
       "13                          66        1761      1173197           0   \n",
       "14                         880        2041      4297684           0   \n",
       "15                         490        3892            0           0   \n",
       "16                        3069        8301        99386           0   \n",
       "17                        1337        2316            0           0   \n",
       "18                         352        2935            0           1   \n",
       "19                         451        3932       927214           0   \n",
       "\n",
       "    google_index  page_rank      status  \n",
       "0              1          4  legitimate  \n",
       "1              1          2    phishing  \n",
       "2              1          0    phishing  \n",
       "3              0          3  legitimate  \n",
       "4              0          6  legitimate  \n",
       "5              1          0    phishing  \n",
       "6              0          1  legitimate  \n",
       "7              1          2    phishing  \n",
       "8              0          5  legitimate  \n",
       "9              0          5  legitimate  \n",
       "10             0          2  legitimate  \n",
       "11             0          6  legitimate  \n",
       "12             0          4  legitimate  \n",
       "13             1          4    phishing  \n",
       "14             0          2  legitimate  \n",
       "15             0          4    phishing  \n",
       "16             0          4  legitimate  \n",
       "17             1          0    phishing  \n",
       "18             1          0    phishing  \n",
       "19             0          2  legitimate  \n",
       "\n",
       "[20 rows x 89 columns]"
      ]
     },
     "execution_count": 73,
     "metadata": {},
     "output_type": "execute_result"
    }
   ],
   "source": [
    "df.head(20)"
   ]
  },
  {
   "cell_type": "code",
   "execution_count": 74,
   "metadata": {},
   "outputs": [
    {
     "name": "stdout",
     "output_type": "stream",
     "text": [
      "<class 'pandas.core.frame.DataFrame'>\n",
      "RangeIndex: 11430 entries, 0 to 11429\n",
      "Data columns (total 89 columns):\n",
      " #   Column                      Non-Null Count  Dtype  \n",
      "---  ------                      --------------  -----  \n",
      " 0   url                         11430 non-null  object \n",
      " 1   length_url                  11430 non-null  int64  \n",
      " 2   length_hostname             11430 non-null  int64  \n",
      " 3   ip                          11430 non-null  int64  \n",
      " 4   nb_dots                     11430 non-null  int64  \n",
      " 5   nb_hyphens                  11430 non-null  int64  \n",
      " 6   nb_at                       11430 non-null  int64  \n",
      " 7   nb_qm                       11430 non-null  int64  \n",
      " 8   nb_and                      11430 non-null  int64  \n",
      " 9   nb_or                       11430 non-null  int64  \n",
      " 10  nb_eq                       11430 non-null  int64  \n",
      " 11  nb_underscore               11430 non-null  int64  \n",
      " 12  nb_tilde                    11430 non-null  int64  \n",
      " 13  nb_percent                  11430 non-null  int64  \n",
      " 14  nb_slash                    11430 non-null  int64  \n",
      " 15  nb_star                     11430 non-null  int64  \n",
      " 16  nb_colon                    11430 non-null  int64  \n",
      " 17  nb_comma                    11430 non-null  int64  \n",
      " 18  nb_semicolumn               11430 non-null  int64  \n",
      " 19  nb_dollar                   11430 non-null  int64  \n",
      " 20  nb_space                    11430 non-null  int64  \n",
      " 21  nb_www                      11430 non-null  int64  \n",
      " 22  nb_com                      11430 non-null  int64  \n",
      " 23  nb_dslash                   11430 non-null  int64  \n",
      " 24  http_in_path                11430 non-null  int64  \n",
      " 25  https_token                 11430 non-null  int64  \n",
      " 26  ratio_digits_url            11430 non-null  float64\n",
      " 27  ratio_digits_host           11430 non-null  float64\n",
      " 28  punycode                    11430 non-null  int64  \n",
      " 29  port                        11430 non-null  int64  \n",
      " 30  tld_in_path                 11430 non-null  int64  \n",
      " 31  tld_in_subdomain            11430 non-null  int64  \n",
      " 32  abnormal_subdomain          11430 non-null  int64  \n",
      " 33  nb_subdomains               11430 non-null  int64  \n",
      " 34  prefix_suffix               11430 non-null  int64  \n",
      " 35  random_domain               11430 non-null  int64  \n",
      " 36  shortening_service          11430 non-null  int64  \n",
      " 37  path_extension              11430 non-null  int64  \n",
      " 38  nb_redirection              11430 non-null  int64  \n",
      " 39  nb_external_redirection     11430 non-null  int64  \n",
      " 40  length_words_raw            11430 non-null  int64  \n",
      " 41  char_repeat                 11430 non-null  int64  \n",
      " 42  shortest_words_raw          11430 non-null  int64  \n",
      " 43  shortest_word_host          11430 non-null  int64  \n",
      " 44  shortest_word_path          11430 non-null  int64  \n",
      " 45  longest_words_raw           11430 non-null  int64  \n",
      " 46  longest_word_host           11430 non-null  int64  \n",
      " 47  longest_word_path           11430 non-null  int64  \n",
      " 48  avg_words_raw               11430 non-null  float64\n",
      " 49  avg_word_host               11430 non-null  float64\n",
      " 50  avg_word_path               11430 non-null  float64\n",
      " 51  phish_hints                 11430 non-null  int64  \n",
      " 52  domain_in_brand             11430 non-null  int64  \n",
      " 53  brand_in_subdomain          11430 non-null  int64  \n",
      " 54  brand_in_path               11430 non-null  int64  \n",
      " 55  suspecious_tld              11430 non-null  int64  \n",
      " 56  statistical_report          11430 non-null  int64  \n",
      " 57  nb_hyperlinks               11430 non-null  int64  \n",
      " 58  ratio_intHyperlinks         11430 non-null  float64\n",
      " 59  ratio_extHyperlinks         11430 non-null  float64\n",
      " 60  ratio_nullHyperlinks        11430 non-null  int64  \n",
      " 61  nb_extCSS                   11430 non-null  int64  \n",
      " 62  ratio_intRedirection        11430 non-null  int64  \n",
      " 63  ratio_extRedirection        11430 non-null  float64\n",
      " 64  ratio_intErrors             11430 non-null  int64  \n",
      " 65  ratio_extErrors             11430 non-null  float64\n",
      " 66  login_form                  11430 non-null  int64  \n",
      " 67  external_favicon            11430 non-null  int64  \n",
      " 68  links_in_tags               11430 non-null  float64\n",
      " 69  submit_email                11430 non-null  int64  \n",
      " 70  ratio_intMedia              11430 non-null  float64\n",
      " 71  ratio_extMedia              11430 non-null  float64\n",
      " 72  sfh                         11430 non-null  int64  \n",
      " 73  iframe                      11430 non-null  int64  \n",
      " 74  popup_window                11430 non-null  int64  \n",
      " 75  safe_anchor                 11430 non-null  float64\n",
      " 76  onmouseover                 11430 non-null  int64  \n",
      " 77  right_clic                  11430 non-null  int64  \n",
      " 78  empty_title                 11430 non-null  int64  \n",
      " 79  domain_in_title             11430 non-null  int64  \n",
      " 80  domain_with_copyright       11430 non-null  int64  \n",
      " 81  whois_registered_domain     11430 non-null  int64  \n",
      " 82  domain_registration_length  11430 non-null  int64  \n",
      " 83  domain_age                  11430 non-null  int64  \n",
      " 84  web_traffic                 11430 non-null  int64  \n",
      " 85  dns_record                  11430 non-null  int64  \n",
      " 86  google_index                11430 non-null  int64  \n",
      " 87  page_rank                   11430 non-null  int64  \n",
      " 88  status                      11430 non-null  object \n",
      "dtypes: float64(13), int64(74), object(2)\n",
      "memory usage: 7.8+ MB\n"
     ]
    }
   ],
   "source": [
    "df.info()"
   ]
  },
  {
   "cell_type": "code",
   "execution_count": 75,
   "metadata": {},
   "outputs": [
    {
     "data": {
      "text/plain": [
       "<Axes: ylabel='count'>"
      ]
     },
     "execution_count": 75,
     "metadata": {},
     "output_type": "execute_result"
    },
    {
     "data": {
      "image/png": "[encoded data removed]",
      "text/plain": [
       "<Figure size 640x480 with 1 Axes>"
      ]
     },
     "metadata": {},
     "output_type": "display_data"
    }
   ],
   "source": [
    "df['status'].value_counts().plot.pie()"
   ]
  },
  {
   "cell_type": "code",
   "execution_count": 76,
   "metadata": {},
   "outputs": [],
   "source": [
    "df['status'] = df['status'].apply(lambda x:  0 if x  == 'legitimate' else 1 )"
   ]
  },
  {
   "cell_type": "code",
   "execution_count": 77,
   "metadata": {},
   "outputs": [
    {
     "data": {
      "text/plain": [
       "<Axes: ylabel='count'>"
      ]
     },
     "execution_count": 77,
     "metadata": {},
     "output_type": "execute_result"
    },
    {
     "data": {
      "image/png": "[encoded data removed]",
      "text/plain": [
       "<Figure size 640x480 with 1 Axes>"
      ]
     },
     "metadata": {},
     "output_type": "display_data"
    }
   ],
   "source": [
    "df['status'].value_counts().plot.pie()"
   ]
  },
  {
   "cell_type": "code",
   "execution_count": 78,
   "metadata": {},
   "outputs": [],
   "source": [
    "df_feature = df.copy()"
   ]
  },
  {
   "cell_type": "code",
   "execution_count": 79,
   "metadata": {},
   "outputs": [],
   "source": [
    "df_feature = df_feature.drop('url', axis = 1)"
   ]
  },
  {
   "cell_type": "code",
   "execution_count": 80,
   "metadata": {},
   "outputs": [
    {
     "data": {
      "text/html": [
       "<div>\n",
       "<style scoped>\n",
       "    .dataframe tbody tr th:only-of-type {\n",
       "        vertical-align: middle;\n",
       "    }\n",
       "\n",
       "    .dataframe tbody tr th {\n",
       "        vertical-align: top;\n",
       "    }\n",
       "\n",
       "    .dataframe thead th {\n",
       "        text-align: right;\n",
       "    }\n",
       "</style>\n",
       "<table border=\"1\" class=\"dataframe\">\n",
       "  <thead>\n",
       "    <tr style=\"text-align: right;\">\n",
       "      <th></th>\n",
       "      <th>length_url</th>\n",
       "      <th>length_hostname</th>\n",
       "      <th>ip</th>\n",
       "      <th>nb_dots</th>\n",
       "      <th>nb_hyphens</th>\n",
       "      <th>nb_at</th>\n",
       "      <th>nb_qm</th>\n",
       "      <th>nb_and</th>\n",
       "      <th>nb_or</th>\n",
       "      <th>nb_eq</th>\n",
       "      <th>...</th>\n",
       "      <th>domain_in_title</th>\n",
       "      <th>domain_with_copyright</th>\n",
       "      <th>whois_registered_domain</th>\n",
       "      <th>domain_registration_length</th>\n",
       "      <th>domain_age</th>\n",
       "      <th>web_traffic</th>\n",
       "      <th>dns_record</th>\n",
       "      <th>google_index</th>\n",
       "      <th>page_rank</th>\n",
       "      <th>status</th>\n",
       "    </tr>\n",
       "  </thead>\n",
       "  <tbody>\n",
       "    <tr>\n",
       "      <th>0</th>\n",
       "      <td>37</td>\n",
       "      <td>19</td>\n",
       "      <td>0</td>\n",
       "      <td>3</td>\n",
       "      <td>0</td>\n",
       "      <td>0</td>\n",
       "      <td>0</td>\n",
       "      <td>0</td>\n",
       "      <td>0</td>\n",
       "      <td>0</td>\n",
       "      <td>...</td>\n",
       "      <td>0</td>\n",
       "      <td>1</td>\n",
       "      <td>0</td>\n",
       "      <td>45</td>\n",
       "      <td>-1</td>\n",
       "      <td>0</td>\n",
       "      <td>1</td>\n",
       "      <td>1</td>\n",
       "      <td>4</td>\n",
       "      <td>0</td>\n",
       "    </tr>\n",
       "    <tr>\n",
       "      <th>1</th>\n",
       "      <td>77</td>\n",
       "      <td>23</td>\n",
       "      <td>1</td>\n",
       "      <td>1</td>\n",
       "      <td>0</td>\n",
       "      <td>0</td>\n",
       "      <td>0</td>\n",
       "      <td>0</td>\n",
       "      <td>0</td>\n",
       "      <td>0</td>\n",
       "      <td>...</td>\n",
       "      <td>1</td>\n",
       "      <td>0</td>\n",
       "      <td>0</td>\n",
       "      <td>77</td>\n",
       "      <td>5767</td>\n",
       "      <td>0</td>\n",
       "      <td>0</td>\n",
       "      <td>1</td>\n",
       "      <td>2</td>\n",
       "      <td>1</td>\n",
       "    </tr>\n",
       "    <tr>\n",
       "      <th>2</th>\n",
       "      <td>126</td>\n",
       "      <td>50</td>\n",
       "      <td>1</td>\n",
       "      <td>4</td>\n",
       "      <td>1</td>\n",
       "      <td>0</td>\n",
       "      <td>1</td>\n",
       "      <td>2</td>\n",
       "      <td>0</td>\n",
       "      <td>3</td>\n",
       "      <td>...</td>\n",
       "      <td>1</td>\n",
       "      <td>0</td>\n",
       "      <td>0</td>\n",
       "      <td>14</td>\n",
       "      <td>4004</td>\n",
       "      <td>5828815</td>\n",
       "      <td>0</td>\n",
       "      <td>1</td>\n",
       "      <td>0</td>\n",
       "      <td>1</td>\n",
       "    </tr>\n",
       "    <tr>\n",
       "      <th>3</th>\n",
       "      <td>18</td>\n",
       "      <td>11</td>\n",
       "      <td>0</td>\n",
       "      <td>2</td>\n",
       "      <td>0</td>\n",
       "      <td>0</td>\n",
       "      <td>0</td>\n",
       "      <td>0</td>\n",
       "      <td>0</td>\n",
       "      <td>0</td>\n",
       "      <td>...</td>\n",
       "      <td>1</td>\n",
       "      <td>0</td>\n",
       "      <td>0</td>\n",
       "      <td>62</td>\n",
       "      <td>-1</td>\n",
       "      <td>107721</td>\n",
       "      <td>0</td>\n",
       "      <td>0</td>\n",
       "      <td>3</td>\n",
       "      <td>0</td>\n",
       "    </tr>\n",
       "    <tr>\n",
       "      <th>4</th>\n",
       "      <td>55</td>\n",
       "      <td>15</td>\n",
       "      <td>0</td>\n",
       "      <td>2</td>\n",
       "      <td>2</td>\n",
       "      <td>0</td>\n",
       "      <td>0</td>\n",
       "      <td>0</td>\n",
       "      <td>0</td>\n",
       "      <td>0</td>\n",
       "      <td>...</td>\n",
       "      <td>0</td>\n",
       "      <td>1</td>\n",
       "      <td>0</td>\n",
       "      <td>224</td>\n",
       "      <td>8175</td>\n",
       "      <td>8725</td>\n",
       "      <td>0</td>\n",
       "      <td>0</td>\n",
       "      <td>6</td>\n",
       "      <td>0</td>\n",
       "    </tr>\n",
       "    <tr>\n",
       "      <th>...</th>\n",
       "      <td>...</td>\n",
       "      <td>...</td>\n",
       "      <td>...</td>\n",
       "      <td>...</td>\n",
       "      <td>...</td>\n",
       "      <td>...</td>\n",
       "      <td>...</td>\n",
       "      <td>...</td>\n",
       "      <td>...</td>\n",
       "      <td>...</td>\n",
       "      <td>...</td>\n",
       "      <td>...</td>\n",
       "      <td>...</td>\n",
       "      <td>...</td>\n",
       "      <td>...</td>\n",
       "      <td>...</td>\n",
       "      <td>...</td>\n",
       "      <td>...</td>\n",
       "      <td>...</td>\n",
       "      <td>...</td>\n",
       "      <td>...</td>\n",
       "    </tr>\n",
       "    <tr>\n",
       "      <th>11425</th>\n",
       "      <td>45</td>\n",
       "      <td>17</td>\n",
       "      <td>0</td>\n",
       "      <td>2</td>\n",
       "      <td>0</td>\n",
       "      <td>0</td>\n",
       "      <td>0</td>\n",
       "      <td>0</td>\n",
       "      <td>0</td>\n",
       "      <td>0</td>\n",
       "      <td>...</td>\n",
       "      <td>0</td>\n",
       "      <td>0</td>\n",
       "      <td>0</td>\n",
       "      <td>448</td>\n",
       "      <td>5396</td>\n",
       "      <td>3980</td>\n",
       "      <td>0</td>\n",
       "      <td>0</td>\n",
       "      <td>6</td>\n",
       "      <td>0</td>\n",
       "    </tr>\n",
       "    <tr>\n",
       "      <th>11426</th>\n",
       "      <td>84</td>\n",
       "      <td>18</td>\n",
       "      <td>0</td>\n",
       "      <td>5</td>\n",
       "      <td>0</td>\n",
       "      <td>1</td>\n",
       "      <td>1</td>\n",
       "      <td>0</td>\n",
       "      <td>0</td>\n",
       "      <td>1</td>\n",
       "      <td>...</td>\n",
       "      <td>1</td>\n",
       "      <td>0</td>\n",
       "      <td>0</td>\n",
       "      <td>211</td>\n",
       "      <td>6728</td>\n",
       "      <td>0</td>\n",
       "      <td>0</td>\n",
       "      <td>1</td>\n",
       "      <td>0</td>\n",
       "      <td>1</td>\n",
       "    </tr>\n",
       "    <tr>\n",
       "      <th>11427</th>\n",
       "      <td>105</td>\n",
       "      <td>16</td>\n",
       "      <td>1</td>\n",
       "      <td>2</td>\n",
       "      <td>6</td>\n",
       "      <td>0</td>\n",
       "      <td>1</td>\n",
       "      <td>0</td>\n",
       "      <td>0</td>\n",
       "      <td>1</td>\n",
       "      <td>...</td>\n",
       "      <td>0</td>\n",
       "      <td>0</td>\n",
       "      <td>0</td>\n",
       "      <td>2809</td>\n",
       "      <td>8515</td>\n",
       "      <td>8</td>\n",
       "      <td>0</td>\n",
       "      <td>1</td>\n",
       "      <td>10</td>\n",
       "      <td>0</td>\n",
       "    </tr>\n",
       "    <tr>\n",
       "      <th>11428</th>\n",
       "      <td>38</td>\n",
       "      <td>30</td>\n",
       "      <td>0</td>\n",
       "      <td>2</td>\n",
       "      <td>0</td>\n",
       "      <td>0</td>\n",
       "      <td>0</td>\n",
       "      <td>0</td>\n",
       "      <td>0</td>\n",
       "      <td>0</td>\n",
       "      <td>...</td>\n",
       "      <td>1</td>\n",
       "      <td>0</td>\n",
       "      <td>0</td>\n",
       "      <td>85</td>\n",
       "      <td>2836</td>\n",
       "      <td>2455493</td>\n",
       "      <td>0</td>\n",
       "      <td>0</td>\n",
       "      <td>4</td>\n",
       "      <td>0</td>\n",
       "    </tr>\n",
       "    <tr>\n",
       "      <th>11429</th>\n",
       "      <td>477</td>\n",
       "      <td>14</td>\n",
       "      <td>1</td>\n",
       "      <td>24</td>\n",
       "      <td>0</td>\n",
       "      <td>1</td>\n",
       "      <td>1</td>\n",
       "      <td>9</td>\n",
       "      <td>0</td>\n",
       "      <td>9</td>\n",
       "      <td>...</td>\n",
       "      <td>1</td>\n",
       "      <td>1</td>\n",
       "      <td>1</td>\n",
       "      <td>0</td>\n",
       "      <td>-1</td>\n",
       "      <td>0</td>\n",
       "      <td>1</td>\n",
       "      <td>1</td>\n",
       "      <td>0</td>\n",
       "      <td>1</td>\n",
       "    </tr>\n",
       "  </tbody>\n",
       "</table>\n",
       "<p>11430 rows × 88 columns</p>\n",
       "</div>"
      ],
      "text/plain": [
       "       length_url  length_hostname  ip  nb_dots  nb_hyphens  nb_at  nb_qm  \\\n",
       "0              37               19   0        3           0      0      0   \n",
       "1              77               23   1        1           0      0      0   \n",
       "2             126               50   1        4           1      0      1   \n",
       "3              18               11   0        2           0      0      0   \n",
       "4              55               15   0        2           2      0      0   \n",
       "...           ...              ...  ..      ...         ...    ...    ...   \n",
       "11425          45               17   0        2           0      0      0   \n",
       "11426          84               18   0        5           0      1      1   \n",
       "11427         105               16   1        2           6      0      1   \n",
       "11428          38               30   0        2           0      0      0   \n",
       "11429         477               14   1       24           0      1      1   \n",
       "\n",
       "       nb_and  nb_or  nb_eq  ...  domain_in_title  domain_with_copyright  \\\n",
       "0           0      0      0  ...                0                      1   \n",
       "1           0      0      0  ...                1                      0   \n",
       "2           2      0      3  ...                1                      0   \n",
       "3           0      0      0  ...                1                      0   \n",
       "4           0      0      0  ...                0                      1   \n",
       "...       ...    ...    ...  ...              ...                    ...   \n",
       "11425       0      0      0  ...                0                      0   \n",
       "11426       0      0      1  ...                1                      0   \n",
       "11427       0      0      1  ...                0                      0   \n",
       "11428       0      0      0  ...                1                      0   \n",
       "11429       9      0      9  ...                1                      1   \n",
       "\n",
       "       whois_registered_domain  domain_registration_length  domain_age  \\\n",
       "0                            0                          45          -1   \n",
       "1                            0                          77        5767   \n",
       "2                            0                          14        4004   \n",
       "3                            0                          62          -1   \n",
       "4                            0                         224        8175   \n",
       "...                        ...                         ...         ...   \n",
       "11425                        0                         448        5396   \n",
       "11426                        0                         211        6728   \n",
       "11427                        0                        2809        8515   \n",
       "11428                        0                          85        2836   \n",
       "11429                        1                           0          -1   \n",
       "\n",
       "       web_traffic  dns_record  google_index  page_rank  status  \n",
       "0                0           1             1          4       0  \n",
       "1                0           0             1          2       1  \n",
       "2          5828815           0             1          0       1  \n",
       "3           107721           0             0          3       0  \n",
       "4             8725           0             0          6       0  \n",
       "...            ...         ...           ...        ...     ...  \n",
       "11425         3980           0             0          6       0  \n",
       "11426            0           0             1          0       1  \n",
       "11427            8           0             1         10       0  \n",
       "11428      2455493           0             0          4       0  \n",
       "11429            0           1             1          0       1  \n",
       "\n",
       "[11430 rows x 88 columns]"
      ]
     },
     "execution_count": 80,
     "metadata": {},
     "output_type": "execute_result"
    }
   ],
   "source": [
    "df_feature"
   ]
  },
  {
   "cell_type": "code",
   "execution_count": 81,
   "metadata": {},
   "outputs": [],
   "source": [
    "X = df_feature.drop('status', axis=1)\n",
    "y = df_feature['status']"
   ]
  },
  {
   "cell_type": "markdown",
   "metadata": {},
   "source": [
    "Mutual information between two random variables is a non-negative value, which measures the dependency between the variables. It is equal to zero if and only if two random variables are independent, and higher values mean higher dependency."
   ]
  },
  {
   "cell_type": "code",
   "execution_count": 82,
   "metadata": {},
   "outputs": [],
   "source": [
    "result = mutual_info_classif(X, y, random_state=1234)"
   ]
  },
  {
   "cell_type": "code",
   "execution_count": 83,
   "metadata": {},
   "outputs": [
    {
     "data": {
      "text/plain": [
       "google_index               0.305020\n",
       "web_traffic                0.299051\n",
       "domain_age                 0.279059\n",
       "ratio_extHyperlinks        0.241286\n",
       "ratio_intHyperlinks        0.239741\n",
       "                             ...   \n",
       "sfh                        0.000000\n",
       "onmouseover                0.000000\n",
       "right_clic                 0.000000\n",
       "iframe                     0.000000\n",
       "whois_registered_domain    0.000000\n",
       "Length: 87, dtype: float64"
      ]
     },
     "execution_count": 83,
     "metadata": {},
     "output_type": "execute_result"
    }
   ],
   "source": [
    "mif = pd.Series(result, index= X.columns).sort_values(ascending=False)\n",
    "mif"
   ]
  },
  {
   "cell_type": "code",
   "execution_count": 84,
   "metadata": {},
   "outputs": [
    {
     "data": {
      "text/plain": [
       "count    87.000000\n",
       "mean      0.052332\n",
       "std       0.073859\n",
       "min       0.000000\n",
       "25%       0.003352\n",
       "50%       0.015988\n",
       "75%       0.070096\n",
       "max       0.305020\n",
       "dtype: float64"
      ]
     },
     "execution_count": 84,
     "metadata": {},
     "output_type": "execute_result"
    }
   ],
   "source": [
    "mif.describe()"
   ]
  },
  {
   "cell_type": "code",
   "execution_count": 85,
   "metadata": {},
   "outputs": [
    {
     "data": {
      "text/plain": [
       "np.float64(0.0)"
      ]
     },
     "execution_count": 85,
     "metadata": {},
     "output_type": "execute_result"
    }
   ],
   "source": [
    "mif.quantile(0.1)"
   ]
  },
  {
   "cell_type": "code",
   "execution_count": 86,
   "metadata": {},
   "outputs": [],
   "source": [
    "mif_not_zero = mif[mif > 0 ]"
   ]
  },
  {
   "cell_type": "code",
   "execution_count": 87,
   "metadata": {},
   "outputs": [
    {
     "data": {
      "text/plain": [
       "google_index            0.305020\n",
       "web_traffic             0.299051\n",
       "domain_age              0.279059\n",
       "ratio_extHyperlinks     0.241286\n",
       "ratio_intHyperlinks     0.239741\n",
       "                          ...   \n",
       "nb_space                0.003147\n",
       "port                    0.003046\n",
       "ratio_nullHyperlinks    0.002021\n",
       "popup_window            0.001704\n",
       "nb_colon                0.000546\n",
       "Length: 70, dtype: float64"
      ]
     },
     "execution_count": 87,
     "metadata": {},
     "output_type": "execute_result"
    }
   ],
   "source": [
    "mif_not_zero"
   ]
  },
  {
   "cell_type": "code",
   "execution_count": 88,
   "metadata": {},
   "outputs": [
    {
     "data": {
      "text/plain": [
       "np.float64(0.004800781468149418)"
      ]
     },
     "execution_count": 88,
     "metadata": {},
     "output_type": "execute_result"
    }
   ],
   "source": [
    "mif_not_zero.quantile(0.1)"
   ]
  },
  {
   "cell_type": "code",
   "execution_count": 89,
   "metadata": {},
   "outputs": [],
   "source": [
    "X = X.loc[:,mif_not_zero.index]"
   ]
  },
  {
   "cell_type": "code",
   "execution_count": 90,
   "metadata": {},
   "outputs": [],
   "source": [
    "X_train, X_test, y_train, y_test = train_test_split(X,y, test_size=0.2, random_state=1234)"
   ]
  },
  {
   "cell_type": "code",
   "execution_count": null,
   "metadata": {},
   "outputs": [
    {
     "name": "stderr",
     "output_type": "stream",
     "text": [
      "[I 2025-01-13 11:58:56,408] A new study created in memory with name: no-name-421a82a5-2c65-4259-9948-8d80337aca44\n",
      "[I 2025-01-13 11:59:01,670] Trial 0 finished with value: 0.9644578053796542 and parameters: {'n_estimators': 300, 'max_features': 'sqrt', 'max_depth': 70, 'min_samples_split': 4, 'min_samples_leaf': 3}. Best is trial 0 with value: 0.9644578053796542.\n",
      "[I 2025-01-13 11:59:07,335] Trial 1 finished with value: 0.9663167446907531 and parameters: {'n_estimators': 500, 'max_features': 'log2', 'max_depth': 90, 'min_samples_split': 2, 'min_samples_leaf': 2}. Best is trial 1 with value: 0.9663167446907531.\n",
      "[I 2025-01-13 11:59:10,748] Trial 2 finished with value: 0.9653327199878448 and parameters: {'n_estimators': 300, 'max_features': 'log2', 'max_depth': 110, 'min_samples_split': 2, 'min_samples_leaf': 2}. Best is trial 1 with value: 0.9663167446907531.\n",
      "[I 2025-01-13 11:59:17,697] Trial 3 finished with value: 0.9642389869989101 and parameters: {'n_estimators': 500, 'max_features': 'sqrt', 'max_depth': 70, 'min_samples_split': 10, 'min_samples_leaf': 1}. Best is trial 1 with value: 0.9663167446907531.\n",
      "[I 2025-01-13 11:59:18,899] Trial 4 finished with value: 0.9587709800646765 and parameters: {'n_estimators': 100, 'max_features': 'sqrt', 'max_depth': 10, 'min_samples_split': 6, 'min_samples_leaf': 4}. Best is trial 1 with value: 0.9663167446907531.\n",
      "[I 2025-01-13 11:59:24,530] Trial 5 finished with value: 0.96675432163311 and parameters: {'n_estimators': 500, 'max_features': 'log2', 'max_depth': 50, 'min_samples_split': 4, 'min_samples_leaf': 1}. Best is trial 5 with value: 0.96675432163311.\n",
      "[I 2025-01-13 11:59:27,768] Trial 6 finished with value: 0.9638017091522075 and parameters: {'n_estimators': 300, 'max_features': 'log2', 'max_depth': 90, 'min_samples_split': 10, 'min_samples_leaf': 2}. Best is trial 5 with value: 0.96675432163311.\n",
      "[I 2025-01-13 11:59:34,415] Trial 7 finished with value: 0.9639110585234485 and parameters: {'n_estimators': 500, 'max_features': 'sqrt', 'max_depth': 110, 'min_samples_split': 6, 'min_samples_leaf': 3}. Best is trial 5 with value: 0.96675432163311.\n",
      "[I 2025-01-13 11:59:38,460] Trial 8 finished with value: 0.9640203480755588 and parameters: {'n_estimators': 300, 'max_features': 'sqrt', 'max_depth': 110, 'min_samples_split': 10, 'min_samples_leaf': 1}. Best is trial 5 with value: 0.96675432163311.\n",
      "[I 2025-01-13 11:59:44,063] Trial 9 finished with value: 0.9667544412713717 and parameters: {'n_estimators': 400, 'max_features': 'sqrt', 'max_depth': 30, 'min_samples_split': 2, 'min_samples_leaf': 1}. Best is trial 9 with value: 0.9667544412713717.\n",
      "[I 2025-01-13 11:59:45,269] Trial 10 finished with value: 0.9587709800646765 and parameters: {'n_estimators': 100, 'max_features': 'sqrt', 'max_depth': 10, 'min_samples_split': 4, 'min_samples_leaf': 4}. Best is trial 9 with value: 0.9667544412713717.\n",
      "[I 2025-01-13 11:59:49,862] Trial 11 finished with value: 0.9666449722618691 and parameters: {'n_estimators': 400, 'max_features': 'log2', 'max_depth': 30, 'min_samples_split': 4, 'min_samples_leaf': 1}. Best is trial 9 with value: 0.9667544412713717.\n",
      "[I 2025-01-13 11:59:54,423] Trial 12 finished with value: 0.967082549204226 and parameters: {'n_estimators': 400, 'max_features': 'log2', 'max_depth': 50, 'min_samples_split': 2, 'min_samples_leaf': 1}. Best is trial 12 with value: 0.967082549204226.\n",
      "[I 2025-01-13 11:59:59,151] Trial 13 finished with value: 0.9669731400138541 and parameters: {'n_estimators': 400, 'max_features': 'log2', 'max_depth': 30, 'min_samples_split': 2, 'min_samples_leaf': 1}. Best is trial 12 with value: 0.967082549204226.\n",
      "[I 2025-01-13 12:00:03,624] Trial 14 finished with value: 0.9656608877398298 and parameters: {'n_estimators': 400, 'max_features': 'log2', 'max_depth': 50, 'min_samples_split': 8, 'min_samples_leaf': 2}. Best is trial 12 with value: 0.967082549204226.\n",
      "[I 2025-01-13 12:00:06,000] Trial 15 finished with value: 0.9665356827097588 and parameters: {'n_estimators': 200, 'max_features': 'log2', 'max_depth': 30, 'min_samples_split': 2, 'min_samples_leaf': 1}. Best is trial 12 with value: 0.967082549204226.\n",
      "[I 2025-01-13 12:00:10,358] Trial 16 finished with value: 0.9653327199878448 and parameters: {'n_estimators': 400, 'max_features': 'log2', 'max_depth': 50, 'min_samples_split': 2, 'min_samples_leaf': 3}. Best is trial 12 with value: 0.967082549204226.\n",
      "[I 2025-01-13 12:00:12,615] Trial 17 finished with value: 0.9656606484633062 and parameters: {'n_estimators': 200, 'max_features': 'log2', 'max_depth': 30, 'min_samples_split': 8, 'min_samples_leaf': 2}. Best is trial 12 with value: 0.967082549204226.\n",
      "[I 2025-01-13 12:00:16,436] Trial 18 finished with value: 0.9603019909003138 and parameters: {'n_estimators': 400, 'max_features': 'log2', 'max_depth': 10, 'min_samples_split': 4, 'min_samples_leaf': 1}. Best is trial 12 with value: 0.967082549204226.\n",
      "[I 2025-01-13 12:00:20,830] Trial 19 finished with value: 0.964567214570026 and parameters: {'n_estimators': 400, 'max_features': 'log2', 'max_depth': 70, 'min_samples_split': 6, 'min_samples_leaf': 2}. Best is trial 12 with value: 0.967082549204226.\n"
     ]
    }
   ],
   "source": [
    "def  objective (trial):\n",
    "     # Number of trees in a random forest \n",
    "    n_estimators  =  trial.suggest_int( name = \"n_estimators\" , low = 100 , high = 500 , step = 100 )\n",
    "\n",
    "    # Number of features to consider for each split \n",
    "    max_features  =  trial.suggest_categorical( name = \"max_features\" , choices = [ 'log2' , 'sqrt' ])\n",
    "\n",
    "    # Maximum number of levels in the tree \n",
    "    max_depth  =  trial.suggest_int( name = \"max_depth\" , low = 10 , high = 110 , step = 20 )\n",
    "\n",
    "   # Minimum number of samples required to split a node \n",
    "    min_samples_split  =  trial.suggest_int( name = \"min_samples_split\" , low = 2 , high = 10 , step = 2 )\n",
    "\n",
    "    # Minimum number of samples required for each leaf node \n",
    "    min_samples_leaf  =  trial.suggest_int( name = \"min_samples_leaf\" , low = 1 , high = 4 , step = 1 )\n",
    "    \n",
    "    params  = {\n",
    "         \"n_estimators\" : n_estimators ,\n",
    "         \"max_features\" : max_features ,\n",
    "         \"max_depth\" : max_depth ,\n",
    "         \"min_samples_split\" : min_samples_split ,\n",
    "         \"min_samples_leaf\" : min_samples_leaf\n",
    "    }\n",
    "    model  =  RandomForestClassifier( random_state = 1234 , **params )\n",
    "    \n",
    "    cv_score  =  cross_val_score( model, X_train , y_train , n_jobs = 4 , cv = 5 )\n",
    "    mean_cv_accuracy  =  cv_score.mean()\n",
    "    \n",
    "    return mean_cv_accuracy \n",
    "\n",
    "study  =  optuna.create_study(direction='maximize')\n",
    "study.optimize ( objective , n_trials =20)\n"
   ]
  },
  {
   "cell_type": "code",
   "execution_count": null,
   "metadata": {},
   "outputs": [
    {
     "name": "stdout",
     "output_type": "stream",
     "text": [
      "              precision    recall  f1-score   support\n",
      "\n",
      "           0       0.96      0.97      0.96      1151\n",
      "           1       0.96      0.96      0.96      1135\n",
      "\n",
      "    accuracy                           0.96      2286\n",
      "   macro avg       0.96      0.96      0.96      2286\n",
      "weighted avg       0.96      0.96      0.96      2286\n",
      "\n"
     ]
    }
   ],
   "source": [
    "# Train a new model using the best possible parameters\n",
    "best_model  =  RandomForestClassifier ( random_state = 1234 , **study. best_params )\n",
    "\n",
    "\n",
    "\n",
    "best_model.fit(X_train ,y_train )\n",
    "\n",
    "y_pred  =  best_model.predict(X_test)\n",
    "\n",
    "\n",
    "print(classification_report(y_test, y_pred))"
   ]
  },
  {
   "cell_type": "code",
   "execution_count": 94,
   "metadata": {},
   "outputs": [
    {
     "data": {
      "text/plain": [
       "<sklearn.metrics._plot.confusion_matrix.ConfusionMatrixDisplay at 0x2a7e5aab050>"
      ]
     },
     "execution_count": 94,
     "metadata": {},
     "output_type": "execute_result"
    },
    {
     "data": {
      "image/png": "[encoded data removed]",
      "text/plain": [
       "<Figure size 640x480 with 2 Axes>"
      ]
     },
     "metadata": {},
     "output_type": "display_data"
    }
   ],
   "source": [
    "ConfusionMatrixDisplay.from_predictions(y_test, y_pred)"
   ]
  },
  {
   "cell_type": "markdown",
   "metadata": {},
   "source": [
    "The result was excellent, but let's remove the features that are of little value to the model in order to optimize the model."
   ]
  },
  {
   "cell_type": "code",
   "execution_count": null,
   "metadata": {},
   "outputs": [
    {
     "data": {
      "image/png": "[encoded data removed]",
      "text/plain": [
       "<Figure size 1500x1500 with 1 Axes>"
      ]
     },
     "metadata": {},
     "output_type": "display_data"
    }
   ],
   "source": [
    "importances = best_model.feature_importances_\n",
    "\n",
    "\n",
    "forest_importances = pd.Series(importances, index= X_train.columns).sort_values()\n",
    "\n",
    "fig, ax = plt.subplots(figsize = (15,15))\n",
    "\n",
    "forest_importances.plot.barh(ax=ax)\n",
    "\n",
    "ax.set_title(\"Feature importances using MDI\")\n",
    "ax.set_xlabel(\"Mean decrease in impurity\")\n",
    "fig.tight_layout()\n",
    "plt.show()"
   ]
  },
  {
   "cell_type": "markdown",
   "metadata": {},
   "source": [
    "We are building a logistic regression to assess the direction of the influence of the features"
   ]
  },
  {
   "cell_type": "code",
   "execution_count": 96,
   "metadata": {},
   "outputs": [
    {
     "name": "stderr",
     "output_type": "stream",
     "text": [
      "[I 2025-01-13 12:00:54,882] A new study created in memory with name: no-name-308b2211-230f-46b6-bd33-3ec38f4a728e\n",
      "[I 2025-01-13 12:00:55,090] Trial 0 finished with value: 0.9461946059893307 and parameters: {'C': 100}. Best is trial 0 with value: 0.9461946059893307.\n",
      "[I 2025-01-13 12:00:55,258] Trial 1 finished with value: 0.9418202722249008 and parameters: {'C': 0.01}. Best is trial 0 with value: 0.9461946059893307.\n",
      "[I 2025-01-13 12:00:55,457] Trial 2 finished with value: 0.9461946059893307 and parameters: {'C': 100}. Best is trial 0 with value: 0.9461946059893307.\n",
      "[I 2025-01-13 12:00:55,614] Trial 3 finished with value: 0.9321965704495888 and parameters: {'C': 0.001}. Best is trial 0 with value: 0.9461946059893307.\n",
      "[I 2025-01-13 12:00:55,812] Trial 4 finished with value: 0.9461946059893307 and parameters: {'C': 100}. Best is trial 0 with value: 0.9461946059893307.\n",
      "[I 2025-01-13 12:00:55,970] Trial 5 finished with value: 0.9321965704495888 and parameters: {'C': 0.001}. Best is trial 0 with value: 0.9461946059893307.\n",
      "[I 2025-01-13 12:00:56,167] Trial 6 finished with value: 0.9464133047318131 and parameters: {'C': 1}. Best is trial 6 with value: 0.9464133047318131.\n",
      "[I 2025-01-13 12:00:56,364] Trial 7 finished with value: 0.9464133047318131 and parameters: {'C': 1}. Best is trial 6 with value: 0.9464133047318131.\n",
      "[I 2025-01-13 12:00:56,581] Trial 8 finished with value: 0.9461946059893307 and parameters: {'C': 100}. Best is trial 6 with value: 0.9464133047318131.\n",
      "[I 2025-01-13 12:00:56,758] Trial 9 finished with value: 0.9453199904767944 and parameters: {'C': 0.1}. Best is trial 6 with value: 0.9464133047318131.\n",
      "[I 2025-01-13 12:00:56,944] Trial 10 finished with value: 0.9464133047318131 and parameters: {'C': 1}. Best is trial 6 with value: 0.9464133047318131.\n",
      "[I 2025-01-13 12:00:57,132] Trial 11 finished with value: 0.9464133047318131 and parameters: {'C': 1}. Best is trial 6 with value: 0.9464133047318131.\n",
      "[I 2025-01-13 12:00:57,321] Trial 12 finished with value: 0.9464133047318131 and parameters: {'C': 1}. Best is trial 6 with value: 0.9464133047318131.\n",
      "[I 2025-01-13 12:00:57,530] Trial 13 finished with value: 0.9463038955414408 and parameters: {'C': 10}. Best is trial 6 with value: 0.9464133047318131.\n",
      "[I 2025-01-13 12:00:57,718] Trial 14 finished with value: 0.9464133047318131 and parameters: {'C': 1}. Best is trial 6 with value: 0.9464133047318131.\n",
      "[I 2025-01-13 12:00:57,917] Trial 15 finished with value: 0.9464133047318131 and parameters: {'C': 1}. Best is trial 6 with value: 0.9464133047318131.\n",
      "[I 2025-01-13 12:00:58,095] Trial 16 finished with value: 0.9464133047318131 and parameters: {'C': 1}. Best is trial 6 with value: 0.9464133047318131.\n",
      "[I 2025-01-13 12:00:58,283] Trial 17 finished with value: 0.9464133047318131 and parameters: {'C': 1}. Best is trial 6 with value: 0.9464133047318131.\n",
      "[I 2025-01-13 12:00:58,470] Trial 18 finished with value: 0.9464133047318131 and parameters: {'C': 1}. Best is trial 6 with value: 0.9464133047318131.\n",
      "[I 2025-01-13 12:00:58,658] Trial 19 finished with value: 0.9464133047318131 and parameters: {'C': 1}. Best is trial 6 with value: 0.9464133047318131.\n"
     ]
    }
   ],
   "source": [
    "def  objective (trial):\n",
    "\n",
    "    C  =  trial.suggest_categorical( name = \"C\" , choices = [ 0.001,0.01,0.1,1,1, 10, 100])\n",
    "\n",
    "    params  = {\n",
    "         \"C\" : C \n",
    "    }\n",
    "    model  =  Pipeline([('scaler', StandardScaler()), ('lr', LogisticRegression(random_state=1234,max_iter=7000, **params))])\n",
    "    \n",
    "    cv_score  =  cross_val_score( model, X_train , y_train , n_jobs = 4 , cv = 5 )\n",
    "    mean_cv_accuracy  =  cv_score.mean()\n",
    "    \n",
    "    return mean_cv_accuracy \n",
    "\n",
    "study  =  optuna.create_study(direction='maximize')\n",
    "study.optimize ( objective , n_trials =20)\n"
   ]
  },
  {
   "cell_type": "code",
   "execution_count": null,
   "metadata": {},
   "outputs": [
    {
     "name": "stdout",
     "output_type": "stream",
     "text": [
      "              precision    recall  f1-score   support\n",
      "\n",
      "           0       0.96      0.97      0.96      1151\n",
      "           1       0.96      0.96      0.96      1135\n",
      "\n",
      "    accuracy                           0.96      2286\n",
      "   macro avg       0.96      0.96      0.96      2286\n",
      "weighted avg       0.96      0.96      0.96      2286\n",
      "\n"
     ]
    }
   ],
   "source": [
    "best_model_lr  =  Pipeline([('scaler', StandardScaler()), ('lr', LogisticRegression(random_state=1234,max_iter=7000, **study. best_params))])\n",
    "\n",
    "\n",
    "\n",
    "best_model_lr.fit(X_train ,y_train)\n",
    "\n",
    "y_pred  =  best_model.predict(X_test)\n",
    "\n",
    "\n",
    "print(classification_report(y_test, y_pred))"
   ]
  },
  {
   "cell_type": "code",
   "execution_count": 98,
   "metadata": {},
   "outputs": [
    {
     "data": {
      "text/plain": [
       "<sklearn.metrics._plot.confusion_matrix.ConfusionMatrixDisplay at 0x2a7e3a9ab10>"
      ]
     },
     "execution_count": 98,
     "metadata": {},
     "output_type": "execute_result"
    },
    {
     "data": {
      "image/png": "[encoded data removed]",
      "text/plain": [
       "<Figure size 640x480 with 2 Axes>"
      ]
     },
     "metadata": {},
     "output_type": "display_data"
    }
   ],
   "source": [
    "ConfusionMatrixDisplay.from_predictions(y_test, y_pred)"
   ]
  },
  {
   "cell_type": "code",
   "execution_count": null,
   "metadata": {},
   "outputs": [
    {
     "data": {
      "image/png": "[encoded data removed]",
      "text/plain": [
       "<Figure size 1500x1500 with 1 Axes>"
      ]
     },
     "metadata": {},
     "output_type": "display_data"
    }
   ],
   "source": [
    "importances = best_model_lr.steps[1][1].coef_[0]\n",
    "\n",
    "\n",
    "\n",
    "linear_importances = pd.Series(importances, index= X_train.columns).sort_values()\n",
    "\n",
    "fig, ax = plt.subplots(figsize = (15,15))\n",
    "\n",
    "linear_importances.plot.barh(ax=ax)\n",
    "\n",
    "ax.set_title(\"Feature importances\")\n",
    "ax.set_xlabel(\"Model coef\")\n",
    "fig.tight_layout()\n",
    "plt.show()"
   ]
  },
  {
   "cell_type": "code",
   "execution_count": 100,
   "metadata": {},
   "outputs": [],
   "source": [
    "def min_max_scale(x):\n",
    "    return (x - x.min())/(x.max() - x.min())"
   ]
  },
  {
   "cell_type": "code",
   "execution_count": 101,
   "metadata": {},
   "outputs": [
    {
     "data": {
      "image/png": "[encoded data removed]",
      "text/plain": [
       "<Figure size 1500x1500 with 2 Axes>"
      ]
     },
     "metadata": {},
     "output_type": "display_data"
    }
   ],
   "source": [
    "fig, (ax_1, ax_2) = plt.subplots(1,2, figsize = (15,15))\n",
    "\n",
    "\n",
    "\n",
    "\n",
    "min_max_scale(linear_importances.abs()).sort_values().plot.barh(ax=ax_1)\n",
    "\n",
    "ax_1.set_title(\"Feature importances linear\")\n",
    "ax_1.set_xlabel(\"Feature importances\")\n",
    "\n",
    "forest_importances.plot.barh(ax=ax_2)\n",
    "\n",
    "ax_2.set_title(\"Feature importances using MDI\")\n",
    "ax_2.set_xlabel(\"Mean decrease in impurity\")\n",
    "fig.tight_layout()\n",
    "plt.show()"
   ]
  },
  {
   "cell_type": "code",
   "execution_count": 9,
   "metadata": {},
   "outputs": [],
   "source": [
    "drop_features = ['submit_email', 'ratio_nullHyperlinks', 'nb_external_redirection',  'popup_window', 'nb_com', 'empty_title']"
   ]
  },
  {
   "cell_type": "code",
   "execution_count": 10,
   "metadata": {},
   "outputs": [
    {
     "ename": "NameError",
     "evalue": "name 'X' is not defined",
     "output_type": "error",
     "traceback": [
      "\u001b[1;31m---------------------------------------------------------------------------\u001b[0m",
      "\u001b[1;31mNameError\u001b[0m                                 Traceback (most recent call last)",
      "Cell \u001b[1;32mIn[10], line 1\u001b[0m\n\u001b[1;32m----> 1\u001b[0m X \u001b[38;5;241m=\u001b[39m X\u001b[38;5;241m.\u001b[39mdrop(drop_features, axis\u001b[38;5;241m=\u001b[39m \u001b[38;5;241m1\u001b[39m)\n",
      "\u001b[1;31mNameError\u001b[0m: name 'X' is not defined"
     ]
    }
   ],
   "source": [
    "X = X.drop(drop_features, axis= 1)"
   ]
  },
  {
   "cell_type": "code",
   "execution_count": 71,
   "metadata": {},
   "outputs": [],
   "source": [
    "X_train, X_test, y_train, y_test = train_test_split(X,y, test_size=0.2, random_state=1234)"
   ]
  },
  {
   "cell_type": "code",
   "execution_count": null,
   "metadata": {},
   "outputs": [],
   "source": [
    "\n",
    "best_model.fit(X_train ,y_train )\n",
    "\n",
    "y_pred  =  best_model.predict(X_test)\n",
    "\n",
    "\n",
    "print(classification_report(y_test, y_pred))"
   ]
  },
  {
   "cell_type": "code",
   "execution_count": null,
   "metadata": {},
   "outputs": [],
   "source": [
    "best_model_lr.fit(X_train ,y_train )\n",
    "\n",
    "y_pred  =  best_model_lr.predict(X_test)\n",
    "\n",
    "\n",
    "print(classification_report(y_test, y_pred))"
   ]
  },
  {
   "cell_type": "markdown",
   "metadata": {},
   "source": [
    "Conclusion: from the analysis above, we were able to understand which features have value and which do not, and removed those features that have no value. But our models are difficult to apply in the real world, so it is necessary to build a model that will extract information ONLY from the link, without involving third-party resources.\n",
    "\n",
    "The task: to build a neural network based ONLY on the links that we have, without involving additional information and third-party services."
   ]
  },
  {
   "cell_type": "code",
   "execution_count": 11,
   "metadata": {},
   "outputs": [
    {
     "data": {
      "text/plain": [
       "count    11430.000000\n",
       "mean        61.120035\n",
       "std         55.292470\n",
       "min         12.000000\n",
       "25%         33.000000\n",
       "50%         47.000000\n",
       "75%         71.000000\n",
       "max       1641.000000\n",
       "Name: url, dtype: float64"
      ]
     },
     "execution_count": 11,
     "metadata": {},
     "output_type": "execute_result"
    }
   ],
   "source": [
    "df['url'].apply(lambda s : len(s)).describe()"
   ]
  },
  {
   "cell_type": "code",
   "execution_count": 12,
   "metadata": {},
   "outputs": [
    {
     "data": {
      "text/plain": [
       "np.float64(263.0)"
      ]
     },
     "execution_count": 12,
     "metadata": {},
     "output_type": "execute_result"
    }
   ],
   "source": [
    "df['url'].apply(lambda s : len(s)).quantile(0.99)"
   ]
  },
  {
   "cell_type": "code",
   "execution_count": 13,
   "metadata": {},
   "outputs": [
    {
     "data": {
      "text/html": [
       "<div>\n",
       "<style scoped>\n",
       "    .dataframe tbody tr th:only-of-type {\n",
       "        vertical-align: middle;\n",
       "    }\n",
       "\n",
       "    .dataframe tbody tr th {\n",
       "        vertical-align: top;\n",
       "    }\n",
       "\n",
       "    .dataframe thead th {\n",
       "        text-align: right;\n",
       "    }\n",
       "</style>\n",
       "<table border=\"1\" class=\"dataframe\">\n",
       "  <thead>\n",
       "    <tr style=\"text-align: right;\">\n",
       "      <th></th>\n",
       "      <th>url</th>\n",
       "      <th>status</th>\n",
       "    </tr>\n",
       "  </thead>\n",
       "  <tbody>\n",
       "    <tr>\n",
       "      <th>0</th>\n",
       "      <td>http://www.crestonwood.com/router.php</td>\n",
       "      <td>legitimate</td>\n",
       "    </tr>\n",
       "    <tr>\n",
       "      <th>1</th>\n",
       "      <td>http://shadetreetechnology.com/V4/validation/a...</td>\n",
       "      <td>phishing</td>\n",
       "    </tr>\n",
       "    <tr>\n",
       "      <th>2</th>\n",
       "      <td>https://support-appleld.com.secureupdate.duila...</td>\n",
       "      <td>phishing</td>\n",
       "    </tr>\n",
       "    <tr>\n",
       "      <th>3</th>\n",
       "      <td>http://rgipt.ac.in</td>\n",
       "      <td>legitimate</td>\n",
       "    </tr>\n",
       "    <tr>\n",
       "      <th>4</th>\n",
       "      <td>http://www.iracing.com/tracks/gateway-motorspo...</td>\n",
       "      <td>legitimate</td>\n",
       "    </tr>\n",
       "    <tr>\n",
       "      <th>...</th>\n",
       "      <td>...</td>\n",
       "      <td>...</td>\n",
       "    </tr>\n",
       "    <tr>\n",
       "      <th>11425</th>\n",
       "      <td>http://www.fontspace.com/category/blackletter</td>\n",
       "      <td>legitimate</td>\n",
       "    </tr>\n",
       "    <tr>\n",
       "      <th>11426</th>\n",
       "      <td>http://www.budgetbots.com/server.php/Server%20...</td>\n",
       "      <td>phishing</td>\n",
       "    </tr>\n",
       "    <tr>\n",
       "      <th>11427</th>\n",
       "      <td>https://www.facebook.com/Interactive-Televisio...</td>\n",
       "      <td>legitimate</td>\n",
       "    </tr>\n",
       "    <tr>\n",
       "      <th>11428</th>\n",
       "      <td>http://www.mypublicdomainpictures.com/</td>\n",
       "      <td>legitimate</td>\n",
       "    </tr>\n",
       "    <tr>\n",
       "      <th>11429</th>\n",
       "      <td>http://174.139.46.123/ap/signin?openid.pape.ma...</td>\n",
       "      <td>phishing</td>\n",
       "    </tr>\n",
       "  </tbody>\n",
       "</table>\n",
       "<p>11430 rows × 2 columns</p>\n",
       "</div>"
      ],
      "text/plain": [
       "                                                     url      status\n",
       "0                  http://www.crestonwood.com/router.php  legitimate\n",
       "1      http://shadetreetechnology.com/V4/validation/a...    phishing\n",
       "2      https://support-appleld.com.secureupdate.duila...    phishing\n",
       "3                                     http://rgipt.ac.in  legitimate\n",
       "4      http://www.iracing.com/tracks/gateway-motorspo...  legitimate\n",
       "...                                                  ...         ...\n",
       "11425      http://www.fontspace.com/category/blackletter  legitimate\n",
       "11426  http://www.budgetbots.com/server.php/Server%20...    phishing\n",
       "11427  https://www.facebook.com/Interactive-Televisio...  legitimate\n",
       "11428             http://www.mypublicdomainpictures.com/  legitimate\n",
       "11429  http://174.139.46.123/ap/signin?openid.pape.ma...    phishing\n",
       "\n",
       "[11430 rows x 2 columns]"
      ]
     },
     "execution_count": 13,
     "metadata": {},
     "output_type": "execute_result"
    }
   ],
   "source": [
    "df_text = df[['url', 'status']]\n",
    "df_text"
   ]
  },
  {
   "cell_type": "code",
   "execution_count": 14,
   "metadata": {},
   "outputs": [
    {
     "data": {
      "text/plain": [
       "array(['h', 't', 'p', ':', '/', 'w', '.', 'c', 'r', 'e', 's', 'o', 'n',\n",
       "       'd', 'm', 'u', 'a', 'l', 'g', 'y', 'V', '4', 'v', 'i', '1', '8',\n",
       "       '3', '9', '0', 'b', 'f', '-', 'k', '6', '?', '=', '_', '&', '7',\n",
       "       '5', '2', 'j', 'z', 'A', 'M', 'N', 'P', 'D', 'H', 'L', ';', '@',\n",
       "       'q', 'x', 'Z', 'T', 'O', 'S', 'I', 'E', 'Y', 'X', 'W', 'K', 'B',\n",
       "       'C', 'Q', 'U', 'F', 'J', '#', '%', 'R', 'G', '~', '+', '[', ']',\n",
       "       '(', ')', ',', '{', '}', '!', '$', \"'\", '*', 'µ', '拠', '傅', '`',\n",
       "       'Ã', '\\x83', 'Â', '\\x82', '\\xa0', '^', '\\x91', ' ', '<'],\n",
       "      dtype=object)"
      ]
     },
     "execution_count": 14,
     "metadata": {},
     "output_type": "execute_result"
    }
   ],
   "source": [
    "vocab = df['url'].apply(list).apply(pd.Series).stack().unique()\n",
    "vocab"
   ]
  },
  {
   "cell_type": "code",
   "execution_count": 15,
   "metadata": {},
   "outputs": [],
   "source": [
    "vocab = {k:v for v,k in enumerate(vocab, 1)}"
   ]
  },
  {
   "cell_type": "code",
   "execution_count": 16,
   "metadata": {},
   "outputs": [
    {
     "data": {
      "text/plain": [
       "{'h': 1,\n",
       " 't': 2,\n",
       " 'p': 3,\n",
       " ':': 4,\n",
       " '/': 5,\n",
       " 'w': 6,\n",
       " '.': 7,\n",
       " 'c': 8,\n",
       " 'r': 9,\n",
       " 'e': 10,\n",
       " 's': 11,\n",
       " 'o': 12,\n",
       " 'n': 13,\n",
       " 'd': 14,\n",
       " 'm': 15,\n",
       " 'u': 16,\n",
       " 'a': 17,\n",
       " 'l': 18,\n",
       " 'g': 19,\n",
       " 'y': 20,\n",
       " 'V': 21,\n",
       " '4': 22,\n",
       " 'v': 23,\n",
       " 'i': 24,\n",
       " '1': 25,\n",
       " '8': 26,\n",
       " '3': 27,\n",
       " '9': 28,\n",
       " '0': 29,\n",
       " 'b': 30,\n",
       " 'f': 31,\n",
       " '-': 32,\n",
       " 'k': 33,\n",
       " '6': 34,\n",
       " '?': 35,\n",
       " '=': 36,\n",
       " '_': 37,\n",
       " '&': 38,\n",
       " '7': 39,\n",
       " '5': 40,\n",
       " '2': 41,\n",
       " 'j': 42,\n",
       " 'z': 43,\n",
       " 'A': 44,\n",
       " 'M': 45,\n",
       " 'N': 46,\n",
       " 'P': 47,\n",
       " 'D': 48,\n",
       " 'H': 49,\n",
       " 'L': 50,\n",
       " ';': 51,\n",
       " '@': 52,\n",
       " 'q': 53,\n",
       " 'x': 54,\n",
       " 'Z': 55,\n",
       " 'T': 56,\n",
       " 'O': 57,\n",
       " 'S': 58,\n",
       " 'I': 59,\n",
       " 'E': 60,\n",
       " 'Y': 61,\n",
       " 'X': 62,\n",
       " 'W': 63,\n",
       " 'K': 64,\n",
       " 'B': 65,\n",
       " 'C': 66,\n",
       " 'Q': 67,\n",
       " 'U': 68,\n",
       " 'F': 69,\n",
       " 'J': 70,\n",
       " '#': 71,\n",
       " '%': 72,\n",
       " 'R': 73,\n",
       " 'G': 74,\n",
       " '~': 75,\n",
       " '+': 76,\n",
       " '[': 77,\n",
       " ']': 78,\n",
       " '(': 79,\n",
       " ')': 80,\n",
       " ',': 81,\n",
       " '{': 82,\n",
       " '}': 83,\n",
       " '!': 84,\n",
       " '$': 85,\n",
       " \"'\": 86,\n",
       " '*': 87,\n",
       " 'µ': 88,\n",
       " '拠': 89,\n",
       " '傅': 90,\n",
       " '`': 91,\n",
       " 'Ã': 92,\n",
       " '\\x83': 93,\n",
       " 'Â': 94,\n",
       " '\\x82': 95,\n",
       " '\\xa0': 96,\n",
       " '^': 97,\n",
       " '\\x91': 98,\n",
       " ' ': 99,\n",
       " '<': 100}"
      ]
     },
     "execution_count": 16,
     "metadata": {},
     "output_type": "execute_result"
    }
   ],
   "source": [
    "vocab"
   ]
  },
  {
   "cell_type": "code",
   "execution_count": 17,
   "metadata": {},
   "outputs": [
    {
     "name": "stderr",
     "output_type": "stream",
     "text": [
      "C:\\Users\\Admin\\AppData\\Local\\Temp\\ipykernel_26488\\3127892793.py:1: SettingWithCopyWarning: \n",
      "A value is trying to be set on a copy of a slice from a DataFrame.\n",
      "Try using .loc[row_indexer,col_indexer] = value instead\n",
      "\n",
      "See the caveats in the documentation: https://pandas.pydata.org/pandas-docs/stable/user_guide/indexing.html#returning-a-view-versus-a-copy\n",
      "  df_text['tokens'] =  df_text['url'].apply(list)\n"
     ]
    }
   ],
   "source": [
    "df_text['tokens'] =  df_text['url'].apply(list)"
   ]
  },
  {
   "cell_type": "code",
   "execution_count": 18,
   "metadata": {},
   "outputs": [
    {
     "data": {
      "text/html": [
       "<div>\n",
       "<style scoped>\n",
       "    .dataframe tbody tr th:only-of-type {\n",
       "        vertical-align: middle;\n",
       "    }\n",
       "\n",
       "    .dataframe tbody tr th {\n",
       "        vertical-align: top;\n",
       "    }\n",
       "\n",
       "    .dataframe thead th {\n",
       "        text-align: right;\n",
       "    }\n",
       "</style>\n",
       "<table border=\"1\" class=\"dataframe\">\n",
       "  <thead>\n",
       "    <tr style=\"text-align: right;\">\n",
       "      <th></th>\n",
       "      <th>url</th>\n",
       "      <th>status</th>\n",
       "      <th>tokens</th>\n",
       "    </tr>\n",
       "  </thead>\n",
       "  <tbody>\n",
       "    <tr>\n",
       "      <th>0</th>\n",
       "      <td>http://www.crestonwood.com/router.php</td>\n",
       "      <td>legitimate</td>\n",
       "      <td>[h, t, t, p, :, /, /, w, w, w, ., c, r, e, s, ...</td>\n",
       "    </tr>\n",
       "    <tr>\n",
       "      <th>1</th>\n",
       "      <td>http://shadetreetechnology.com/V4/validation/a...</td>\n",
       "      <td>phishing</td>\n",
       "      <td>[h, t, t, p, :, /, /, s, h, a, d, e, t, r, e, ...</td>\n",
       "    </tr>\n",
       "    <tr>\n",
       "      <th>2</th>\n",
       "      <td>https://support-appleld.com.secureupdate.duila...</td>\n",
       "      <td>phishing</td>\n",
       "      <td>[h, t, t, p, s, :, /, /, s, u, p, p, o, r, t, ...</td>\n",
       "    </tr>\n",
       "    <tr>\n",
       "      <th>3</th>\n",
       "      <td>http://rgipt.ac.in</td>\n",
       "      <td>legitimate</td>\n",
       "      <td>[h, t, t, p, :, /, /, r, g, i, p, t, ., a, c, ...</td>\n",
       "    </tr>\n",
       "    <tr>\n",
       "      <th>4</th>\n",
       "      <td>http://www.iracing.com/tracks/gateway-motorspo...</td>\n",
       "      <td>legitimate</td>\n",
       "      <td>[h, t, t, p, :, /, /, w, w, w, ., i, r, a, c, ...</td>\n",
       "    </tr>\n",
       "    <tr>\n",
       "      <th>...</th>\n",
       "      <td>...</td>\n",
       "      <td>...</td>\n",
       "      <td>...</td>\n",
       "    </tr>\n",
       "    <tr>\n",
       "      <th>11425</th>\n",
       "      <td>http://www.fontspace.com/category/blackletter</td>\n",
       "      <td>legitimate</td>\n",
       "      <td>[h, t, t, p, :, /, /, w, w, w, ., f, o, n, t, ...</td>\n",
       "    </tr>\n",
       "    <tr>\n",
       "      <th>11426</th>\n",
       "      <td>http://www.budgetbots.com/server.php/Server%20...</td>\n",
       "      <td>phishing</td>\n",
       "      <td>[h, t, t, p, :, /, /, w, w, w, ., b, u, d, g, ...</td>\n",
       "    </tr>\n",
       "    <tr>\n",
       "      <th>11427</th>\n",
       "      <td>https://www.facebook.com/Interactive-Televisio...</td>\n",
       "      <td>legitimate</td>\n",
       "      <td>[h, t, t, p, s, :, /, /, w, w, w, ., f, a, c, ...</td>\n",
       "    </tr>\n",
       "    <tr>\n",
       "      <th>11428</th>\n",
       "      <td>http://www.mypublicdomainpictures.com/</td>\n",
       "      <td>legitimate</td>\n",
       "      <td>[h, t, t, p, :, /, /, w, w, w, ., m, y, p, u, ...</td>\n",
       "    </tr>\n",
       "    <tr>\n",
       "      <th>11429</th>\n",
       "      <td>http://174.139.46.123/ap/signin?openid.pape.ma...</td>\n",
       "      <td>phishing</td>\n",
       "      <td>[h, t, t, p, :, /, /, 1, 7, 4, ., 1, 3, 9, ., ...</td>\n",
       "    </tr>\n",
       "  </tbody>\n",
       "</table>\n",
       "<p>11430 rows × 3 columns</p>\n",
       "</div>"
      ],
      "text/plain": [
       "                                                     url      status  \\\n",
       "0                  http://www.crestonwood.com/router.php  legitimate   \n",
       "1      http://shadetreetechnology.com/V4/validation/a...    phishing   \n",
       "2      https://support-appleld.com.secureupdate.duila...    phishing   \n",
       "3                                     http://rgipt.ac.in  legitimate   \n",
       "4      http://www.iracing.com/tracks/gateway-motorspo...  legitimate   \n",
       "...                                                  ...         ...   \n",
       "11425      http://www.fontspace.com/category/blackletter  legitimate   \n",
       "11426  http://www.budgetbots.com/server.php/Server%20...    phishing   \n",
       "11427  https://www.facebook.com/Interactive-Televisio...  legitimate   \n",
       "11428             http://www.mypublicdomainpictures.com/  legitimate   \n",
       "11429  http://174.139.46.123/ap/signin?openid.pape.ma...    phishing   \n",
       "\n",
       "                                                  tokens  \n",
       "0      [h, t, t, p, :, /, /, w, w, w, ., c, r, e, s, ...  \n",
       "1      [h, t, t, p, :, /, /, s, h, a, d, e, t, r, e, ...  \n",
       "2      [h, t, t, p, s, :, /, /, s, u, p, p, o, r, t, ...  \n",
       "3      [h, t, t, p, :, /, /, r, g, i, p, t, ., a, c, ...  \n",
       "4      [h, t, t, p, :, /, /, w, w, w, ., i, r, a, c, ...  \n",
       "...                                                  ...  \n",
       "11425  [h, t, t, p, :, /, /, w, w, w, ., f, o, n, t, ...  \n",
       "11426  [h, t, t, p, :, /, /, w, w, w, ., b, u, d, g, ...  \n",
       "11427  [h, t, t, p, s, :, /, /, w, w, w, ., f, a, c, ...  \n",
       "11428  [h, t, t, p, :, /, /, w, w, w, ., m, y, p, u, ...  \n",
       "11429  [h, t, t, p, :, /, /, 1, 7, 4, ., 1, 3, 9, ., ...  \n",
       "\n",
       "[11430 rows x 3 columns]"
      ]
     },
     "execution_count": 18,
     "metadata": {},
     "output_type": "execute_result"
    }
   ],
   "source": [
    "df_text"
   ]
  },
  {
   "cell_type": "code",
   "execution_count": 19,
   "metadata": {},
   "outputs": [
    {
     "name": "stderr",
     "output_type": "stream",
     "text": [
      "C:\\Users\\Admin\\AppData\\Local\\Temp\\ipykernel_26488\\1446237092.py:1: SettingWithCopyWarning: \n",
      "A value is trying to be set on a copy of a slice from a DataFrame.\n",
      "Try using .loc[row_indexer,col_indexer] = value instead\n",
      "\n",
      "See the caveats in the documentation: https://pandas.pydata.org/pandas-docs/stable/user_guide/indexing.html#returning-a-view-versus-a-copy\n",
      "  df_text['idx'] = df_text['tokens'].apply(lambda x: list(map(lambda y: vocab[y],x)))\n"
     ]
    }
   ],
   "source": [
    "df_text['idx'] = df_text['tokens'].apply(lambda x: list(map(lambda y: vocab[y],x)))"
   ]
  },
  {
   "cell_type": "code",
   "execution_count": 20,
   "metadata": {},
   "outputs": [
    {
     "data": {
      "text/html": [
       "<div>\n",
       "<style scoped>\n",
       "    .dataframe tbody tr th:only-of-type {\n",
       "        vertical-align: middle;\n",
       "    }\n",
       "\n",
       "    .dataframe tbody tr th {\n",
       "        vertical-align: top;\n",
       "    }\n",
       "\n",
       "    .dataframe thead th {\n",
       "        text-align: right;\n",
       "    }\n",
       "</style>\n",
       "<table border=\"1\" class=\"dataframe\">\n",
       "  <thead>\n",
       "    <tr style=\"text-align: right;\">\n",
       "      <th></th>\n",
       "      <th>url</th>\n",
       "      <th>status</th>\n",
       "      <th>tokens</th>\n",
       "      <th>idx</th>\n",
       "    </tr>\n",
       "  </thead>\n",
       "  <tbody>\n",
       "    <tr>\n",
       "      <th>0</th>\n",
       "      <td>http://www.crestonwood.com/router.php</td>\n",
       "      <td>legitimate</td>\n",
       "      <td>[h, t, t, p, :, /, /, w, w, w, ., c, r, e, s, ...</td>\n",
       "      <td>[1, 2, 2, 3, 4, 5, 5, 6, 6, 6, 7, 8, 9, 10, 11...</td>\n",
       "    </tr>\n",
       "    <tr>\n",
       "      <th>1</th>\n",
       "      <td>http://shadetreetechnology.com/V4/validation/a...</td>\n",
       "      <td>phishing</td>\n",
       "      <td>[h, t, t, p, :, /, /, s, h, a, d, e, t, r, e, ...</td>\n",
       "      <td>[1, 2, 2, 3, 4, 5, 5, 11, 1, 17, 14, 10, 2, 9,...</td>\n",
       "    </tr>\n",
       "    <tr>\n",
       "      <th>2</th>\n",
       "      <td>https://support-appleld.com.secureupdate.duila...</td>\n",
       "      <td>phishing</td>\n",
       "      <td>[h, t, t, p, s, :, /, /, s, u, p, p, o, r, t, ...</td>\n",
       "      <td>[1, 2, 2, 3, 11, 4, 5, 5, 11, 16, 3, 3, 12, 9,...</td>\n",
       "    </tr>\n",
       "    <tr>\n",
       "      <th>3</th>\n",
       "      <td>http://rgipt.ac.in</td>\n",
       "      <td>legitimate</td>\n",
       "      <td>[h, t, t, p, :, /, /, r, g, i, p, t, ., a, c, ...</td>\n",
       "      <td>[1, 2, 2, 3, 4, 5, 5, 9, 19, 24, 3, 2, 7, 17, ...</td>\n",
       "    </tr>\n",
       "    <tr>\n",
       "      <th>4</th>\n",
       "      <td>http://www.iracing.com/tracks/gateway-motorspo...</td>\n",
       "      <td>legitimate</td>\n",
       "      <td>[h, t, t, p, :, /, /, w, w, w, ., i, r, a, c, ...</td>\n",
       "      <td>[1, 2, 2, 3, 4, 5, 5, 6, 6, 6, 7, 24, 9, 17, 8...</td>\n",
       "    </tr>\n",
       "    <tr>\n",
       "      <th>...</th>\n",
       "      <td>...</td>\n",
       "      <td>...</td>\n",
       "      <td>...</td>\n",
       "      <td>...</td>\n",
       "    </tr>\n",
       "    <tr>\n",
       "      <th>11425</th>\n",
       "      <td>http://www.fontspace.com/category/blackletter</td>\n",
       "      <td>legitimate</td>\n",
       "      <td>[h, t, t, p, :, /, /, w, w, w, ., f, o, n, t, ...</td>\n",
       "      <td>[1, 2, 2, 3, 4, 5, 5, 6, 6, 6, 7, 31, 12, 13, ...</td>\n",
       "    </tr>\n",
       "    <tr>\n",
       "      <th>11426</th>\n",
       "      <td>http://www.budgetbots.com/server.php/Server%20...</td>\n",
       "      <td>phishing</td>\n",
       "      <td>[h, t, t, p, :, /, /, w, w, w, ., b, u, d, g, ...</td>\n",
       "      <td>[1, 2, 2, 3, 4, 5, 5, 6, 6, 6, 7, 30, 16, 14, ...</td>\n",
       "    </tr>\n",
       "    <tr>\n",
       "      <th>11427</th>\n",
       "      <td>https://www.facebook.com/Interactive-Televisio...</td>\n",
       "      <td>legitimate</td>\n",
       "      <td>[h, t, t, p, s, :, /, /, w, w, w, ., f, a, c, ...</td>\n",
       "      <td>[1, 2, 2, 3, 11, 4, 5, 5, 6, 6, 6, 7, 31, 17, ...</td>\n",
       "    </tr>\n",
       "    <tr>\n",
       "      <th>11428</th>\n",
       "      <td>http://www.mypublicdomainpictures.com/</td>\n",
       "      <td>legitimate</td>\n",
       "      <td>[h, t, t, p, :, /, /, w, w, w, ., m, y, p, u, ...</td>\n",
       "      <td>[1, 2, 2, 3, 4, 5, 5, 6, 6, 6, 7, 15, 20, 3, 1...</td>\n",
       "    </tr>\n",
       "    <tr>\n",
       "      <th>11429</th>\n",
       "      <td>http://174.139.46.123/ap/signin?openid.pape.ma...</td>\n",
       "      <td>phishing</td>\n",
       "      <td>[h, t, t, p, :, /, /, 1, 7, 4, ., 1, 3, 9, ., ...</td>\n",
       "      <td>[1, 2, 2, 3, 4, 5, 5, 25, 39, 22, 7, 25, 27, 2...</td>\n",
       "    </tr>\n",
       "  </tbody>\n",
       "</table>\n",
       "<p>11430 rows × 4 columns</p>\n",
       "</div>"
      ],
      "text/plain": [
       "                                                     url      status  \\\n",
       "0                  http://www.crestonwood.com/router.php  legitimate   \n",
       "1      http://shadetreetechnology.com/V4/validation/a...    phishing   \n",
       "2      https://support-appleld.com.secureupdate.duila...    phishing   \n",
       "3                                     http://rgipt.ac.in  legitimate   \n",
       "4      http://www.iracing.com/tracks/gateway-motorspo...  legitimate   \n",
       "...                                                  ...         ...   \n",
       "11425      http://www.fontspace.com/category/blackletter  legitimate   \n",
       "11426  http://www.budgetbots.com/server.php/Server%20...    phishing   \n",
       "11427  https://www.facebook.com/Interactive-Televisio...  legitimate   \n",
       "11428             http://www.mypublicdomainpictures.com/  legitimate   \n",
       "11429  http://174.139.46.123/ap/signin?openid.pape.ma...    phishing   \n",
       "\n",
       "                                                  tokens  \\\n",
       "0      [h, t, t, p, :, /, /, w, w, w, ., c, r, e, s, ...   \n",
       "1      [h, t, t, p, :, /, /, s, h, a, d, e, t, r, e, ...   \n",
       "2      [h, t, t, p, s, :, /, /, s, u, p, p, o, r, t, ...   \n",
       "3      [h, t, t, p, :, /, /, r, g, i, p, t, ., a, c, ...   \n",
       "4      [h, t, t, p, :, /, /, w, w, w, ., i, r, a, c, ...   \n",
       "...                                                  ...   \n",
       "11425  [h, t, t, p, :, /, /, w, w, w, ., f, o, n, t, ...   \n",
       "11426  [h, t, t, p, :, /, /, w, w, w, ., b, u, d, g, ...   \n",
       "11427  [h, t, t, p, s, :, /, /, w, w, w, ., f, a, c, ...   \n",
       "11428  [h, t, t, p, :, /, /, w, w, w, ., m, y, p, u, ...   \n",
       "11429  [h, t, t, p, :, /, /, 1, 7, 4, ., 1, 3, 9, ., ...   \n",
       "\n",
       "                                                     idx  \n",
       "0      [1, 2, 2, 3, 4, 5, 5, 6, 6, 6, 7, 8, 9, 10, 11...  \n",
       "1      [1, 2, 2, 3, 4, 5, 5, 11, 1, 17, 14, 10, 2, 9,...  \n",
       "2      [1, 2, 2, 3, 11, 4, 5, 5, 11, 16, 3, 3, 12, 9,...  \n",
       "3      [1, 2, 2, 3, 4, 5, 5, 9, 19, 24, 3, 2, 7, 17, ...  \n",
       "4      [1, 2, 2, 3, 4, 5, 5, 6, 6, 6, 7, 24, 9, 17, 8...  \n",
       "...                                                  ...  \n",
       "11425  [1, 2, 2, 3, 4, 5, 5, 6, 6, 6, 7, 31, 12, 13, ...  \n",
       "11426  [1, 2, 2, 3, 4, 5, 5, 6, 6, 6, 7, 30, 16, 14, ...  \n",
       "11427  [1, 2, 2, 3, 11, 4, 5, 5, 6, 6, 6, 7, 31, 17, ...  \n",
       "11428  [1, 2, 2, 3, 4, 5, 5, 6, 6, 6, 7, 15, 20, 3, 1...  \n",
       "11429  [1, 2, 2, 3, 4, 5, 5, 25, 39, 22, 7, 25, 27, 2...  \n",
       "\n",
       "[11430 rows x 4 columns]"
      ]
     },
     "execution_count": 20,
     "metadata": {},
     "output_type": "execute_result"
    }
   ],
   "source": [
    "df_text"
   ]
  },
  {
   "cell_type": "code",
   "execution_count": 21,
   "metadata": {},
   "outputs": [],
   "source": [
    "df_text = df_text.drop(['tokens', 'url'], axis = 1)"
   ]
  },
  {
   "cell_type": "code",
   "execution_count": 22,
   "metadata": {},
   "outputs": [
    {
     "data": {
      "text/plain": [
       "np.int64(1641)"
      ]
     },
     "execution_count": 22,
     "metadata": {},
     "output_type": "execute_result"
    }
   ],
   "source": [
    "df_text['idx'].apply(len).max()"
   ]
  },
  {
   "cell_type": "code",
   "execution_count": 23,
   "metadata": {},
   "outputs": [
    {
     "data": {
      "text/html": [
       "<div>\n",
       "<style scoped>\n",
       "    .dataframe tbody tr th:only-of-type {\n",
       "        vertical-align: middle;\n",
       "    }\n",
       "\n",
       "    .dataframe tbody tr th {\n",
       "        vertical-align: top;\n",
       "    }\n",
       "\n",
       "    .dataframe thead th {\n",
       "        text-align: right;\n",
       "    }\n",
       "</style>\n",
       "<table border=\"1\" class=\"dataframe\">\n",
       "  <thead>\n",
       "    <tr style=\"text-align: right;\">\n",
       "      <th></th>\n",
       "      <th>status</th>\n",
       "      <th>idx</th>\n",
       "    </tr>\n",
       "  </thead>\n",
       "  <tbody>\n",
       "    <tr>\n",
       "      <th>0</th>\n",
       "      <td>legitimate</td>\n",
       "      <td>[1, 2, 2, 3, 4, 5, 5, 6, 6, 6, 7, 8, 9, 10, 11...</td>\n",
       "    </tr>\n",
       "    <tr>\n",
       "      <th>1</th>\n",
       "      <td>phishing</td>\n",
       "      <td>[1, 2, 2, 3, 4, 5, 5, 11, 1, 17, 14, 10, 2, 9,...</td>\n",
       "    </tr>\n",
       "    <tr>\n",
       "      <th>2</th>\n",
       "      <td>phishing</td>\n",
       "      <td>[1, 2, 2, 3, 11, 4, 5, 5, 11, 16, 3, 3, 12, 9,...</td>\n",
       "    </tr>\n",
       "    <tr>\n",
       "      <th>3</th>\n",
       "      <td>legitimate</td>\n",
       "      <td>[1, 2, 2, 3, 4, 5, 5, 9, 19, 24, 3, 2, 7, 17, ...</td>\n",
       "    </tr>\n",
       "    <tr>\n",
       "      <th>4</th>\n",
       "      <td>legitimate</td>\n",
       "      <td>[1, 2, 2, 3, 4, 5, 5, 6, 6, 6, 7, 24, 9, 17, 8...</td>\n",
       "    </tr>\n",
       "    <tr>\n",
       "      <th>...</th>\n",
       "      <td>...</td>\n",
       "      <td>...</td>\n",
       "    </tr>\n",
       "    <tr>\n",
       "      <th>11425</th>\n",
       "      <td>legitimate</td>\n",
       "      <td>[1, 2, 2, 3, 4, 5, 5, 6, 6, 6, 7, 31, 12, 13, ...</td>\n",
       "    </tr>\n",
       "    <tr>\n",
       "      <th>11426</th>\n",
       "      <td>phishing</td>\n",
       "      <td>[1, 2, 2, 3, 4, 5, 5, 6, 6, 6, 7, 30, 16, 14, ...</td>\n",
       "    </tr>\n",
       "    <tr>\n",
       "      <th>11427</th>\n",
       "      <td>legitimate</td>\n",
       "      <td>[1, 2, 2, 3, 11, 4, 5, 5, 6, 6, 6, 7, 31, 17, ...</td>\n",
       "    </tr>\n",
       "    <tr>\n",
       "      <th>11428</th>\n",
       "      <td>legitimate</td>\n",
       "      <td>[1, 2, 2, 3, 4, 5, 5, 6, 6, 6, 7, 15, 20, 3, 1...</td>\n",
       "    </tr>\n",
       "    <tr>\n",
       "      <th>11429</th>\n",
       "      <td>phishing</td>\n",
       "      <td>[1, 2, 2, 3, 4, 5, 5, 25, 39, 22, 7, 25, 27, 2...</td>\n",
       "    </tr>\n",
       "  </tbody>\n",
       "</table>\n",
       "<p>11430 rows × 2 columns</p>\n",
       "</div>"
      ],
      "text/plain": [
       "           status                                                idx\n",
       "0      legitimate  [1, 2, 2, 3, 4, 5, 5, 6, 6, 6, 7, 8, 9, 10, 11...\n",
       "1        phishing  [1, 2, 2, 3, 4, 5, 5, 11, 1, 17, 14, 10, 2, 9,...\n",
       "2        phishing  [1, 2, 2, 3, 11, 4, 5, 5, 11, 16, 3, 3, 12, 9,...\n",
       "3      legitimate  [1, 2, 2, 3, 4, 5, 5, 9, 19, 24, 3, 2, 7, 17, ...\n",
       "4      legitimate  [1, 2, 2, 3, 4, 5, 5, 6, 6, 6, 7, 24, 9, 17, 8...\n",
       "...           ...                                                ...\n",
       "11425  legitimate  [1, 2, 2, 3, 4, 5, 5, 6, 6, 6, 7, 31, 12, 13, ...\n",
       "11426    phishing  [1, 2, 2, 3, 4, 5, 5, 6, 6, 6, 7, 30, 16, 14, ...\n",
       "11427  legitimate  [1, 2, 2, 3, 11, 4, 5, 5, 6, 6, 6, 7, 31, 17, ...\n",
       "11428  legitimate  [1, 2, 2, 3, 4, 5, 5, 6, 6, 6, 7, 15, 20, 3, 1...\n",
       "11429    phishing  [1, 2, 2, 3, 4, 5, 5, 25, 39, 22, 7, 25, 27, 2...\n",
       "\n",
       "[11430 rows x 2 columns]"
      ]
     },
     "execution_count": 23,
     "metadata": {},
     "output_type": "execute_result"
    }
   ],
   "source": [
    "df_text"
   ]
  },
  {
   "cell_type": "code",
   "execution_count": 24,
   "metadata": {},
   "outputs": [],
   "source": [
    "df_text['status']  = df_text['status'].apply(lambda x:  0 if x  == 'legitimate' else 1 )"
   ]
  },
  {
   "cell_type": "code",
   "execution_count": 25,
   "metadata": {},
   "outputs": [
    {
     "data": {
      "text/html": [
       "<div>\n",
       "<style scoped>\n",
       "    .dataframe tbody tr th:only-of-type {\n",
       "        vertical-align: middle;\n",
       "    }\n",
       "\n",
       "    .dataframe tbody tr th {\n",
       "        vertical-align: top;\n",
       "    }\n",
       "\n",
       "    .dataframe thead th {\n",
       "        text-align: right;\n",
       "    }\n",
       "</style>\n",
       "<table border=\"1\" class=\"dataframe\">\n",
       "  <thead>\n",
       "    <tr style=\"text-align: right;\">\n",
       "      <th></th>\n",
       "      <th>status</th>\n",
       "      <th>idx</th>\n",
       "    </tr>\n",
       "  </thead>\n",
       "  <tbody>\n",
       "    <tr>\n",
       "      <th>0</th>\n",
       "      <td>0</td>\n",
       "      <td>[1, 2, 2, 3, 4, 5, 5, 6, 6, 6, 7, 8, 9, 10, 11...</td>\n",
       "    </tr>\n",
       "    <tr>\n",
       "      <th>1</th>\n",
       "      <td>1</td>\n",
       "      <td>[1, 2, 2, 3, 4, 5, 5, 11, 1, 17, 14, 10, 2, 9,...</td>\n",
       "    </tr>\n",
       "    <tr>\n",
       "      <th>2</th>\n",
       "      <td>1</td>\n",
       "      <td>[1, 2, 2, 3, 11, 4, 5, 5, 11, 16, 3, 3, 12, 9,...</td>\n",
       "    </tr>\n",
       "    <tr>\n",
       "      <th>3</th>\n",
       "      <td>0</td>\n",
       "      <td>[1, 2, 2, 3, 4, 5, 5, 9, 19, 24, 3, 2, 7, 17, ...</td>\n",
       "    </tr>\n",
       "    <tr>\n",
       "      <th>4</th>\n",
       "      <td>0</td>\n",
       "      <td>[1, 2, 2, 3, 4, 5, 5, 6, 6, 6, 7, 24, 9, 17, 8...</td>\n",
       "    </tr>\n",
       "    <tr>\n",
       "      <th>...</th>\n",
       "      <td>...</td>\n",
       "      <td>...</td>\n",
       "    </tr>\n",
       "    <tr>\n",
       "      <th>11425</th>\n",
       "      <td>0</td>\n",
       "      <td>[1, 2, 2, 3, 4, 5, 5, 6, 6, 6, 7, 31, 12, 13, ...</td>\n",
       "    </tr>\n",
       "    <tr>\n",
       "      <th>11426</th>\n",
       "      <td>1</td>\n",
       "      <td>[1, 2, 2, 3, 4, 5, 5, 6, 6, 6, 7, 30, 16, 14, ...</td>\n",
       "    </tr>\n",
       "    <tr>\n",
       "      <th>11427</th>\n",
       "      <td>0</td>\n",
       "      <td>[1, 2, 2, 3, 11, 4, 5, 5, 6, 6, 6, 7, 31, 17, ...</td>\n",
       "    </tr>\n",
       "    <tr>\n",
       "      <th>11428</th>\n",
       "      <td>0</td>\n",
       "      <td>[1, 2, 2, 3, 4, 5, 5, 6, 6, 6, 7, 15, 20, 3, 1...</td>\n",
       "    </tr>\n",
       "    <tr>\n",
       "      <th>11429</th>\n",
       "      <td>1</td>\n",
       "      <td>[1, 2, 2, 3, 4, 5, 5, 25, 39, 22, 7, 25, 27, 2...</td>\n",
       "    </tr>\n",
       "  </tbody>\n",
       "</table>\n",
       "<p>11430 rows × 2 columns</p>\n",
       "</div>"
      ],
      "text/plain": [
       "       status                                                idx\n",
       "0           0  [1, 2, 2, 3, 4, 5, 5, 6, 6, 6, 7, 8, 9, 10, 11...\n",
       "1           1  [1, 2, 2, 3, 4, 5, 5, 11, 1, 17, 14, 10, 2, 9,...\n",
       "2           1  [1, 2, 2, 3, 11, 4, 5, 5, 11, 16, 3, 3, 12, 9,...\n",
       "3           0  [1, 2, 2, 3, 4, 5, 5, 9, 19, 24, 3, 2, 7, 17, ...\n",
       "4           0  [1, 2, 2, 3, 4, 5, 5, 6, 6, 6, 7, 24, 9, 17, 8...\n",
       "...       ...                                                ...\n",
       "11425       0  [1, 2, 2, 3, 4, 5, 5, 6, 6, 6, 7, 31, 12, 13, ...\n",
       "11426       1  [1, 2, 2, 3, 4, 5, 5, 6, 6, 6, 7, 30, 16, 14, ...\n",
       "11427       0  [1, 2, 2, 3, 11, 4, 5, 5, 6, 6, 6, 7, 31, 17, ...\n",
       "11428       0  [1, 2, 2, 3, 4, 5, 5, 6, 6, 6, 7, 15, 20, 3, 1...\n",
       "11429       1  [1, 2, 2, 3, 4, 5, 5, 25, 39, 22, 7, 25, 27, 2...\n",
       "\n",
       "[11430 rows x 2 columns]"
      ]
     },
     "execution_count": 25,
     "metadata": {},
     "output_type": "execute_result"
    }
   ],
   "source": [
    "df_text"
   ]
  },
  {
   "cell_type": "code",
   "execution_count": 26,
   "metadata": {},
   "outputs": [],
   "source": [
    "df_text = df_text[df_text['idx'].apply(len) <= 263]"
   ]
  },
  {
   "cell_type": "code",
   "execution_count": 27,
   "metadata": {},
   "outputs": [
    {
     "data": {
      "text/html": [
       "<div>\n",
       "<style scoped>\n",
       "    .dataframe tbody tr th:only-of-type {\n",
       "        vertical-align: middle;\n",
       "    }\n",
       "\n",
       "    .dataframe tbody tr th {\n",
       "        vertical-align: top;\n",
       "    }\n",
       "\n",
       "    .dataframe thead th {\n",
       "        text-align: right;\n",
       "    }\n",
       "</style>\n",
       "<table border=\"1\" class=\"dataframe\">\n",
       "  <thead>\n",
       "    <tr style=\"text-align: right;\">\n",
       "      <th></th>\n",
       "      <th>status</th>\n",
       "      <th>idx</th>\n",
       "    </tr>\n",
       "  </thead>\n",
       "  <tbody>\n",
       "    <tr>\n",
       "      <th>0</th>\n",
       "      <td>0</td>\n",
       "      <td>[1, 2, 2, 3, 4, 5, 5, 6, 6, 6, 7, 8, 9, 10, 11...</td>\n",
       "    </tr>\n",
       "    <tr>\n",
       "      <th>1</th>\n",
       "      <td>1</td>\n",
       "      <td>[1, 2, 2, 3, 4, 5, 5, 11, 1, 17, 14, 10, 2, 9,...</td>\n",
       "    </tr>\n",
       "    <tr>\n",
       "      <th>2</th>\n",
       "      <td>1</td>\n",
       "      <td>[1, 2, 2, 3, 11, 4, 5, 5, 11, 16, 3, 3, 12, 9,...</td>\n",
       "    </tr>\n",
       "    <tr>\n",
       "      <th>3</th>\n",
       "      <td>0</td>\n",
       "      <td>[1, 2, 2, 3, 4, 5, 5, 9, 19, 24, 3, 2, 7, 17, ...</td>\n",
       "    </tr>\n",
       "    <tr>\n",
       "      <th>4</th>\n",
       "      <td>0</td>\n",
       "      <td>[1, 2, 2, 3, 4, 5, 5, 6, 6, 6, 7, 24, 9, 17, 8...</td>\n",
       "    </tr>\n",
       "    <tr>\n",
       "      <th>...</th>\n",
       "      <td>...</td>\n",
       "      <td>...</td>\n",
       "    </tr>\n",
       "    <tr>\n",
       "      <th>11424</th>\n",
       "      <td>0</td>\n",
       "      <td>[1, 2, 2, 3, 4, 5, 5, 6, 6, 6, 7, 17, 13, 11, ...</td>\n",
       "    </tr>\n",
       "    <tr>\n",
       "      <th>11425</th>\n",
       "      <td>0</td>\n",
       "      <td>[1, 2, 2, 3, 4, 5, 5, 6, 6, 6, 7, 31, 12, 13, ...</td>\n",
       "    </tr>\n",
       "    <tr>\n",
       "      <th>11426</th>\n",
       "      <td>1</td>\n",
       "      <td>[1, 2, 2, 3, 4, 5, 5, 6, 6, 6, 7, 30, 16, 14, ...</td>\n",
       "    </tr>\n",
       "    <tr>\n",
       "      <th>11427</th>\n",
       "      <td>0</td>\n",
       "      <td>[1, 2, 2, 3, 11, 4, 5, 5, 6, 6, 6, 7, 31, 17, ...</td>\n",
       "    </tr>\n",
       "    <tr>\n",
       "      <th>11428</th>\n",
       "      <td>0</td>\n",
       "      <td>[1, 2, 2, 3, 4, 5, 5, 6, 6, 6, 7, 15, 20, 3, 1...</td>\n",
       "    </tr>\n",
       "  </tbody>\n",
       "</table>\n",
       "<p>11322 rows × 2 columns</p>\n",
       "</div>"
      ],
      "text/plain": [
       "       status                                                idx\n",
       "0           0  [1, 2, 2, 3, 4, 5, 5, 6, 6, 6, 7, 8, 9, 10, 11...\n",
       "1           1  [1, 2, 2, 3, 4, 5, 5, 11, 1, 17, 14, 10, 2, 9,...\n",
       "2           1  [1, 2, 2, 3, 11, 4, 5, 5, 11, 16, 3, 3, 12, 9,...\n",
       "3           0  [1, 2, 2, 3, 4, 5, 5, 9, 19, 24, 3, 2, 7, 17, ...\n",
       "4           0  [1, 2, 2, 3, 4, 5, 5, 6, 6, 6, 7, 24, 9, 17, 8...\n",
       "...       ...                                                ...\n",
       "11424       0  [1, 2, 2, 3, 4, 5, 5, 6, 6, 6, 7, 17, 13, 11, ...\n",
       "11425       0  [1, 2, 2, 3, 4, 5, 5, 6, 6, 6, 7, 31, 12, 13, ...\n",
       "11426       1  [1, 2, 2, 3, 4, 5, 5, 6, 6, 6, 7, 30, 16, 14, ...\n",
       "11427       0  [1, 2, 2, 3, 11, 4, 5, 5, 6, 6, 6, 7, 31, 17, ...\n",
       "11428       0  [1, 2, 2, 3, 4, 5, 5, 6, 6, 6, 7, 15, 20, 3, 1...\n",
       "\n",
       "[11322 rows x 2 columns]"
      ]
     },
     "execution_count": 27,
     "metadata": {},
     "output_type": "execute_result"
    }
   ],
   "source": [
    "df_text"
   ]
  },
  {
   "cell_type": "code",
   "execution_count": 28,
   "metadata": {},
   "outputs": [
    {
     "data": {
      "text/plain": [
       "tensor([0, 1, 1,  ..., 1, 0, 0])"
      ]
     },
     "execution_count": 28,
     "metadata": {},
     "output_type": "execute_result"
    }
   ],
   "source": [
    "y = torch.tensor(df_text['status'].values)\n",
    "y"
   ]
  },
  {
   "cell_type": "code",
   "execution_count": 29,
   "metadata": {},
   "outputs": [],
   "source": [
    "x = torch.zeros(11322, 263).long()"
   ]
  },
  {
   "cell_type": "code",
   "execution_count": 30,
   "metadata": {},
   "outputs": [
    {
     "data": {
      "text/plain": [
       "[1,\n",
       " 2,\n",
       " 2,\n",
       " 3,\n",
       " 4,\n",
       " 5,\n",
       " 5,\n",
       " 11,\n",
       " 1,\n",
       " 17,\n",
       " 14,\n",
       " 10,\n",
       " 2,\n",
       " 9,\n",
       " 10,\n",
       " 10,\n",
       " 2,\n",
       " 10,\n",
       " 8,\n",
       " 1,\n",
       " 13,\n",
       " 12,\n",
       " 18,\n",
       " 12,\n",
       " 19,\n",
       " 20,\n",
       " 7,\n",
       " 8,\n",
       " 12,\n",
       " 15,\n",
       " 5,\n",
       " 21,\n",
       " 22,\n",
       " 5,\n",
       " 23,\n",
       " 17,\n",
       " 18,\n",
       " 24,\n",
       " 14,\n",
       " 17,\n",
       " 2,\n",
       " 24,\n",
       " 12,\n",
       " 13,\n",
       " 5,\n",
       " 17,\n",
       " 25,\n",
       " 25,\n",
       " 25,\n",
       " 17,\n",
       " 10,\n",
       " 14,\n",
       " 8,\n",
       " 26,\n",
       " 17,\n",
       " 10,\n",
       " 27,\n",
       " 28,\n",
       " 29,\n",
       " 10,\n",
       " 17,\n",
       " 30,\n",
       " 8,\n",
       " 31,\n",
       " 17,\n",
       " 25,\n",
       " 27,\n",
       " 29,\n",
       " 10,\n",
       " 29,\n",
       " 22,\n",
       " 25,\n",
       " 17,\n",
       " 25,\n",
       " 29,\n",
       " 17,\n",
       " 22]"
      ]
     },
     "execution_count": 30,
     "metadata": {},
     "output_type": "execute_result"
    }
   ],
   "source": [
    "df_text.iloc[1,1]"
   ]
  },
  {
   "cell_type": "code",
   "execution_count": 31,
   "metadata": {},
   "outputs": [],
   "source": [
    "for i in range(11322):\n",
    "\n",
    "    x[i,:len(df_text.iloc[i,1])] = torch.tensor(df_text.iloc[i,1]).long()"
   ]
  },
  {
   "cell_type": "code",
   "execution_count": 32,
   "metadata": {},
   "outputs": [
    {
     "data": {
      "text/plain": [
       "tensor([[1, 2, 2,  ..., 0, 0, 0],\n",
       "        [1, 2, 2,  ..., 0, 0, 0],\n",
       "        [1, 2, 2,  ..., 0, 0, 0],\n",
       "        ...,\n",
       "        [1, 2, 2,  ..., 0, 0, 0],\n",
       "        [1, 2, 2,  ..., 0, 0, 0],\n",
       "        [1, 2, 2,  ..., 0, 0, 0]])"
      ]
     },
     "execution_count": 32,
     "metadata": {},
     "output_type": "execute_result"
    }
   ],
   "source": [
    "x"
   ]
  },
  {
   "cell_type": "code",
   "execution_count": 33,
   "metadata": {},
   "outputs": [],
   "source": [
    "x_train, x_test, y_train, y_test  = train_test_split(x,y, test_size=0.2, random_state=1234 )"
   ]
  },
  {
   "cell_type": "code",
   "execution_count": 34,
   "metadata": {},
   "outputs": [
    {
     "data": {
      "text/plain": [
       "tensor([[1, 2, 2,  ..., 0, 0, 0],\n",
       "        [1, 2, 2,  ..., 0, 0, 0],\n",
       "        [1, 2, 2,  ..., 0, 0, 0],\n",
       "        ...,\n",
       "        [1, 2, 2,  ..., 0, 0, 0],\n",
       "        [1, 2, 2,  ..., 0, 0, 0],\n",
       "        [1, 2, 2,  ..., 0, 0, 0]])"
      ]
     },
     "execution_count": 34,
     "metadata": {},
     "output_type": "execute_result"
    }
   ],
   "source": [
    "x_train"
   ]
  },
  {
   "cell_type": "code",
   "execution_count": 35,
   "metadata": {},
   "outputs": [
    {
     "data": {
      "text/plain": [
       "torch.Size([9057, 263])"
      ]
     },
     "execution_count": 35,
     "metadata": {},
     "output_type": "execute_result"
    }
   ],
   "source": [
    "x_train.shape"
   ]
  },
  {
   "cell_type": "code",
   "execution_count": 36,
   "metadata": {},
   "outputs": [
    {
     "data": {
      "text/plain": [
       "torch.Size([9057])"
      ]
     },
     "execution_count": 36,
     "metadata": {},
     "output_type": "execute_result"
    }
   ],
   "source": [
    "y_train.shape"
   ]
  },
  {
   "cell_type": "code",
   "execution_count": 37,
   "metadata": {},
   "outputs": [],
   "source": [
    "batch_size = 64\n",
    "\n",
    "dataset_train = torch.utils.data.TensorDataset(x_train, y_train)\n",
    "dataset_test = torch.utils.data.TensorDataset(x_test, y_test)\n",
    "\n",
    "dataloader_train = torch.utils.data.DataLoader(dataset_train, batch_size = batch_size)\n",
    "\n",
    "dataloader_test = torch.utils.data.DataLoader(dataset_test, batch_size = batch_size)"
   ]
  },
  {
   "cell_type": "code",
   "execution_count": 38,
   "metadata": {},
   "outputs": [
    {
     "data": {
      "text/plain": [
       "[tensor([[1, 2, 2,  ..., 0, 0, 0],\n",
       "         [1, 2, 2,  ..., 0, 0, 0],\n",
       "         [1, 2, 2,  ..., 0, 0, 0],\n",
       "         ...,\n",
       "         [1, 2, 2,  ..., 0, 0, 0],\n",
       "         [1, 2, 2,  ..., 0, 0, 0],\n",
       "         [1, 2, 2,  ..., 0, 0, 0]]),\n",
       " tensor([0, 0, 0, 1, 1, 1, 1, 1, 0, 0, 1, 0, 1, 1, 0, 1, 1, 1, 0, 0, 1, 1, 1, 0,\n",
       "         0, 1, 0, 0, 0, 0, 0, 1, 1, 1, 0, 0, 1, 0, 0, 1, 1, 1, 1, 0, 0, 0, 1, 1,\n",
       "         1, 1, 1, 0, 0, 1, 0, 1, 1, 0, 0, 0, 0, 1, 0, 0])]"
      ]
     },
     "execution_count": 38,
     "metadata": {},
     "output_type": "execute_result"
    }
   ],
   "source": [
    "next(iter(dataloader_train))"
   ]
  },
  {
   "cell_type": "code",
   "execution_count": 41,
   "metadata": {},
   "outputs": [],
   "source": [
    "class FishingLstm(torch.nn.Module):\n",
    "    def __init__(self, vocab_size, emb_dim, hidden_dim, dropout=0.3, lstm_layers = 1 ):\n",
    "        super().__init__()\n",
    "        self.emb = torch.nn.Embedding(vocab_size,emb_dim,padding_idx = 0)\n",
    "        self.lstm = torch.nn.LSTM(emb_dim, hidden_dim, num_layers= lstm_layers,dropout = dropout, batch_first=True)\n",
    "        self.clf = torch.nn.Linear(hidden_dim, hidden_dim)\n",
    "        self.out = torch.nn.Linear(hidden_dim, 1)\n",
    "        \n",
    "    def forward(self, x):\n",
    "        x = self.emb(x)\n",
    "        x, (long_mem, short_mem) = self.lstm(x)\n",
    "        x = self.clf(x[:,-1,:])\n",
    "        x = torch.nn.functional.relu(x)\n",
    "        x = self.out(x)\n",
    "        x = torch.nn.functional.sigmoid(x)\n",
    "\n",
    "        return x \n",
    "        \n",
    "        "
   ]
  },
  {
   "cell_type": "code",
   "execution_count": 68,
   "metadata": {},
   "outputs": [],
   "source": [
    "vocab_size = 101\n",
    "emb_dim = 128\n",
    "hidden_dim = 128\n"
   ]
  },
  {
   "cell_type": "code",
   "execution_count": 69,
   "metadata": {},
   "outputs": [
    {
     "name": "stdout",
     "output_type": "stream",
     "text": [
      "FishingLstm(\n",
      "  (emb): Embedding(101, 128, padding_idx=0)\n",
      "  (lstm): LSTM(128, 128, num_layers=2, batch_first=True, dropout=0.3)\n",
      "  (clf): Linear(in_features=128, out_features=128, bias=True)\n",
      "  (out): Linear(in_features=128, out_features=1, bias=True)\n",
      ")\n"
     ]
    }
   ],
   "source": [
    "model = FishingLstm(vocab_size, emb_dim, hidden_dim,lstm_layers=2)\n",
    "\n",
    "print(model)"
   ]
  },
  {
   "cell_type": "code",
   "execution_count": 70,
   "metadata": {},
   "outputs": [],
   "source": [
    "model = model.to(device)\n",
    "\n",
    "optimaizer = torch.optim.Adam(model.parameters(), lr = 1e-4)\n",
    "criteria  = torch.nn.BCELoss()\n",
    "\n",
    "criteria = criteria.to(device)\n"
   ]
  },
  {
   "cell_type": "code",
   "execution_count": 46,
   "metadata": {},
   "outputs": [],
   "source": [
    "def torch_acc(y_pred, y_true):\n",
    "    y_pred_round = torch.round(y_pred)\n",
    "    y_corr = (y_pred_round == y_true).float()\n",
    "    \n",
    "    return  y_corr.sum() / len(y_corr)\n",
    "    "
   ]
  },
  {
   "cell_type": "code",
   "execution_count": 72,
   "metadata": {},
   "outputs": [
    {
     "name": "stdout",
     "output_type": "stream",
     "text": [
      "epoch: 1, loss_train: 0.6932366246908483, loss_test: 0.6928330196274651, acc_train:  0.4968, acc_test:  0.5175 \n",
      "epoch: 2, loss_train: 0.6932034299407207, loss_test: 0.6928366372982661, acc_train:  0.4972, acc_test:  0.5179 \n",
      "epoch: 3, loss_train: 0.6931627153510779, loss_test: 0.6927982370058695, acc_train:  0.4980, acc_test:  0.5184 \n",
      "epoch: 4, loss_train: 0.6930471352288421, loss_test: 0.6924881190061569, acc_train:  0.4993, acc_test:  0.5192 \n",
      "epoch: 5, loss_train: 0.7030129965762018, loss_test: 0.6927745938301086, acc_train:  0.5082, acc_test:  0.5170 \n",
      "epoch: 6, loss_train: 0.6934172830111544, loss_test: 0.6927338871690962, acc_train:  0.5029, acc_test:  0.5170 \n",
      "epoch: 7, loss_train: 0.693258285942212, loss_test: 0.6927063663800558, acc_train:  0.5028, acc_test:  0.5170 \n",
      "epoch: 8, loss_train: 0.6932749265516308, loss_test: 0.6926840659644868, acc_train:  0.5054, acc_test:  0.5170 \n",
      "epoch: 9, loss_train: 0.6932322097496247, loss_test: 0.6926875511805216, acc_train:  0.5035, acc_test:  0.5170 \n",
      "epoch: 10, loss_train: 0.6932537484336907, loss_test: 0.6926606761084663, acc_train:  0.5018, acc_test:  0.5170 \n"
     ]
    }
   ],
   "source": [
    "n_epoch = 10\n",
    "\n",
    "list_loss_train  = []\n",
    "list_loss_test = []\n",
    "\n",
    "list_acc_train = []\n",
    "list_acc_test = []\n",
    "\n",
    "for epoch in range(1, n_epoch + 1):\n",
    "    list_loss_train_epoch  = []\n",
    "    list_loss_test_epoch = []\n",
    "    list_acc_train_epoch = []\n",
    "    list_acc_test_epoch = []\n",
    "    \n",
    "    model.train()\n",
    "    \n",
    "    for x_batch_train, y_batch_train in dataloader_train:\n",
    "        x_batch_train = x_batch_train.to(device)\n",
    "        y_batch_train = y_batch_train.to(device).float()\n",
    "        \n",
    "        optimaizer.zero_grad()\n",
    "        \n",
    "        y_pred = model(x_batch_train).squeeze()\n",
    "        loss_train = criteria(y_pred, y_batch_train)\n",
    "        accuracy = torch_acc(y_pred, y_batch_train)\n",
    "        \n",
    "        loss_train.backward()\n",
    "        optimaizer.step()\n",
    "        \n",
    "        list_loss_train_epoch.append(loss_train.detach().cpu().item())\n",
    "        list_acc_train_epoch.append(accuracy.detach().cpu().item())\n",
    "        \n",
    "        \n",
    "    model.eval()\n",
    "    \n",
    "        \n",
    "    for x_batch_test, y_batch_test in dataloader_test:\n",
    "        x_batch_test = x_batch_test.to(device)\n",
    "        y_batch_test = y_batch_test.to(device).float()\n",
    "        \n",
    "        with torch.no_grad():\n",
    "            y_pred = model(x_batch_test).squeeze()\n",
    "        \n",
    "        loss_test = criteria(y_pred, y_batch_test)\n",
    "        accuracy = torch_acc(y_pred, y_batch_test)\n",
    "        list_loss_test_epoch.append(loss_test.detach().cpu().item())\n",
    "        list_acc_test_epoch.append(accuracy.detach().cpu().item())    \n",
    "    \n",
    "    \n",
    "    loss_train_epoch =  sum(list_loss_train_epoch) / len(list_loss_train_epoch)\n",
    "    loss_test_epoch = sum(list_loss_test_epoch) / len(list_loss_test_epoch)\n",
    "    \n",
    "    acc_train_epoch = sum(list_acc_train_epoch) / len(list_acc_train_epoch)\n",
    "    acc_test_epoch = sum(list_acc_test_epoch) / len(list_acc_test_epoch)\n",
    "    \n",
    "    list_loss_train.append(loss_train_epoch)\n",
    "    list_loss_test.append(loss_test_epoch)\n",
    "\n",
    "    list_acc_train.append(acc_train_epoch)\n",
    "    list_acc_test.append(acc_test_epoch)\n",
    "    \n",
    "    \n",
    "    print(f'epoch: {epoch}, loss_train: {loss_train_epoch}, loss_test: {loss_test_epoch}, acc_train: {acc_train_epoch: .4f}, acc_test: {acc_test_epoch: .4f} ')\n"
   ]
  },
  {
   "cell_type": "markdown",
   "metadata": {},
   "source": [
    "We are working with new data that contains more complete information."
   ]
  },
  {
   "cell_type": "code",
   "execution_count": 10,
   "metadata": {},
   "outputs": [],
   "source": [
    "df_new = pd.read_csv('PhiUSIIL_Phishing_URL_Dataset.csv')"
   ]
  },
  {
   "cell_type": "code",
   "execution_count": 11,
   "metadata": {},
   "outputs": [
    {
     "data": {
      "text/html": [
       "<div>\n",
       "<style scoped>\n",
       "    .dataframe tbody tr th:only-of-type {\n",
       "        vertical-align: middle;\n",
       "    }\n",
       "\n",
       "    .dataframe tbody tr th {\n",
       "        vertical-align: top;\n",
       "    }\n",
       "\n",
       "    .dataframe thead th {\n",
       "        text-align: right;\n",
       "    }\n",
       "</style>\n",
       "<table border=\"1\" class=\"dataframe\">\n",
       "  <thead>\n",
       "    <tr style=\"text-align: right;\">\n",
       "      <th></th>\n",
       "      <th>FILENAME</th>\n",
       "      <th>URL</th>\n",
       "      <th>URLLength</th>\n",
       "      <th>Domain</th>\n",
       "      <th>DomainLength</th>\n",
       "      <th>IsDomainIP</th>\n",
       "      <th>TLD</th>\n",
       "      <th>URLSimilarityIndex</th>\n",
       "      <th>CharContinuationRate</th>\n",
       "      <th>TLDLegitimateProb</th>\n",
       "      <th>...</th>\n",
       "      <th>Pay</th>\n",
       "      <th>Crypto</th>\n",
       "      <th>HasCopyrightInfo</th>\n",
       "      <th>NoOfImage</th>\n",
       "      <th>NoOfCSS</th>\n",
       "      <th>NoOfJS</th>\n",
       "      <th>NoOfSelfRef</th>\n",
       "      <th>NoOfEmptyRef</th>\n",
       "      <th>NoOfExternalRef</th>\n",
       "      <th>label</th>\n",
       "    </tr>\n",
       "  </thead>\n",
       "  <tbody>\n",
       "    <tr>\n",
       "      <th>0</th>\n",
       "      <td>521848.txt</td>\n",
       "      <td>https://www.southbankmosaics.com</td>\n",
       "      <td>31</td>\n",
       "      <td>www.southbankmosaics.com</td>\n",
       "      <td>24</td>\n",
       "      <td>0</td>\n",
       "      <td>com</td>\n",
       "      <td>100.0</td>\n",
       "      <td>1.000000</td>\n",
       "      <td>0.522907</td>\n",
       "      <td>...</td>\n",
       "      <td>0</td>\n",
       "      <td>0</td>\n",
       "      <td>1</td>\n",
       "      <td>34</td>\n",
       "      <td>20</td>\n",
       "      <td>28</td>\n",
       "      <td>119</td>\n",
       "      <td>0</td>\n",
       "      <td>124</td>\n",
       "      <td>1</td>\n",
       "    </tr>\n",
       "    <tr>\n",
       "      <th>1</th>\n",
       "      <td>31372.txt</td>\n",
       "      <td>https://www.uni-mainz.de</td>\n",
       "      <td>23</td>\n",
       "      <td>www.uni-mainz.de</td>\n",
       "      <td>16</td>\n",
       "      <td>0</td>\n",
       "      <td>de</td>\n",
       "      <td>100.0</td>\n",
       "      <td>0.666667</td>\n",
       "      <td>0.032650</td>\n",
       "      <td>...</td>\n",
       "      <td>0</td>\n",
       "      <td>0</td>\n",
       "      <td>1</td>\n",
       "      <td>50</td>\n",
       "      <td>9</td>\n",
       "      <td>8</td>\n",
       "      <td>39</td>\n",
       "      <td>0</td>\n",
       "      <td>217</td>\n",
       "      <td>1</td>\n",
       "    </tr>\n",
       "    <tr>\n",
       "      <th>2</th>\n",
       "      <td>597387.txt</td>\n",
       "      <td>https://www.voicefmradio.co.uk</td>\n",
       "      <td>29</td>\n",
       "      <td>www.voicefmradio.co.uk</td>\n",
       "      <td>22</td>\n",
       "      <td>0</td>\n",
       "      <td>uk</td>\n",
       "      <td>100.0</td>\n",
       "      <td>0.866667</td>\n",
       "      <td>0.028555</td>\n",
       "      <td>...</td>\n",
       "      <td>0</td>\n",
       "      <td>0</td>\n",
       "      <td>1</td>\n",
       "      <td>10</td>\n",
       "      <td>2</td>\n",
       "      <td>7</td>\n",
       "      <td>42</td>\n",
       "      <td>2</td>\n",
       "      <td>5</td>\n",
       "      <td>1</td>\n",
       "    </tr>\n",
       "    <tr>\n",
       "      <th>3</th>\n",
       "      <td>554095.txt</td>\n",
       "      <td>https://www.sfnmjournal.com</td>\n",
       "      <td>26</td>\n",
       "      <td>www.sfnmjournal.com</td>\n",
       "      <td>19</td>\n",
       "      <td>0</td>\n",
       "      <td>com</td>\n",
       "      <td>100.0</td>\n",
       "      <td>1.000000</td>\n",
       "      <td>0.522907</td>\n",
       "      <td>...</td>\n",
       "      <td>1</td>\n",
       "      <td>1</td>\n",
       "      <td>1</td>\n",
       "      <td>3</td>\n",
       "      <td>27</td>\n",
       "      <td>15</td>\n",
       "      <td>22</td>\n",
       "      <td>1</td>\n",
       "      <td>31</td>\n",
       "      <td>1</td>\n",
       "    </tr>\n",
       "    <tr>\n",
       "      <th>4</th>\n",
       "      <td>151578.txt</td>\n",
       "      <td>https://www.rewildingargentina.org</td>\n",
       "      <td>33</td>\n",
       "      <td>www.rewildingargentina.org</td>\n",
       "      <td>26</td>\n",
       "      <td>0</td>\n",
       "      <td>org</td>\n",
       "      <td>100.0</td>\n",
       "      <td>1.000000</td>\n",
       "      <td>0.079963</td>\n",
       "      <td>...</td>\n",
       "      <td>1</td>\n",
       "      <td>0</td>\n",
       "      <td>1</td>\n",
       "      <td>244</td>\n",
       "      <td>15</td>\n",
       "      <td>34</td>\n",
       "      <td>72</td>\n",
       "      <td>1</td>\n",
       "      <td>85</td>\n",
       "      <td>1</td>\n",
       "    </tr>\n",
       "  </tbody>\n",
       "</table>\n",
       "<p>5 rows × 56 columns</p>\n",
       "</div>"
      ],
      "text/plain": [
       "     FILENAME                                 URL  URLLength  \\\n",
       "0  521848.txt    https://www.southbankmosaics.com         31   \n",
       "1   31372.txt            https://www.uni-mainz.de         23   \n",
       "2  597387.txt      https://www.voicefmradio.co.uk         29   \n",
       "3  554095.txt         https://www.sfnmjournal.com         26   \n",
       "4  151578.txt  https://www.rewildingargentina.org         33   \n",
       "\n",
       "                       Domain  DomainLength  IsDomainIP  TLD  \\\n",
       "0    www.southbankmosaics.com            24           0  com   \n",
       "1            www.uni-mainz.de            16           0   de   \n",
       "2      www.voicefmradio.co.uk            22           0   uk   \n",
       "3         www.sfnmjournal.com            19           0  com   \n",
       "4  www.rewildingargentina.org            26           0  org   \n",
       "\n",
       "   URLSimilarityIndex  CharContinuationRate  TLDLegitimateProb  ...  Pay  \\\n",
       "0               100.0              1.000000           0.522907  ...    0   \n",
       "1               100.0              0.666667           0.032650  ...    0   \n",
       "2               100.0              0.866667           0.028555  ...    0   \n",
       "3               100.0              1.000000           0.522907  ...    1   \n",
       "4               100.0              1.000000           0.079963  ...    1   \n",
       "\n",
       "   Crypto  HasCopyrightInfo  NoOfImage  NoOfCSS  NoOfJS  NoOfSelfRef  \\\n",
       "0       0                 1         34       20      28          119   \n",
       "1       0                 1         50        9       8           39   \n",
       "2       0                 1         10        2       7           42   \n",
       "3       1                 1          3       27      15           22   \n",
       "4       0                 1        244       15      34           72   \n",
       "\n",
       "   NoOfEmptyRef  NoOfExternalRef  label  \n",
       "0             0              124      1  \n",
       "1             0              217      1  \n",
       "2             2                5      1  \n",
       "3             1               31      1  \n",
       "4             1               85      1  \n",
       "\n",
       "[5 rows x 56 columns]"
      ]
     },
     "execution_count": 11,
     "metadata": {},
     "output_type": "execute_result"
    }
   ],
   "source": [
    "df_new.head()"
   ]
  },
  {
   "cell_type": "code",
   "execution_count": 12,
   "metadata": {},
   "outputs": [
    {
     "name": "stdout",
     "output_type": "stream",
     "text": [
      "<class 'pandas.core.frame.DataFrame'>\n",
      "RangeIndex: 235795 entries, 0 to 235794\n",
      "Data columns (total 56 columns):\n",
      " #   Column                      Non-Null Count   Dtype  \n",
      "---  ------                      --------------   -----  \n",
      " 0   FILENAME                    235795 non-null  object \n",
      " 1   URL                         235795 non-null  object \n",
      " 2   URLLength                   235795 non-null  int64  \n",
      " 3   Domain                      235795 non-null  object \n",
      " 4   DomainLength                235795 non-null  int64  \n",
      " 5   IsDomainIP                  235795 non-null  int64  \n",
      " 6   TLD                         235795 non-null  object \n",
      " 7   URLSimilarityIndex          235795 non-null  float64\n",
      " 8   CharContinuationRate        235795 non-null  float64\n",
      " 9   TLDLegitimateProb           235795 non-null  float64\n",
      " 10  URLCharProb                 235795 non-null  float64\n",
      " 11  TLDLength                   235795 non-null  int64  \n",
      " 12  NoOfSubDomain               235795 non-null  int64  \n",
      " 13  HasObfuscation              235795 non-null  int64  \n",
      " 14  NoOfObfuscatedChar          235795 non-null  int64  \n",
      " 15  ObfuscationRatio            235795 non-null  float64\n",
      " 16  NoOfLettersInURL            235795 non-null  int64  \n",
      " 17  LetterRatioInURL            235795 non-null  float64\n",
      " 18  NoOfDegitsInURL             235795 non-null  int64  \n",
      " 19  DegitRatioInURL             235795 non-null  float64\n",
      " 20  NoOfEqualsInURL             235795 non-null  int64  \n",
      " 21  NoOfQMarkInURL              235795 non-null  int64  \n",
      " 22  NoOfAmpersandInURL          235795 non-null  int64  \n",
      " 23  NoOfOtherSpecialCharsInURL  235795 non-null  int64  \n",
      " 24  SpacialCharRatioInURL       235795 non-null  float64\n",
      " 25  IsHTTPS                     235795 non-null  int64  \n",
      " 26  LineOfCode                  235795 non-null  int64  \n",
      " 27  LargestLineLength           235795 non-null  int64  \n",
      " 28  HasTitle                    235795 non-null  int64  \n",
      " 29  Title                       235795 non-null  object \n",
      " 30  DomainTitleMatchScore       235795 non-null  float64\n",
      " 31  URLTitleMatchScore          235795 non-null  float64\n",
      " 32  HasFavicon                  235795 non-null  int64  \n",
      " 33  Robots                      235795 non-null  int64  \n",
      " 34  IsResponsive                235795 non-null  int64  \n",
      " 35  NoOfURLRedirect             235795 non-null  int64  \n",
      " 36  NoOfSelfRedirect            235795 non-null  int64  \n",
      " 37  HasDescription              235795 non-null  int64  \n",
      " 38  NoOfPopup                   235795 non-null  int64  \n",
      " 39  NoOfiFrame                  235795 non-null  int64  \n",
      " 40  HasExternalFormSubmit       235795 non-null  int64  \n",
      " 41  HasSocialNet                235795 non-null  int64  \n",
      " 42  HasSubmitButton             235795 non-null  int64  \n",
      " 43  HasHiddenFields             235795 non-null  int64  \n",
      " 44  HasPasswordField            235795 non-null  int64  \n",
      " 45  Bank                        235795 non-null  int64  \n",
      " 46  Pay                         235795 non-null  int64  \n",
      " 47  Crypto                      235795 non-null  int64  \n",
      " 48  HasCopyrightInfo            235795 non-null  int64  \n",
      " 49  NoOfImage                   235795 non-null  int64  \n",
      " 50  NoOfCSS                     235795 non-null  int64  \n",
      " 51  NoOfJS                      235795 non-null  int64  \n",
      " 52  NoOfSelfRef                 235795 non-null  int64  \n",
      " 53  NoOfEmptyRef                235795 non-null  int64  \n",
      " 54  NoOfExternalRef             235795 non-null  int64  \n",
      " 55  label                       235795 non-null  int64  \n",
      "dtypes: float64(10), int64(41), object(5)\n",
      "memory usage: 100.7+ MB\n"
     ]
    }
   ],
   "source": [
    "df_new.info()"
   ]
  },
  {
   "cell_type": "code",
   "execution_count": 17,
   "metadata": {},
   "outputs": [
    {
     "data": {
      "text/plain": [
       "<Axes: ylabel='count'>"
      ]
     },
     "execution_count": 17,
     "metadata": {},
     "output_type": "execute_result"
    },
    {
     "data": {
      "image/png": "[encoded data removed]",
      "text/plain": [
       "<Figure size 640x480 with 1 Axes>"
      ]
     },
     "metadata": {},
     "output_type": "display_data"
    }
   ],
   "source": [
    "df_new['label'].value_counts().plot.pie(autopct = \"%.2f%%\")"
   ]
  },
  {
   "cell_type": "code",
   "execution_count": 14,
   "metadata": {},
   "outputs": [
    {
     "data": {
      "text/plain": [
       "count    235795.000000\n",
       "mean         35.366954\n",
       "std          41.214346\n",
       "min          14.000000\n",
       "25%          24.000000\n",
       "50%          28.000000\n",
       "75%          35.000000\n",
       "max        6097.000000\n",
       "Name: URL, dtype: float64"
      ]
     },
     "execution_count": 14,
     "metadata": {},
     "output_type": "execute_result"
    }
   ],
   "source": [
    "df_new['URL'].apply(lambda s : len(s)).describe()"
   ]
  },
  {
   "cell_type": "code",
   "execution_count": 16,
   "metadata": {},
   "outputs": [
    {
     "data": {
      "text/plain": [
       "np.float64(144.0)"
      ]
     },
     "execution_count": 16,
     "metadata": {},
     "output_type": "execute_result"
    }
   ],
   "source": [
    "df_new['URL'].apply(lambda s : len(s)).quantile(0.99)"
   ]
  },
  {
   "cell_type": "code",
   "execution_count": 18,
   "metadata": {},
   "outputs": [],
   "source": [
    "df_new = df_new[df_new['URL'].apply(len) <= 144]"
   ]
  },
  {
   "cell_type": "code",
   "execution_count": 19,
   "metadata": {},
   "outputs": [
    {
     "data": {
      "text/plain": [
       "<Axes: ylabel='count'>"
      ]
     },
     "execution_count": 19,
     "metadata": {},
     "output_type": "execute_result"
    },
    {
     "data": {
      "image/png": "[encoded data removed]",
      "text/plain": [
       "<Figure size 640x480 with 1 Axes>"
      ]
     },
     "metadata": {},
     "output_type": "display_data"
    }
   ],
   "source": [
    "df_new['label'].value_counts().plot.pie(autopct = \"%.2f%%\")"
   ]
  },
  {
   "cell_type": "code",
   "execution_count": 21,
   "metadata": {},
   "outputs": [
    {
     "data": {
      "text/html": [
       "<div>\n",
       "<style scoped>\n",
       "    .dataframe tbody tr th:only-of-type {\n",
       "        vertical-align: middle;\n",
       "    }\n",
       "\n",
       "    .dataframe tbody tr th {\n",
       "        vertical-align: top;\n",
       "    }\n",
       "\n",
       "    .dataframe thead th {\n",
       "        text-align: right;\n",
       "    }\n",
       "</style>\n",
       "<table border=\"1\" class=\"dataframe\">\n",
       "  <thead>\n",
       "    <tr style=\"text-align: right;\">\n",
       "      <th></th>\n",
       "      <th>URL</th>\n",
       "      <th>label</th>\n",
       "    </tr>\n",
       "  </thead>\n",
       "  <tbody>\n",
       "    <tr>\n",
       "      <th>0</th>\n",
       "      <td>https://www.southbankmosaics.com</td>\n",
       "      <td>1</td>\n",
       "    </tr>\n",
       "    <tr>\n",
       "      <th>1</th>\n",
       "      <td>https://www.uni-mainz.de</td>\n",
       "      <td>1</td>\n",
       "    </tr>\n",
       "    <tr>\n",
       "      <th>2</th>\n",
       "      <td>https://www.voicefmradio.co.uk</td>\n",
       "      <td>1</td>\n",
       "    </tr>\n",
       "    <tr>\n",
       "      <th>3</th>\n",
       "      <td>https://www.sfnmjournal.com</td>\n",
       "      <td>1</td>\n",
       "    </tr>\n",
       "    <tr>\n",
       "      <th>4</th>\n",
       "      <td>https://www.rewildingargentina.org</td>\n",
       "      <td>1</td>\n",
       "    </tr>\n",
       "    <tr>\n",
       "      <th>...</th>\n",
       "      <td>...</td>\n",
       "      <td>...</td>\n",
       "    </tr>\n",
       "    <tr>\n",
       "      <th>235790</th>\n",
       "      <td>https://www.skincareliving.com</td>\n",
       "      <td>1</td>\n",
       "    </tr>\n",
       "    <tr>\n",
       "      <th>235791</th>\n",
       "      <td>https://www.winchester.gov.uk</td>\n",
       "      <td>1</td>\n",
       "    </tr>\n",
       "    <tr>\n",
       "      <th>235792</th>\n",
       "      <td>https://www.nononsensedesign.be</td>\n",
       "      <td>1</td>\n",
       "    </tr>\n",
       "    <tr>\n",
       "      <th>235793</th>\n",
       "      <td>https://patient-cell-40f5.updatedlogmylogin.wo...</td>\n",
       "      <td>0</td>\n",
       "    </tr>\n",
       "    <tr>\n",
       "      <th>235794</th>\n",
       "      <td>https://www.alternativefinland.com</td>\n",
       "      <td>1</td>\n",
       "    </tr>\n",
       "  </tbody>\n",
       "</table>\n",
       "<p>233438 rows × 2 columns</p>\n",
       "</div>"
      ],
      "text/plain": [
       "                                                      URL  label\n",
       "0                        https://www.southbankmosaics.com      1\n",
       "1                                https://www.uni-mainz.de      1\n",
       "2                          https://www.voicefmradio.co.uk      1\n",
       "3                             https://www.sfnmjournal.com      1\n",
       "4                      https://www.rewildingargentina.org      1\n",
       "...                                                   ...    ...\n",
       "235790                     https://www.skincareliving.com      1\n",
       "235791                      https://www.winchester.gov.uk      1\n",
       "235792                    https://www.nononsensedesign.be      1\n",
       "235793  https://patient-cell-40f5.updatedlogmylogin.wo...      0\n",
       "235794                 https://www.alternativefinland.com      1\n",
       "\n",
       "[233438 rows x 2 columns]"
      ]
     },
     "execution_count": 21,
     "metadata": {},
     "output_type": "execute_result"
    }
   ],
   "source": [
    "df_new_text = df_new[['URL', 'label']]\n",
    "df_new_text"
   ]
  },
  {
   "cell_type": "code",
   "execution_count": 22,
   "metadata": {},
   "outputs": [
    {
     "data": {
      "text/plain": [
       "array(['h', 't', 'p', 's', ':', '/', 'w', '.', 'o', 'u', 'b', 'a', 'n',\n",
       "       'k', 'm', 'i', 'c', '-', 'z', 'd', 'e', 'v', 'f', 'r', 'j', 'l',\n",
       "       'g', 'y', '6', '1', 'x', '0', '5', '9', '4', 'q', '2', '3', '8',\n",
       "       '?', '=', '@', '7', '_', '%', '&', '!', '+', ';', '#', '(', ')',\n",
       "       '~', '[', ']', '*', '$', ',', \"'\", 'Ã', '£', 'Å', '“', 'Â', '¤',\n",
       "       '¢', 'â', '‚', '¬', '€', '¹'], dtype=object)"
      ]
     },
     "execution_count": 22,
     "metadata": {},
     "output_type": "execute_result"
    }
   ],
   "source": [
    "vocab_new = df_new_text['URL'].apply(list).apply(pd.Series).stack().unique()\n",
    "vocab_new"
   ]
  },
  {
   "cell_type": "code",
   "execution_count": 23,
   "metadata": {},
   "outputs": [],
   "source": [
    "vocab_new = {k:v for v,k in enumerate(vocab_new, 1)}"
   ]
  },
  {
   "cell_type": "code",
   "execution_count": 24,
   "metadata": {},
   "outputs": [
    {
     "data": {
      "text/plain": [
       "{'h': 1,\n",
       " 't': 2,\n",
       " 'p': 3,\n",
       " 's': 4,\n",
       " ':': 5,\n",
       " '/': 6,\n",
       " 'w': 7,\n",
       " '.': 8,\n",
       " 'o': 9,\n",
       " 'u': 10,\n",
       " 'b': 11,\n",
       " 'a': 12,\n",
       " 'n': 13,\n",
       " 'k': 14,\n",
       " 'm': 15,\n",
       " 'i': 16,\n",
       " 'c': 17,\n",
       " '-': 18,\n",
       " 'z': 19,\n",
       " 'd': 20,\n",
       " 'e': 21,\n",
       " 'v': 22,\n",
       " 'f': 23,\n",
       " 'r': 24,\n",
       " 'j': 25,\n",
       " 'l': 26,\n",
       " 'g': 27,\n",
       " 'y': 28,\n",
       " '6': 29,\n",
       " '1': 30,\n",
       " 'x': 31,\n",
       " '0': 32,\n",
       " '5': 33,\n",
       " '9': 34,\n",
       " '4': 35,\n",
       " 'q': 36,\n",
       " '2': 37,\n",
       " '3': 38,\n",
       " '8': 39,\n",
       " '?': 40,\n",
       " '=': 41,\n",
       " '@': 42,\n",
       " '7': 43,\n",
       " '_': 44,\n",
       " '%': 45,\n",
       " '&': 46,\n",
       " '!': 47,\n",
       " '+': 48,\n",
       " ';': 49,\n",
       " '#': 50,\n",
       " '(': 51,\n",
       " ')': 52,\n",
       " '~': 53,\n",
       " '[': 54,\n",
       " ']': 55,\n",
       " '*': 56,\n",
       " '$': 57,\n",
       " ',': 58,\n",
       " \"'\": 59,\n",
       " 'Ã': 60,\n",
       " '£': 61,\n",
       " 'Å': 62,\n",
       " '“': 63,\n",
       " 'Â': 64,\n",
       " '¤': 65,\n",
       " '¢': 66,\n",
       " 'â': 67,\n",
       " '‚': 68,\n",
       " '¬': 69,\n",
       " '€': 70,\n",
       " '¹': 71}"
      ]
     },
     "execution_count": 24,
     "metadata": {},
     "output_type": "execute_result"
    }
   ],
   "source": [
    "vocab_new"
   ]
  },
  {
   "cell_type": "code",
   "execution_count": 25,
   "metadata": {},
   "outputs": [
    {
     "name": "stderr",
     "output_type": "stream",
     "text": [
      "C:\\Users\\Admin\\AppData\\Local\\Temp\\ipykernel_21932\\573313143.py:1: SettingWithCopyWarning: \n",
      "A value is trying to be set on a copy of a slice from a DataFrame.\n",
      "Try using .loc[row_indexer,col_indexer] = value instead\n",
      "\n",
      "See the caveats in the documentation: https://pandas.pydata.org/pandas-docs/stable/user_guide/indexing.html#returning-a-view-versus-a-copy\n",
      "  df_new_text['tokens'] =  df_new_text['URL'].apply(list)\n"
     ]
    }
   ],
   "source": [
    "df_new_text['tokens'] =  df_new_text['URL'].apply(list)"
   ]
  },
  {
   "cell_type": "code",
   "execution_count": 26,
   "metadata": {},
   "outputs": [
    {
     "data": {
      "text/html": [
       "<div>\n",
       "<style scoped>\n",
       "    .dataframe tbody tr th:only-of-type {\n",
       "        vertical-align: middle;\n",
       "    }\n",
       "\n",
       "    .dataframe tbody tr th {\n",
       "        vertical-align: top;\n",
       "    }\n",
       "\n",
       "    .dataframe thead th {\n",
       "        text-align: right;\n",
       "    }\n",
       "</style>\n",
       "<table border=\"1\" class=\"dataframe\">\n",
       "  <thead>\n",
       "    <tr style=\"text-align: right;\">\n",
       "      <th></th>\n",
       "      <th>URL</th>\n",
       "      <th>label</th>\n",
       "      <th>tokens</th>\n",
       "    </tr>\n",
       "  </thead>\n",
       "  <tbody>\n",
       "    <tr>\n",
       "      <th>0</th>\n",
       "      <td>https://www.southbankmosaics.com</td>\n",
       "      <td>1</td>\n",
       "      <td>[h, t, t, p, s, :, /, /, w, w, w, ., s, o, u, ...</td>\n",
       "    </tr>\n",
       "    <tr>\n",
       "      <th>1</th>\n",
       "      <td>https://www.uni-mainz.de</td>\n",
       "      <td>1</td>\n",
       "      <td>[h, t, t, p, s, :, /, /, w, w, w, ., u, n, i, ...</td>\n",
       "    </tr>\n",
       "    <tr>\n",
       "      <th>2</th>\n",
       "      <td>https://www.voicefmradio.co.uk</td>\n",
       "      <td>1</td>\n",
       "      <td>[h, t, t, p, s, :, /, /, w, w, w, ., v, o, i, ...</td>\n",
       "    </tr>\n",
       "    <tr>\n",
       "      <th>3</th>\n",
       "      <td>https://www.sfnmjournal.com</td>\n",
       "      <td>1</td>\n",
       "      <td>[h, t, t, p, s, :, /, /, w, w, w, ., s, f, n, ...</td>\n",
       "    </tr>\n",
       "    <tr>\n",
       "      <th>4</th>\n",
       "      <td>https://www.rewildingargentina.org</td>\n",
       "      <td>1</td>\n",
       "      <td>[h, t, t, p, s, :, /, /, w, w, w, ., r, e, w, ...</td>\n",
       "    </tr>\n",
       "    <tr>\n",
       "      <th>...</th>\n",
       "      <td>...</td>\n",
       "      <td>...</td>\n",
       "      <td>...</td>\n",
       "    </tr>\n",
       "    <tr>\n",
       "      <th>235790</th>\n",
       "      <td>https://www.skincareliving.com</td>\n",
       "      <td>1</td>\n",
       "      <td>[h, t, t, p, s, :, /, /, w, w, w, ., s, k, i, ...</td>\n",
       "    </tr>\n",
       "    <tr>\n",
       "      <th>235791</th>\n",
       "      <td>https://www.winchester.gov.uk</td>\n",
       "      <td>1</td>\n",
       "      <td>[h, t, t, p, s, :, /, /, w, w, w, ., w, i, n, ...</td>\n",
       "    </tr>\n",
       "    <tr>\n",
       "      <th>235792</th>\n",
       "      <td>https://www.nononsensedesign.be</td>\n",
       "      <td>1</td>\n",
       "      <td>[h, t, t, p, s, :, /, /, w, w, w, ., n, o, n, ...</td>\n",
       "    </tr>\n",
       "    <tr>\n",
       "      <th>235793</th>\n",
       "      <td>https://patient-cell-40f5.updatedlogmylogin.wo...</td>\n",
       "      <td>0</td>\n",
       "      <td>[h, t, t, p, s, :, /, /, p, a, t, i, e, n, t, ...</td>\n",
       "    </tr>\n",
       "    <tr>\n",
       "      <th>235794</th>\n",
       "      <td>https://www.alternativefinland.com</td>\n",
       "      <td>1</td>\n",
       "      <td>[h, t, t, p, s, :, /, /, w, w, w, ., a, l, t, ...</td>\n",
       "    </tr>\n",
       "  </tbody>\n",
       "</table>\n",
       "<p>233438 rows × 3 columns</p>\n",
       "</div>"
      ],
      "text/plain": [
       "                                                      URL  label  \\\n",
       "0                        https://www.southbankmosaics.com      1   \n",
       "1                                https://www.uni-mainz.de      1   \n",
       "2                          https://www.voicefmradio.co.uk      1   \n",
       "3                             https://www.sfnmjournal.com      1   \n",
       "4                      https://www.rewildingargentina.org      1   \n",
       "...                                                   ...    ...   \n",
       "235790                     https://www.skincareliving.com      1   \n",
       "235791                      https://www.winchester.gov.uk      1   \n",
       "235792                    https://www.nononsensedesign.be      1   \n",
       "235793  https://patient-cell-40f5.updatedlogmylogin.wo...      0   \n",
       "235794                 https://www.alternativefinland.com      1   \n",
       "\n",
       "                                                   tokens  \n",
       "0       [h, t, t, p, s, :, /, /, w, w, w, ., s, o, u, ...  \n",
       "1       [h, t, t, p, s, :, /, /, w, w, w, ., u, n, i, ...  \n",
       "2       [h, t, t, p, s, :, /, /, w, w, w, ., v, o, i, ...  \n",
       "3       [h, t, t, p, s, :, /, /, w, w, w, ., s, f, n, ...  \n",
       "4       [h, t, t, p, s, :, /, /, w, w, w, ., r, e, w, ...  \n",
       "...                                                   ...  \n",
       "235790  [h, t, t, p, s, :, /, /, w, w, w, ., s, k, i, ...  \n",
       "235791  [h, t, t, p, s, :, /, /, w, w, w, ., w, i, n, ...  \n",
       "235792  [h, t, t, p, s, :, /, /, w, w, w, ., n, o, n, ...  \n",
       "235793  [h, t, t, p, s, :, /, /, p, a, t, i, e, n, t, ...  \n",
       "235794  [h, t, t, p, s, :, /, /, w, w, w, ., a, l, t, ...  \n",
       "\n",
       "[233438 rows x 3 columns]"
      ]
     },
     "execution_count": 26,
     "metadata": {},
     "output_type": "execute_result"
    }
   ],
   "source": [
    "df_new_text"
   ]
  },
  {
   "cell_type": "code",
   "execution_count": 28,
   "metadata": {},
   "outputs": [
    {
     "name": "stderr",
     "output_type": "stream",
     "text": [
      "C:\\Users\\Admin\\AppData\\Local\\Temp\\ipykernel_21932\\3564433360.py:1: SettingWithCopyWarning: \n",
      "A value is trying to be set on a copy of a slice from a DataFrame.\n",
      "Try using .loc[row_indexer,col_indexer] = value instead\n",
      "\n",
      "See the caveats in the documentation: https://pandas.pydata.org/pandas-docs/stable/user_guide/indexing.html#returning-a-view-versus-a-copy\n",
      "  df_new_text['idx'] = df_new_text['tokens'].apply(lambda x: list(map(lambda y: vocab_new[y],x)))\n"
     ]
    }
   ],
   "source": [
    "df_new_text['idx'] = df_new_text['tokens'].apply(lambda x: list(map(lambda y: vocab_new[y],x)))"
   ]
  },
  {
   "cell_type": "code",
   "execution_count": 29,
   "metadata": {},
   "outputs": [
    {
     "data": {
      "text/html": [
       "<div>\n",
       "<style scoped>\n",
       "    .dataframe tbody tr th:only-of-type {\n",
       "        vertical-align: middle;\n",
       "    }\n",
       "\n",
       "    .dataframe tbody tr th {\n",
       "        vertical-align: top;\n",
       "    }\n",
       "\n",
       "    .dataframe thead th {\n",
       "        text-align: right;\n",
       "    }\n",
       "</style>\n",
       "<table border=\"1\" class=\"dataframe\">\n",
       "  <thead>\n",
       "    <tr style=\"text-align: right;\">\n",
       "      <th></th>\n",
       "      <th>URL</th>\n",
       "      <th>label</th>\n",
       "      <th>tokens</th>\n",
       "      <th>idx</th>\n",
       "    </tr>\n",
       "  </thead>\n",
       "  <tbody>\n",
       "    <tr>\n",
       "      <th>0</th>\n",
       "      <td>https://www.southbankmosaics.com</td>\n",
       "      <td>1</td>\n",
       "      <td>[h, t, t, p, s, :, /, /, w, w, w, ., s, o, u, ...</td>\n",
       "      <td>[1, 2, 2, 3, 4, 5, 6, 6, 7, 7, 7, 8, 4, 9, 10,...</td>\n",
       "    </tr>\n",
       "    <tr>\n",
       "      <th>1</th>\n",
       "      <td>https://www.uni-mainz.de</td>\n",
       "      <td>1</td>\n",
       "      <td>[h, t, t, p, s, :, /, /, w, w, w, ., u, n, i, ...</td>\n",
       "      <td>[1, 2, 2, 3, 4, 5, 6, 6, 7, 7, 7, 8, 10, 13, 1...</td>\n",
       "    </tr>\n",
       "    <tr>\n",
       "      <th>2</th>\n",
       "      <td>https://www.voicefmradio.co.uk</td>\n",
       "      <td>1</td>\n",
       "      <td>[h, t, t, p, s, :, /, /, w, w, w, ., v, o, i, ...</td>\n",
       "      <td>[1, 2, 2, 3, 4, 5, 6, 6, 7, 7, 7, 8, 22, 9, 16...</td>\n",
       "    </tr>\n",
       "    <tr>\n",
       "      <th>3</th>\n",
       "      <td>https://www.sfnmjournal.com</td>\n",
       "      <td>1</td>\n",
       "      <td>[h, t, t, p, s, :, /, /, w, w, w, ., s, f, n, ...</td>\n",
       "      <td>[1, 2, 2, 3, 4, 5, 6, 6, 7, 7, 7, 8, 4, 23, 13...</td>\n",
       "    </tr>\n",
       "    <tr>\n",
       "      <th>4</th>\n",
       "      <td>https://www.rewildingargentina.org</td>\n",
       "      <td>1</td>\n",
       "      <td>[h, t, t, p, s, :, /, /, w, w, w, ., r, e, w, ...</td>\n",
       "      <td>[1, 2, 2, 3, 4, 5, 6, 6, 7, 7, 7, 8, 24, 21, 7...</td>\n",
       "    </tr>\n",
       "    <tr>\n",
       "      <th>...</th>\n",
       "      <td>...</td>\n",
       "      <td>...</td>\n",
       "      <td>...</td>\n",
       "      <td>...</td>\n",
       "    </tr>\n",
       "    <tr>\n",
       "      <th>235790</th>\n",
       "      <td>https://www.skincareliving.com</td>\n",
       "      <td>1</td>\n",
       "      <td>[h, t, t, p, s, :, /, /, w, w, w, ., s, k, i, ...</td>\n",
       "      <td>[1, 2, 2, 3, 4, 5, 6, 6, 7, 7, 7, 8, 4, 14, 16...</td>\n",
       "    </tr>\n",
       "    <tr>\n",
       "      <th>235791</th>\n",
       "      <td>https://www.winchester.gov.uk</td>\n",
       "      <td>1</td>\n",
       "      <td>[h, t, t, p, s, :, /, /, w, w, w, ., w, i, n, ...</td>\n",
       "      <td>[1, 2, 2, 3, 4, 5, 6, 6, 7, 7, 7, 8, 7, 16, 13...</td>\n",
       "    </tr>\n",
       "    <tr>\n",
       "      <th>235792</th>\n",
       "      <td>https://www.nononsensedesign.be</td>\n",
       "      <td>1</td>\n",
       "      <td>[h, t, t, p, s, :, /, /, w, w, w, ., n, o, n, ...</td>\n",
       "      <td>[1, 2, 2, 3, 4, 5, 6, 6, 7, 7, 7, 8, 13, 9, 13...</td>\n",
       "    </tr>\n",
       "    <tr>\n",
       "      <th>235793</th>\n",
       "      <td>https://patient-cell-40f5.updatedlogmylogin.wo...</td>\n",
       "      <td>0</td>\n",
       "      <td>[h, t, t, p, s, :, /, /, p, a, t, i, e, n, t, ...</td>\n",
       "      <td>[1, 2, 2, 3, 4, 5, 6, 6, 3, 12, 2, 16, 21, 13,...</td>\n",
       "    </tr>\n",
       "    <tr>\n",
       "      <th>235794</th>\n",
       "      <td>https://www.alternativefinland.com</td>\n",
       "      <td>1</td>\n",
       "      <td>[h, t, t, p, s, :, /, /, w, w, w, ., a, l, t, ...</td>\n",
       "      <td>[1, 2, 2, 3, 4, 5, 6, 6, 7, 7, 7, 8, 12, 26, 2...</td>\n",
       "    </tr>\n",
       "  </tbody>\n",
       "</table>\n",
       "<p>233438 rows × 4 columns</p>\n",
       "</div>"
      ],
      "text/plain": [
       "                                                      URL  label  \\\n",
       "0                        https://www.southbankmosaics.com      1   \n",
       "1                                https://www.uni-mainz.de      1   \n",
       "2                          https://www.voicefmradio.co.uk      1   \n",
       "3                             https://www.sfnmjournal.com      1   \n",
       "4                      https://www.rewildingargentina.org      1   \n",
       "...                                                   ...    ...   \n",
       "235790                     https://www.skincareliving.com      1   \n",
       "235791                      https://www.winchester.gov.uk      1   \n",
       "235792                    https://www.nononsensedesign.be      1   \n",
       "235793  https://patient-cell-40f5.updatedlogmylogin.wo...      0   \n",
       "235794                 https://www.alternativefinland.com      1   \n",
       "\n",
       "                                                   tokens  \\\n",
       "0       [h, t, t, p, s, :, /, /, w, w, w, ., s, o, u, ...   \n",
       "1       [h, t, t, p, s, :, /, /, w, w, w, ., u, n, i, ...   \n",
       "2       [h, t, t, p, s, :, /, /, w, w, w, ., v, o, i, ...   \n",
       "3       [h, t, t, p, s, :, /, /, w, w, w, ., s, f, n, ...   \n",
       "4       [h, t, t, p, s, :, /, /, w, w, w, ., r, e, w, ...   \n",
       "...                                                   ...   \n",
       "235790  [h, t, t, p, s, :, /, /, w, w, w, ., s, k, i, ...   \n",
       "235791  [h, t, t, p, s, :, /, /, w, w, w, ., w, i, n, ...   \n",
       "235792  [h, t, t, p, s, :, /, /, w, w, w, ., n, o, n, ...   \n",
       "235793  [h, t, t, p, s, :, /, /, p, a, t, i, e, n, t, ...   \n",
       "235794  [h, t, t, p, s, :, /, /, w, w, w, ., a, l, t, ...   \n",
       "\n",
       "                                                      idx  \n",
       "0       [1, 2, 2, 3, 4, 5, 6, 6, 7, 7, 7, 8, 4, 9, 10,...  \n",
       "1       [1, 2, 2, 3, 4, 5, 6, 6, 7, 7, 7, 8, 10, 13, 1...  \n",
       "2       [1, 2, 2, 3, 4, 5, 6, 6, 7, 7, 7, 8, 22, 9, 16...  \n",
       "3       [1, 2, 2, 3, 4, 5, 6, 6, 7, 7, 7, 8, 4, 23, 13...  \n",
       "4       [1, 2, 2, 3, 4, 5, 6, 6, 7, 7, 7, 8, 24, 21, 7...  \n",
       "...                                                   ...  \n",
       "235790  [1, 2, 2, 3, 4, 5, 6, 6, 7, 7, 7, 8, 4, 14, 16...  \n",
       "235791  [1, 2, 2, 3, 4, 5, 6, 6, 7, 7, 7, 8, 7, 16, 13...  \n",
       "235792  [1, 2, 2, 3, 4, 5, 6, 6, 7, 7, 7, 8, 13, 9, 13...  \n",
       "235793  [1, 2, 2, 3, 4, 5, 6, 6, 3, 12, 2, 16, 21, 13,...  \n",
       "235794  [1, 2, 2, 3, 4, 5, 6, 6, 7, 7, 7, 8, 12, 26, 2...  \n",
       "\n",
       "[233438 rows x 4 columns]"
      ]
     },
     "execution_count": 29,
     "metadata": {},
     "output_type": "execute_result"
    }
   ],
   "source": [
    "df_new_text"
   ]
  },
  {
   "cell_type": "code",
   "execution_count": 31,
   "metadata": {},
   "outputs": [],
   "source": [
    "df_new_text = df_new_text.drop(['tokens', 'URL'], axis= 1)"
   ]
  },
  {
   "cell_type": "code",
   "execution_count": 32,
   "metadata": {},
   "outputs": [
    {
     "data": {
      "text/html": [
       "<div>\n",
       "<style scoped>\n",
       "    .dataframe tbody tr th:only-of-type {\n",
       "        vertical-align: middle;\n",
       "    }\n",
       "\n",
       "    .dataframe tbody tr th {\n",
       "        vertical-align: top;\n",
       "    }\n",
       "\n",
       "    .dataframe thead th {\n",
       "        text-align: right;\n",
       "    }\n",
       "</style>\n",
       "<table border=\"1\" class=\"dataframe\">\n",
       "  <thead>\n",
       "    <tr style=\"text-align: right;\">\n",
       "      <th></th>\n",
       "      <th>label</th>\n",
       "      <th>idx</th>\n",
       "    </tr>\n",
       "  </thead>\n",
       "  <tbody>\n",
       "    <tr>\n",
       "      <th>0</th>\n",
       "      <td>1</td>\n",
       "      <td>[1, 2, 2, 3, 4, 5, 6, 6, 7, 7, 7, 8, 4, 9, 10,...</td>\n",
       "    </tr>\n",
       "    <tr>\n",
       "      <th>1</th>\n",
       "      <td>1</td>\n",
       "      <td>[1, 2, 2, 3, 4, 5, 6, 6, 7, 7, 7, 8, 10, 13, 1...</td>\n",
       "    </tr>\n",
       "    <tr>\n",
       "      <th>2</th>\n",
       "      <td>1</td>\n",
       "      <td>[1, 2, 2, 3, 4, 5, 6, 6, 7, 7, 7, 8, 22, 9, 16...</td>\n",
       "    </tr>\n",
       "    <tr>\n",
       "      <th>3</th>\n",
       "      <td>1</td>\n",
       "      <td>[1, 2, 2, 3, 4, 5, 6, 6, 7, 7, 7, 8, 4, 23, 13...</td>\n",
       "    </tr>\n",
       "    <tr>\n",
       "      <th>4</th>\n",
       "      <td>1</td>\n",
       "      <td>[1, 2, 2, 3, 4, 5, 6, 6, 7, 7, 7, 8, 24, 21, 7...</td>\n",
       "    </tr>\n",
       "    <tr>\n",
       "      <th>...</th>\n",
       "      <td>...</td>\n",
       "      <td>...</td>\n",
       "    </tr>\n",
       "    <tr>\n",
       "      <th>235790</th>\n",
       "      <td>1</td>\n",
       "      <td>[1, 2, 2, 3, 4, 5, 6, 6, 7, 7, 7, 8, 4, 14, 16...</td>\n",
       "    </tr>\n",
       "    <tr>\n",
       "      <th>235791</th>\n",
       "      <td>1</td>\n",
       "      <td>[1, 2, 2, 3, 4, 5, 6, 6, 7, 7, 7, 8, 7, 16, 13...</td>\n",
       "    </tr>\n",
       "    <tr>\n",
       "      <th>235792</th>\n",
       "      <td>1</td>\n",
       "      <td>[1, 2, 2, 3, 4, 5, 6, 6, 7, 7, 7, 8, 13, 9, 13...</td>\n",
       "    </tr>\n",
       "    <tr>\n",
       "      <th>235793</th>\n",
       "      <td>0</td>\n",
       "      <td>[1, 2, 2, 3, 4, 5, 6, 6, 3, 12, 2, 16, 21, 13,...</td>\n",
       "    </tr>\n",
       "    <tr>\n",
       "      <th>235794</th>\n",
       "      <td>1</td>\n",
       "      <td>[1, 2, 2, 3, 4, 5, 6, 6, 7, 7, 7, 8, 12, 26, 2...</td>\n",
       "    </tr>\n",
       "  </tbody>\n",
       "</table>\n",
       "<p>233438 rows × 2 columns</p>\n",
       "</div>"
      ],
      "text/plain": [
       "        label                                                idx\n",
       "0           1  [1, 2, 2, 3, 4, 5, 6, 6, 7, 7, 7, 8, 4, 9, 10,...\n",
       "1           1  [1, 2, 2, 3, 4, 5, 6, 6, 7, 7, 7, 8, 10, 13, 1...\n",
       "2           1  [1, 2, 2, 3, 4, 5, 6, 6, 7, 7, 7, 8, 22, 9, 16...\n",
       "3           1  [1, 2, 2, 3, 4, 5, 6, 6, 7, 7, 7, 8, 4, 23, 13...\n",
       "4           1  [1, 2, 2, 3, 4, 5, 6, 6, 7, 7, 7, 8, 24, 21, 7...\n",
       "...       ...                                                ...\n",
       "235790      1  [1, 2, 2, 3, 4, 5, 6, 6, 7, 7, 7, 8, 4, 14, 16...\n",
       "235791      1  [1, 2, 2, 3, 4, 5, 6, 6, 7, 7, 7, 8, 7, 16, 13...\n",
       "235792      1  [1, 2, 2, 3, 4, 5, 6, 6, 7, 7, 7, 8, 13, 9, 13...\n",
       "235793      0  [1, 2, 2, 3, 4, 5, 6, 6, 3, 12, 2, 16, 21, 13,...\n",
       "235794      1  [1, 2, 2, 3, 4, 5, 6, 6, 7, 7, 7, 8, 12, 26, 2...\n",
       "\n",
       "[233438 rows x 2 columns]"
      ]
     },
     "execution_count": 32,
     "metadata": {},
     "output_type": "execute_result"
    }
   ],
   "source": [
    "df_new_text"
   ]
  },
  {
   "cell_type": "code",
   "execution_count": 33,
   "metadata": {},
   "outputs": [
    {
     "data": {
      "text/plain": [
       "tensor([1, 1, 1,  ..., 1, 0, 1])"
      ]
     },
     "execution_count": 33,
     "metadata": {},
     "output_type": "execute_result"
    }
   ],
   "source": [
    "y = torch.tensor(df_new_text['label'].values)\n",
    "y"
   ]
  },
  {
   "cell_type": "code",
   "execution_count": 34,
   "metadata": {},
   "outputs": [],
   "source": [
    "x = torch.zeros(233438 , 144).long()"
   ]
  },
  {
   "cell_type": "code",
   "execution_count": 35,
   "metadata": {},
   "outputs": [],
   "source": [
    "for i in range(233438):\n",
    "\n",
    "    x[i,:len(df_new_text.iloc[i,1])] = torch.tensor(df_new_text.iloc[i,1]).long()"
   ]
  },
  {
   "cell_type": "code",
   "execution_count": 36,
   "metadata": {},
   "outputs": [
    {
     "data": {
      "text/plain": [
       "torch.Size([233438, 144])"
      ]
     },
     "execution_count": 36,
     "metadata": {},
     "output_type": "execute_result"
    }
   ],
   "source": [
    "x.shape"
   ]
  },
  {
   "cell_type": "code",
   "execution_count": 38,
   "metadata": {},
   "outputs": [],
   "source": [
    "x_train, x_test, y_train, y_test  = train_test_split(x,y, test_size=0.1, random_state=1234 )"
   ]
  },
  {
   "cell_type": "code",
   "execution_count": 39,
   "metadata": {},
   "outputs": [],
   "source": [
    "batch_size = 64\n",
    "\n",
    "dataset_train = torch.utils.data.TensorDataset(x_train, y_train)\n",
    "dataset_test = torch.utils.data.TensorDataset(x_test, y_test)\n",
    "\n",
    "dataloader_train = torch.utils.data.DataLoader(dataset_train, batch_size = batch_size)\n",
    "\n",
    "dataloader_test = torch.utils.data.DataLoader(dataset_test, batch_size = batch_size)"
   ]
  },
  {
   "cell_type": "code",
   "execution_count": 42,
   "metadata": {},
   "outputs": [],
   "source": [
    "vocab_size = 72\n",
    "emb_dim = 128\n",
    "hidden_dim = 128\n"
   ]
  },
  {
   "cell_type": "code",
   "execution_count": 51,
   "metadata": {},
   "outputs": [
    {
     "name": "stdout",
     "output_type": "stream",
     "text": [
      "FishingLstm(\n",
      "  (emb): Embedding(72, 128, padding_idx=0)\n",
      "  (lstm): LSTM(128, 128, num_layers=2, batch_first=True, dropout=0.3)\n",
      "  (clf): Linear(in_features=128, out_features=128, bias=True)\n",
      "  (out): Linear(in_features=128, out_features=1, bias=True)\n",
      ")\n"
     ]
    }
   ],
   "source": [
    "model = FishingLstm(vocab_size, emb_dim, hidden_dim,lstm_layers=2)\n",
    "\n",
    "print(model)"
   ]
  },
  {
   "cell_type": "code",
   "execution_count": 52,
   "metadata": {},
   "outputs": [],
   "source": [
    "model = model.to(device)\n",
    "\n",
    "optimaizer = torch.optim.Adam(model.parameters(), lr = 1e-4)\n",
    "criteria  = torch.nn.BCELoss()\n",
    "\n",
    "criteria = criteria.to(device)\n"
   ]
  },
  {
   "cell_type": "code",
   "execution_count": 53,
   "metadata": {},
   "outputs": [
    {
     "name": "stdout",
     "output_type": "stream",
     "text": [
      "training... : 1\n"
     ]
    },
    {
     "name": "stderr",
     "output_type": "stream",
     "text": [
      "100%|██████████| 3283/3283 [02:14<00:00, 24.38it/s]\n"
     ]
    },
    {
     "name": "stdout",
     "output_type": "stream",
     "text": [
      "evaluating... : 1\n"
     ]
    },
    {
     "name": "stderr",
     "output_type": "stream",
     "text": [
      "100%|██████████| 365/365 [00:03<00:00, 93.07it/s]\n"
     ]
    },
    {
     "name": "stdout",
     "output_type": "stream",
     "text": [
      "epoch: 1, loss_train: 0.4838556132798188, loss_test: 0.036850101218801244, acc_train:  0.7396, acc_test:  0.9923 \n",
      "training... : 2\n"
     ]
    },
    {
     "name": "stderr",
     "output_type": "stream",
     "text": [
      "100%|██████████| 3283/3283 [02:13<00:00, 24.52it/s]\n"
     ]
    },
    {
     "name": "stdout",
     "output_type": "stream",
     "text": [
      "evaluating... : 2\n"
     ]
    },
    {
     "name": "stderr",
     "output_type": "stream",
     "text": [
      "100%|██████████| 365/365 [00:04<00:00, 90.08it/s]\n"
     ]
    },
    {
     "name": "stdout",
     "output_type": "stream",
     "text": [
      "epoch: 2, loss_train: 0.01991756485880146, loss_test: 0.014509380555852023, acc_train:  0.9962, acc_test:  0.9976 \n",
      "training... : 3\n"
     ]
    },
    {
     "name": "stderr",
     "output_type": "stream",
     "text": [
      "100%|██████████| 3283/3283 [02:13<00:00, 24.56it/s]\n"
     ]
    },
    {
     "name": "stdout",
     "output_type": "stream",
     "text": [
      "evaluating... : 3\n"
     ]
    },
    {
     "name": "stderr",
     "output_type": "stream",
     "text": [
      "100%|██████████| 365/365 [00:03<00:00, 94.94it/s]\n"
     ]
    },
    {
     "name": "stdout",
     "output_type": "stream",
     "text": [
      "epoch: 3, loss_train: 0.017080928329167026, loss_test: 0.018632942440039286, acc_train:  0.9971, acc_test:  0.9964 \n",
      "training... : 4\n"
     ]
    },
    {
     "name": "stderr",
     "output_type": "stream",
     "text": [
      "100%|██████████| 3283/3283 [02:14<00:00, 24.42it/s]\n"
     ]
    },
    {
     "name": "stdout",
     "output_type": "stream",
     "text": [
      "evaluating... : 4\n"
     ]
    },
    {
     "name": "stderr",
     "output_type": "stream",
     "text": [
      "100%|██████████| 365/365 [00:03<00:00, 93.66it/s]\n"
     ]
    },
    {
     "name": "stdout",
     "output_type": "stream",
     "text": [
      "epoch: 4, loss_train: 0.015934117700817516, loss_test: 0.015856414664638777, acc_train:  0.9974, acc_test:  0.9976 \n",
      "training... : 5\n"
     ]
    },
    {
     "name": "stderr",
     "output_type": "stream",
     "text": [
      "100%|██████████| 3283/3283 [02:15<00:00, 24.27it/s]\n"
     ]
    },
    {
     "name": "stdout",
     "output_type": "stream",
     "text": [
      "evaluating... : 5\n"
     ]
    },
    {
     "name": "stderr",
     "output_type": "stream",
     "text": [
      "100%|██████████| 365/365 [00:03<00:00, 93.76it/s]\n"
     ]
    },
    {
     "name": "stdout",
     "output_type": "stream",
     "text": [
      "epoch: 5, loss_train: 0.014736720680363705, loss_test: 0.013826498770065707, acc_train:  0.9976, acc_test:  0.9977 \n",
      "training... : 6\n"
     ]
    },
    {
     "name": "stderr",
     "output_type": "stream",
     "text": [
      "100%|██████████| 3283/3283 [02:15<00:00, 24.31it/s]\n"
     ]
    },
    {
     "name": "stdout",
     "output_type": "stream",
     "text": [
      "evaluating... : 6\n"
     ]
    },
    {
     "name": "stderr",
     "output_type": "stream",
     "text": [
      "100%|██████████| 365/365 [00:03<00:00, 91.62it/s]\n"
     ]
    },
    {
     "name": "stdout",
     "output_type": "stream",
     "text": [
      "epoch: 6, loss_train: 0.013938693428128967, loss_test: 0.01226761483950923, acc_train:  0.9977, acc_test:  0.9981 \n",
      "training... : 7\n"
     ]
    },
    {
     "name": "stderr",
     "output_type": "stream",
     "text": [
      "100%|██████████| 3283/3283 [02:15<00:00, 24.29it/s]\n"
     ]
    },
    {
     "name": "stdout",
     "output_type": "stream",
     "text": [
      "evaluating... : 7\n"
     ]
    },
    {
     "name": "stderr",
     "output_type": "stream",
     "text": [
      "100%|██████████| 365/365 [00:03<00:00, 92.45it/s]\n"
     ]
    },
    {
     "name": "stdout",
     "output_type": "stream",
     "text": [
      "epoch: 7, loss_train: 0.013929962293867434, loss_test: 0.012562882881420217, acc_train:  0.9978, acc_test:  0.9980 \n",
      "training... : 8\n"
     ]
    },
    {
     "name": "stderr",
     "output_type": "stream",
     "text": [
      "100%|██████████| 3283/3283 [02:14<00:00, 24.46it/s]\n"
     ]
    },
    {
     "name": "stdout",
     "output_type": "stream",
     "text": [
      "evaluating... : 8\n"
     ]
    },
    {
     "name": "stderr",
     "output_type": "stream",
     "text": [
      "100%|██████████| 365/365 [00:03<00:00, 94.08it/s]\n"
     ]
    },
    {
     "name": "stdout",
     "output_type": "stream",
     "text": [
      "epoch: 8, loss_train: 0.013140722177461745, loss_test: 0.011686468446844142, acc_train:  0.9979, acc_test:  0.9982 \n",
      "training... : 9\n"
     ]
    },
    {
     "name": "stderr",
     "output_type": "stream",
     "text": [
      "100%|██████████| 3283/3283 [02:13<00:00, 24.52it/s]\n"
     ]
    },
    {
     "name": "stdout",
     "output_type": "stream",
     "text": [
      "evaluating... : 9\n"
     ]
    },
    {
     "name": "stderr",
     "output_type": "stream",
     "text": [
      "100%|██████████| 365/365 [00:04<00:00, 91.01it/s]\n"
     ]
    },
    {
     "name": "stdout",
     "output_type": "stream",
     "text": [
      "epoch: 9, loss_train: 0.012596539270745246, loss_test: 0.01196297593542362, acc_train:  0.9979, acc_test:  0.9980 \n",
      "training... : 10\n"
     ]
    },
    {
     "name": "stderr",
     "output_type": "stream",
     "text": [
      "100%|██████████| 3283/3283 [02:13<00:00, 24.55it/s]\n"
     ]
    },
    {
     "name": "stdout",
     "output_type": "stream",
     "text": [
      "evaluating... : 10\n"
     ]
    },
    {
     "name": "stderr",
     "output_type": "stream",
     "text": [
      "100%|██████████| 365/365 [00:04<00:00, 88.92it/s]"
     ]
    },
    {
     "name": "stdout",
     "output_type": "stream",
     "text": [
      "epoch: 10, loss_train: 0.012388701545325781, loss_test: 0.01219540603892648, acc_train:  0.9980, acc_test:  0.9980 \n"
     ]
    },
    {
     "name": "stderr",
     "output_type": "stream",
     "text": [
      "\n"
     ]
    }
   ],
   "source": [
    "n_epoch = 10\n",
    "\n",
    "list_loss_train  = []\n",
    "list_loss_test = []\n",
    "\n",
    "list_acc_train = []\n",
    "list_acc_test = []\n",
    "\n",
    "for epoch in range(1, n_epoch + 1):\n",
    "    list_loss_train_epoch  = []\n",
    "    list_loss_test_epoch = []\n",
    "    list_acc_train_epoch = []\n",
    "    list_acc_test_epoch = []\n",
    "    \n",
    "    model.train()\n",
    "    \n",
    "    print('training... :', epoch)\n",
    "    \n",
    "    for x_batch_train, y_batch_train in  tqdm(dataloader_train):\n",
    "        x_batch_train = x_batch_train.to(device)\n",
    "        y_batch_train = y_batch_train.to(device).float()\n",
    "        \n",
    "        optimaizer.zero_grad()\n",
    "        \n",
    "        y_pred = model(x_batch_train).squeeze()\n",
    "        loss_train = criteria(y_pred, y_batch_train)\n",
    "        accuracy = torch_acc(y_pred, y_batch_train)\n",
    "        \n",
    "        loss_train.backward()\n",
    "        optimaizer.step()\n",
    "        \n",
    "        list_loss_train_epoch.append(loss_train.detach().cpu().item())\n",
    "        list_acc_train_epoch.append(accuracy.detach().cpu().item())\n",
    "        \n",
    "        \n",
    "    model.eval()\n",
    "    \n",
    "    print('evaluating... :', epoch)\n",
    "    \n",
    "        \n",
    "    for x_batch_test, y_batch_test in tqdm(dataloader_test):\n",
    "        x_batch_test = x_batch_test.to(device)\n",
    "        y_batch_test = y_batch_test.to(device).float()\n",
    "        \n",
    "        with torch.no_grad():\n",
    "            y_pred = model(x_batch_test).squeeze()\n",
    "        \n",
    "        loss_test = criteria(y_pred, y_batch_test)\n",
    "        accuracy = torch_acc(y_pred, y_batch_test)\n",
    "        list_loss_test_epoch.append(loss_test.detach().cpu().item())\n",
    "        list_acc_test_epoch.append(accuracy.detach().cpu().item())    \n",
    "    \n",
    "    \n",
    "    loss_train_epoch =  sum(list_loss_train_epoch) / len(list_loss_train_epoch)\n",
    "    loss_test_epoch = sum(list_loss_test_epoch) / len(list_loss_test_epoch)\n",
    "    \n",
    "    acc_train_epoch = sum(list_acc_train_epoch) / len(list_acc_train_epoch)\n",
    "    acc_test_epoch = sum(list_acc_test_epoch) / len(list_acc_test_epoch)\n",
    "    \n",
    "    list_loss_train.append(loss_train_epoch)\n",
    "    list_loss_test.append(loss_test_epoch)\n",
    "\n",
    "    list_acc_train.append(acc_train_epoch)\n",
    "    list_acc_test.append(acc_test_epoch)\n",
    "    \n",
    "    \n",
    "    print(f'epoch: {epoch}, loss_train: {loss_train_epoch}, loss_test: {loss_test_epoch}, acc_train: {acc_train_epoch: .4f}, acc_test: {acc_test_epoch: .4f} ')\n"
   ]
  },
  {
   "cell_type": "code",
   "execution_count": 57,
   "metadata": {},
   "outputs": [
    {
     "data": {
      "image/png": "[encoded data removed]",
      "text/plain": [
       "<Figure size 640x480 with 2 Axes>"
      ]
     },
     "metadata": {},
     "output_type": "display_data"
    }
   ],
   "source": [
    "fig, axes = plt.subplots(1,2)\n",
    "\n",
    "x = list(range(1,len(list_loss_train) + 1))\n",
    "\n",
    "axes[0].plot(x, list_loss_train,color = \"red\", label = \"loss_train\")\n",
    "\n",
    "\n",
    "axes[0].plot(x, list_loss_test,color = \"green\", label = \"loss_test\")\n",
    "\n",
    "axes[1].plot(x, list_acc_train,color = \"red\", label = \"acc_train\")\n",
    "\n",
    "axes[1].plot(x, list_acc_test,color = \"green\", label = \"acc_test\")\n",
    "\n",
    "plt.legend()\n",
    "fig.tight_layout()\n",
    "\n"
   ]
  }
 ],
 "metadata": {
  "kernelspec": {
   "display_name": ".conda",
   "language": "python",
   "name": "python3"
  },
  "language_info": {
   "codemirror_mode": {
    "name": "ipython",
    "version": 3
   },
   "file_extension": ".py",
   "mimetype": "text/x-python",
   "name": "python",
   "nbconvert_exporter": "python",
   "pygments_lexer": "ipython3",
   "version": "3.11.10"
  }
 },
 "nbformat": 4,
 "nbformat_minor": 2
}
